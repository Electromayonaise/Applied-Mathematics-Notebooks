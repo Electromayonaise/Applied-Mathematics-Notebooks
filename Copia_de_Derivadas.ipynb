{
  "cells": [
    {
      "cell_type": "markdown",
      "metadata": {
        "id": "view-in-github",
        "colab_type": "text"
      },
      "source": [
        "<a href=\"https://colab.research.google.com/github/Electromayonaise/Calculus-Notebooks/blob/main/Copia_de_Derivadas.ipynb\" target=\"_parent\"><img src=\"https://colab.research.google.com/assets/colab-badge.svg\" alt=\"Open In Colab\"/></a>"
      ]
    },
    {
      "cell_type": "markdown",
      "metadata": {
        "id": "nRSmik7mnr0u"
      },
      "source": [
        "<img src=http://www.acofi.edu.co/eiei2016/wp-content/uploads/2016/09/Logo-Universidad-ICESI.jpg width=\"300\" height=\"200\" align=\"center\"> \n",
        "\n",
        "#**<big><big>Matemáticas Aplicadas I</big></big><br><small>Depto. Matemáticas & Estadística / Facultad de Ingeniería</small><br><small>_*Cuaderno 8*_ (Derivadas, razón de cambio y continuidad). </small>**\n",
        "\n",
        "1. **Lectura sugerida del texto Sloughter. Calculus from Approximation to Theory (2020)**: Sección  3.2 Derivadas y razón de cambio (A partir de la definición 3.2.1.\n",
        "\n",
        "2. **Lectura sugerida del texto de Lax. Calculus With Applications Approximation to Theory (2014)**: Secciones 3.1 y 3.1a.\n",
        "\n",
        "**<u>Agenda</u>**\n",
        "* *Problema de la recta tangente - Razón de cambio*\n"
      ]
    },
    {
      "cell_type": "markdown",
      "metadata": {
        "id": "SuPII-86bZTG"
      },
      "source": [
        "## Funciones lineales y afines.\n",
        "\n",
        "Llamamos a una función $𝑓 ∶ ℝ → ℝ$ lineal si hay una constante $𝑚$ tal que $𝑓 (𝑥) = 𝑚𝑥 $ para todos los valores de $𝑥$. Gráficamente, las funciones lineales son funciones cuyas gráficas son líneas rectas que pasan por el origen. Llamamos a una función $𝑓 ∶ ℝ → ℝ$ afín si hay constantes $𝑚$ y $𝑏$ tales que $𝑓 (𝑥) = 𝑚𝑥 + 𝑏$ para todos los valores de $𝑥$."
      ]
    },
    {
      "cell_type": "markdown",
      "metadata": {
        "id": "LxoAKrEXUCQ9"
      },
      "source": [
        "# 1. El problema de la recta tangente\n",
        "El problema de encontrar la recta tangente para la gráfica de una función dada $𝑓$ en un punto\n",
        "$(𝑥_0, 𝑦_0)$ es realmente el problema de encontrar la función afín $𝑇$ que mejor aproxima $𝑓$ para puntos cercanos a $𝑥_0$. La siguiente applet muestra la construcciòn del concepto de derivada a partir de la idea de aproximación a la pendiente de la recta tangente."
      ]
    },
    {
      "cell_type": "code",
      "execution_count": null,
      "metadata": {
        "colab": {
          "base_uri": "https://localhost:8080/",
          "height": 501
        },
        "id": "8HZ1TEWWrC7u",
        "outputId": "ab52b59f-5350-4fde-94f4-3845d2fd2ed4"
      },
      "outputs": [
        {
          "output_type": "display_data",
          "data": {
            "text/html": [
              "\n",
              "        <iframe\n",
              "            width=\"1020px\"\n",
              "            height=\"480px\"\n",
              "            src=\"https://www.geogebra.org/classic/hjefrbfn\"\n",
              "            frameborder=\"0\"\n",
              "            allowfullscreen\n",
              "        ></iframe>\n",
              "        "
            ]
          },
          "metadata": {}
        }
      ],
      "source": [
        "#@title El problema de la recta tangente { display-mode: \"form\" }\n",
        "\n",
        "import IPython.display as IP\n",
        "\n",
        "iframe = IP.IFrame(\n",
        "  src=\"https://www.geogebra.org/classic/hjefrbfn\",\n",
        "  width=\"1020px\",\n",
        "  height=\"480px\" \n",
        "  )\n",
        "\n",
        "IP.display_html(iframe)"
      ]
    },
    {
      "cell_type": "markdown",
      "source": [
        "Como se puede ver en el applet de geogebra la proximaciòn de la pendiente de la recta tangente se puede hacer por dos direcciones. Como se puede ver a continuación.\n",
        "\n",
        "$$Df^+(x) = \\frac{f(x+h)-f(x)}{h}$$\n",
        "\n",
        "$$Df^-(x) = \\frac{f(x-h)-f(x)}{-h}$$\n",
        "\n",
        "sin embargo, la mejor aproximación es la que sigue. Esta se calcula como el punto medio de las aproximaciones anteriores. \n",
        "\n",
        "$$Df(x)=0.5*(Df^{+}(x)+Df^{-}(x))=\\frac{f(x+h)-f(x-h)}{2h}$$"
      ],
      "metadata": {
        "id": "Za5sTdWrQl6w"
      }
    },
    {
      "cell_type": "code",
      "source": [
        "def Der_derecha(f,x,h=0.0001):        # Definición de derivada haciendo uso de la aproximación por derecha.\n",
        "  return (f(x+h)-f(x))/h"
      ],
      "metadata": {
        "id": "okbgRo9pTldY"
      },
      "execution_count": null,
      "outputs": []
    },
    {
      "cell_type": "code",
      "source": [
        "def Der_izquierda(f,x,h=-0.0001):     # Definición de derivada haciendo uso de la aproximación por izquierda.\n",
        "  return (f(x+h)-f(x))/h"
      ],
      "metadata": {
        "id": "HpWdI6dEUVnm"
      },
      "execution_count": null,
      "outputs": []
    },
    {
      "cell_type": "code",
      "source": [
        "Der_derecha(lambda x: (x**2-3*x)/((x-1)**7), 2)"
      ],
      "metadata": {
        "colab": {
          "base_uri": "https://localhost:8080/"
        },
        "id": "MH7_c6ryTx77",
        "outputId": "9015a519-9dab-487c-bc85-c9ea663d8d7c"
      },
      "execution_count": null,
      "outputs": [
        {
          "output_type": "execute_result",
          "data": {
            "text/plain": [
              "14.99380188955346"
            ]
          },
          "metadata": {},
          "execution_count": 5
        }
      ]
    },
    {
      "cell_type": "code",
      "source": [
        "Der_izquierda(lambda x: (x**2-3*x)/((x-1)**7),2)\n"
      ],
      "metadata": {
        "colab": {
          "base_uri": "https://localhost:8080/"
        },
        "id": "gFPToAZ2UMyJ",
        "outputId": "eff09202-dd4a-44f8-b57e-f32843556246"
      },
      "execution_count": null,
      "outputs": [
        {
          "output_type": "execute_result",
          "data": {
            "text/plain": [
              "15.006201890472859"
            ]
          },
          "metadata": {},
          "execution_count": 6
        }
      ]
    },
    {
      "cell_type": "code",
      "source": [
        "def Der_promedio(f,x):                 # derivada promedio Izquierda y Derecha\n",
        "  return 0.5*(Der_derecha(f,x)+Der_izquierda(f,x))"
      ],
      "metadata": {
        "id": "DBIrsGz8VCsc"
      },
      "execution_count": null,
      "outputs": []
    },
    {
      "cell_type": "code",
      "source": [
        "Der_promedio(lambda x: (x**2-3*x)/((x-1)**7),2)\n"
      ],
      "metadata": {
        "colab": {
          "base_uri": "https://localhost:8080/"
        },
        "id": "d-JYspj3VXkf",
        "outputId": "694bc470-5aa6-4c99-9dcd-84581c09010a"
      },
      "execution_count": null,
      "outputs": [
        {
          "output_type": "execute_result",
          "data": {
            "text/plain": [
              "15.00000189001316"
            ]
          },
          "metadata": {},
          "execution_count": 9
        }
      ]
    },
    {
      "cell_type": "markdown",
      "source": [
        "# Conclusión\n",
        "\n",
        "Se puede observar que la mejor aproximación de la pendiente de la recta tangente a la curva $f(x)=x^4$ en $x=2$ es la que considera la función \n",
        "\n",
        "```python\n",
        "Der_promedio(lambda x: x**4,2)\n",
        "```\n",
        "\n",
        " "
      ],
      "metadata": {
        "id": "cBG_1j72WAcR"
      }
    },
    {
      "cell_type": "markdown",
      "metadata": {
        "id": "WERRO_mXrAx0"
      },
      "source": [
        "\n",
        "# 2. Razón de cambio\n",
        "\n",
        "Vamos a estudiar la relación entre el anterior constructo geométrico y el concepto de razón de cambio. Supongamos que un objeto es lanzado desde lo alto de la torre inclinada de pisa.\n",
        "\n",
        "\n",
        "<p><a href=\"https://commons.wikimedia.org/wiki/File:PisaGravedad.gif#/media/Archivo:PisaGravedad.gif\"><img src=\"https://upload.wikimedia.org/wikipedia/commons/7/73/PisaGravedad.gif\" alt=\"PisaGravedad.gif\"height=\"400\" width=\"317\"></a><br>\n",
        "\n",
        "Galileo Galilei  descubrió que si un objeto se deja caer desde una altura inicial $s_0$, ignorando los efectos de la resistencia del aire, entonces su altura, sobre el suelo en metros después de $𝑡$ segundos sería\n",
        "$s = s_0 - \\frac{1}{2}9.8𝑡^2$. Por ejemplo, qué altura tiene el objeto en el momento $𝑡 = 1$ y en el momento $𝑡 = 2$?\n",
        "\n"
      ]
    },
    {
      "cell_type": "code",
      "execution_count": null,
      "metadata": {
        "colab": {
          "base_uri": "https://localhost:8080/"
        },
        "id": "GwCOcm9UoK4z",
        "outputId": "ee686745-20b7-4ab8-c188-aa8b19783a82"
      },
      "outputs": [
        {
          "output_type": "stream",
          "name": "stdout",
          "text": [
            "51.5 altura 1,  36.8  altura 2\n"
          ]
        }
      ],
      "source": [
        "import numpy as np\n",
        "import matplotlib.pyplot as plt\n",
        "\n",
        "def s(t,h0):\n",
        "  s = h0 - 0.5*9.8*t**2\n",
        "  \n",
        "  return s\n",
        "\n",
        "h0 = 56.4\n",
        "t0 = 1\n",
        "t1 = 2\n",
        "altura1 = s(t0,h0)\n",
        "altura2 = s(t1,h0)\n",
        "\n",
        "print(altura1, 'altura 1, ', altura2, ' altura 2')\n"
      ]
    },
    {
      "cell_type": "markdown",
      "source": [
        "# Velocidad promedio"
      ],
      "metadata": {
        "id": "E6ZPY6BufpfS"
      }
    },
    {
      "cell_type": "code",
      "source": [
        "deltah = altura1 - altura2\n",
        "deltat = t0 - t1\n",
        "\n",
        "v_ = deltah/deltat\n",
        "\n",
        "print(v_, 'velocidad promedio m/s')"
      ],
      "metadata": {
        "colab": {
          "base_uri": "https://localhost:8080/"
        },
        "id": "H0YPRopBfj9L",
        "outputId": "1d7df638-3b46-4c52-90bf-41d53b2394ae"
      },
      "execution_count": null,
      "outputs": [
        {
          "output_type": "stream",
          "name": "stdout",
          "text": [
            "-14.700000000000003 velocidad promedio m/s\n"
          ]
        }
      ]
    },
    {
      "cell_type": "markdown",
      "source": [
        "# Cálculo de la derivada de forma más precisa. "
      ],
      "metadata": {
        "id": "qxEJk52fgDzx"
      }
    },
    {
      "cell_type": "code",
      "source": [
        "y = np.linspace(1,0,1000,endpoint=False)\n",
        "\n",
        "derivada_s = [v_]\n",
        "\n",
        "for dh in y:                                          # Derivada de la función posición en el instante t0. \n",
        "  derivada_s.append((s(t0+dh,h0)-s(t0,h0))/dh)        # Se almacenan todos los valores de la derivada cuando dh tiende a cero. \n",
        "\n",
        "print(derivada_s[900], 'm/s')\n",
        "print(derivada_s[1000], 'm/s') "
      ],
      "metadata": {
        "colab": {
          "base_uri": "https://localhost:8080/"
        },
        "id": "O0sNvD0zgExm",
        "outputId": "da387e20-1fd7-4434-82a7-bb03bb0b3eac"
      },
      "execution_count": null,
      "outputs": [
        {
          "output_type": "stream",
          "name": "stdout",
          "text": [
            "-10.29490000000001 m/s\n",
            "-9.804899999998886 m/s\n"
          ]
        }
      ]
    },
    {
      "cell_type": "markdown",
      "metadata": {
        "id": "KG-IERWyqaDS"
      },
      "source": [
        "Ahora bien si quisieramos generalizar la expresión de la velocidad promedio a cualquier intervalo de tiempo podríamos empezar por suponer que si $𝑦 = s(𝑥)$, entonces $Δ𝑥$ denota un incremento en $𝑥$ y  $Δ𝑦$ para el cambio en  $𝑦$ correspondiente a un cambio en $𝑥$ de $Δ𝑥$. Entonces, \n",
        "\n",
        "$$\\bar{v}=\\frac{\\Delta y}{\\Delta x}=\\frac{s(x+\\Delta x) - s(x)}{\\Delta x}$$\n",
        "\n",
        "Introduciendo la siguiente notación $Δ𝑥 = ℎ$ podemos escribir\n",
        "\n",
        "$$\\bar{v}=\\frac{\\Delta y}{\\Delta x}=\\frac{s(x+h) - s(x)}{h}.$$"
      ]
    },
    {
      "cell_type": "markdown",
      "metadata": {
        "id": "WGj2mxvPuaau"
      },
      "source": [
        "# Ejercicio.\n",
        "\n",
        "* Intente relacionar el ejemplo anterior con el applet de GeoGebra, ¿quién sería ahora la función $f$?, los puntos $A$ y $P$ cuáles coordenadas podrían tener? \n",
        "\n",
        "* Si se le pide ahora la velocidad instantánea en $t=1$, qué relación tendría con la fórmula de la velocidad promedio?como podría estimarla desde el punto de vista geométrico o algebráico?"
      ]
    },
    {
      "cell_type": "markdown",
      "metadata": {
        "id": "UXX6OSWtvTwO"
      },
      "source": [
        "**NOTA:** En la medida que el incremento $h$ de la variable independiente tienda a cero, la **velocidad promedio** se estará acercando a un límite que será llamado **velocidad instantánea**. Este proceso de llegar a la velocidad a partir de la posición como función del tiempo no es mas que un ejemplo del proceso de **diferenciación**."
      ]
    },
    {
      "cell_type": "markdown",
      "metadata": {
        "id": "OsFZBbQuv5NB"
      },
      "source": [
        "# 3. Diferenciabilidad\n",
        "\n",
        "**Definición**  Una función $f$ se denomina *diferenciable* en un punto $a$ si el cociente $$\\frac{f(a+h) - f(a)}{h}$$ tiende a un límite cuando $h$ tiende a $0$. Este límite, que es en sí mismo una función de la variable independiente, se denomina *derivada* de $f$ en $a$ y se puede denotar $f'(a)$:\n",
        "\n",
        "\\begin{equation}\n",
        "f'(a) =\\lim_{h\\rightarrow 0} \\frac{f(a+h) - f(a)}{h} \\quad (1)\n",
        "\\end{equation}"
      ]
    },
    {
      "cell_type": "markdown",
      "metadata": {
        "id": "6nzn0UCbA96N"
      },
      "source": [
        "# 4. Función afin\n",
        "\n",
        "**Definición** La función afín $$\\ell(x)=f(a)+f'(a)(x-a)$$ es la aproximación lineal de la función $f$ en $a$. "
      ]
    },
    {
      "cell_type": "markdown",
      "source": [
        "## Teorema. Derivada de sumas, productos y cocientes.\n",
        "\n",
        "Sean  $𝑓$ y $g$ funciones diferenciables en $x$ y $c$ una constante. Entonces $f+g$, $cf$, $fg$ y $f/g$ son funciones diferenciables en $x$ y\n",
        "\n",
        "$$ (f+g)'(x)=f'(x)+g'(x)$$\n",
        "$$ (cf)'(x) = c f'(x)$$\n",
        "$$ (fg)'(x) = f'(x)g(x) + f(x)g'(x)$$\n",
        "$$ \\left(\\frac{f}{g}\\right)(x) = \\frac{f'(x)g(x)-f(x)g'(x)}{g^2(x)}$$\n"
      ],
      "metadata": {
        "id": "ynXWcsUZgrBf"
      }
    },
    {
      "cell_type": "markdown",
      "source": [
        "*Demostración*. Aunque las demostraciones son realmente sencillas y basadas en la definición de derivada utilizando artifícios algebráicos, solo vamos a mostrar el primer resultado. \n",
        "\n",
        "$$ (f+g)'(x)=\\lim_{h\\rightarrow 0} \\frac{f(x+h)+g(x+h)-(f(x)+g(x))}{h}$$\n",
        "\n",
        "$$=\\lim_{h\\rightarrow 0} \\frac{f(x+h)-f(x)+g(x+h)-g(x)}{h}=\\lim_{h\\rightarrow 0} \\frac{f(x+h)-f(x)}{h}+\\lim_{h\\rightarrow 0}\\frac{g(x+h)-g(x)}{h}=f'(x)+g'(x)_\n",
        "\\square$$"
      ],
      "metadata": {
        "id": "kadRzjQ-g4IL"
      }
    },
    {
      "cell_type": "markdown",
      "source": [
        "Antes de considerar algunos ejemplos, determinemos a partir de la regla del producto la derivada de una potencia, es decir, de un monomio de la forma $x^n$. Por ejemplo, note que $f(x)=x^2=x x$ luego aplicando la regla del producto obtenemos que $f'(x) = (x)'x+x(x)'=x + x= 2x.$ Similarmente, como $h(x)=x^3=x^2 x$ entonces $h'(x) = (x^2)'x+x^2(x)'=2x x + x^2=3x^2$. ¿Puede usted inferir en este punto cual sería una fórmula general para $g(x)=x^n$?\n"
      ],
      "metadata": {
        "id": "0ZudQO6fg-3j"
      }
    },
    {
      "cell_type": "markdown",
      "source": [
        "Vamos ahora a mostrar utilizando la definición y la noción de orden de aproximación que su intuición es correcta. Note que\n",
        "\n",
        "$$ (x^n)'=\\lim_{h\\rightarrow 0} \\frac{(x+h)^n-x^n}{h}$$\n",
        "\n",
        "Ahora bien, se puede mostrar que $(𝑥 + ℎ)^𝑛 = 𝑥^𝑛 + 𝑛𝑥^{𝑛−1}ℎ + 𝑅(ℎ)$ donde $𝑅(ℎ)$ representa los terminos restantes de la expansión [binomial de Newton](https://en.wikipedia.org/wiki/Binomial_theorem). Resulta importante tener presente que cada termino en $𝑅(ℎ)$ tiene un factor de $h$ elevado a una potencia mayor o igual que 2. Luego, retomando la expresión de la derivada anterior\n",
        "\n",
        "$$ (x^n)'=\\lim_{h\\rightarrow 0} \\frac{(x+h)^n-x^n}{h}=\\lim_{h\\rightarrow 0}  \\frac{x^n+𝑛𝑥^{𝑛−1}ℎ+R(h)-x^n}{h}$$\n",
        "\n",
        "$$ = \\lim_{h\\rightarrow 0}  \\frac{𝑛𝑥^{𝑛−1}ℎ+R(h)}{h} = \\lim_{h\\rightarrow 0} 𝑛𝑥^{𝑛−1} + \\frac{R(h)}{h}=𝑛𝑥^{𝑛−1}+\\lim_{h\\rightarrow 0}  \\frac{R(h)}{h}$$\n",
        "\n",
        "De donde obtenemos finalmente que $(x^n)'= 𝑛𝑥^{𝑛−1} $."
      ],
      "metadata": {
        "id": "ejFtbbFvhE3A"
      }
    },
    {
      "cell_type": "code",
      "source": [
        "#@title Ejemplos (Recurso CAS para hallar derivadas) { display-mode: \"form\" }\n",
        "\n",
        "import IPython.display as IP\n",
        "\n",
        "iframe = IP.IFrame(\n",
        "  src=\"https://www.geogebra.org/classic/wmyj4wkf\",\n",
        "  width=\"1020px\",\n",
        "  height=\"480px\" \n",
        "  )\n",
        "\n",
        "IP.display_html(iframe)"
      ],
      "metadata": {
        "colab": {
          "base_uri": "https://localhost:8080/",
          "height": 501
        },
        "id": "riB6EZ9rhQSy",
        "outputId": "e3188775-dce1-4ee7-9278-1684940bd2ad"
      },
      "execution_count": null,
      "outputs": [
        {
          "output_type": "display_data",
          "data": {
            "text/html": [
              "\n",
              "        <iframe\n",
              "            width=\"1020px\"\n",
              "            height=\"480px\"\n",
              "            src=\"https://www.geogebra.org/classic/wmyj4wkf\"\n",
              "            frameborder=\"0\"\n",
              "            allowfullscreen\n",
              "        ></iframe>\n",
              "        "
            ]
          },
          "metadata": {}
        }
      ]
    },
    {
      "cell_type": "markdown",
      "metadata": {
        "id": "WeOCDyxZx2Iy"
      },
      "source": [
        "# 5. Taller\n",
        "\n",
        "1. Utilizando la definición de derivada (1) y tambien el Código de phyton suministrado en el presente cuaderno, encuentre la derivada de cada una de las siguientes funciones: constante, lineal y cuadrática.Será necesario darle valores a los parámetros. Use tambien el segundo Applet de GeoGebra para calcular dichas derivadas y compare sus respuestas.\n",
        "\n",
        "*   $f(x)=c$ donde $c$ es una constante.\n",
        "*   $f(x)=mx+b$ donde $m$ y $b$ son constantes.\n",
        "*   $f(x)=ax^2+bx+c$ donde $a,b,c$ son constantes.\n",
        "\n",
        "2. Explique por qué la definición (1) permite concluir que la pendiente de las rectas secantes que pasan por los puntos $(a,f(a))$ y $(a+h,f(a+h))$ tienden a $f'(a)$ cuando $h\\rightarrow 0$.\n",
        "\n",
        "3. En terminos geométricos, ¿cuándo no existe la derivada de una función en un punto? Explore sus ideas con la función $f(x)=|x|$ en $x=0$.\n",
        "\n",
        "4. Decida sobre la continuidad y la diferenciabilidad de cada de las siguientes funciones: $g(x)=|x-2|$ y $f(x)=(x-2)^{1/3}$ en $x=2$.\n",
        "\n",
        "5. Suponga que para una determinada ciudad, cuando la población de la ciudad es $𝑝$, la cantidad total de residuos depositados en el vertedero de la ciudad cada día viene dada por expresión $𝑊 = 5\\sqrt{p}$ kilos por día. Además, suponga que la población de la ciudad está creciendo de modo que $𝑡$ años a partir de ahora la población será\n",
        "$$𝑝 = 100000 (1 + 0.04𝑡 + 0.008𝑡^2).$$\n",
        "Usted debe encontrar la razón o tasa de cambio de $𝑊$ con respecto a $𝑡$ dentro de cinco años.\n",
        "\n",
        "6. Considere el problema de encontrar una aproximación afin de de función $f(x) = sen(x)$ alrededor del $0$. Si $f(0) = 0$, donde $T(x) = mx$ y \n",
        "\n",
        "$$R(h) = f(h) − T(h) = sin(h) − mh$$.\n",
        "\n",
        "* Grafique $|R(h)|$ en el intervalo $[−0.2, 0.2]$ for $m = 0.0, 0.2, 0.4, 2.0$.\n",
        "* ¿que valor de $m$ proporciona el menor error de aproximación? **Ayuda:** calcule el siguiente límite $$\\lim_{h→0}\\frac{R(h)}{h}$$ y concluya a partir del resultado.\n",
        "\n",
        "7. Encuentre la derivada de las siguientes funciones y use el resultado para encontrar la mejor aproximación afin de cada una de las funciones en $x=1$\n",
        "\n",
        "* $f(x) = (2x + 1)^2$\n",
        "\n",
        "* $g(x) = (x^2 − 3)^3$\n",
        "\n",
        "* $g(x) = \\frac{x−3}{2x+5}$\n",
        "\n",
        "* $h(x) = \\frac{2x−x^2}{x^2+1}$\n",
        "\n",
        "* $f(x) = \\frac{3x^4−8x+1}{2x^3+6}$\n",
        "\n",
        "* $s(x) = (x^2 − 6x + 3)(8x^4 + 6x^2 − 7)$\n",
        "\n",
        "8. Sea $g (x) = x^2 \\sin\\left(\\frac{\\pi}{x}\\right)$, $g (0) = 0$.\n",
        "\n",
        "  a. Dibuje la gráfica de $g$ en $−1 ≤ x ≤ 1$.\n",
        "\n",
        "  b. Muestre o argumente por qué $g$ es continua en $0$.\n",
        "  \n",
        "  c. Demuestre o argumente por qué $g$ es derivable en $0$ y encuentre $g' (0)$.\n",
        "\n",
        "  d. Si considera ahora la función $h (x) = x \\sin\\left(\\frac{\\pi}{x}\\right)$, $h (0) = 0$, puede concluir que $h$ es continua en 0? diferenciable en 0?"
      ]
    }
  ],
  "metadata": {
    "colab": {
      "provenance": [],
      "include_colab_link": true
    },
    "kernelspec": {
      "display_name": "Python 3",
      "language": "python",
      "name": "python3"
    },
    "language_info": {
      "codemirror_mode": {
        "name": "ipython",
        "version": 3
      },
      "file_extension": ".py",
      "mimetype": "text/x-python",
      "name": "python",
      "nbconvert_exporter": "python",
      "pygments_lexer": "ipython3",
      "version": "3.7.4"
    }
  },
  "nbformat": 4,
  "nbformat_minor": 0
}