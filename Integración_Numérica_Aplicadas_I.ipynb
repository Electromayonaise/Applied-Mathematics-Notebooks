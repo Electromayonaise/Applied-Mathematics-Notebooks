{
  "nbformat": 4,
  "nbformat_minor": 0,
  "metadata": {
    "colab": {
      "provenance": [],
      "include_colab_link": true
    },
    "kernelspec": {
      "name": "python3",
      "display_name": "Python 3"
    },
    "widgets": {
      "application/vnd.jupyter.widget-state+json": {
        "f28e152ba2d14fa183ff0768fc031302": {
          "model_module": "@jupyter-widgets/controls",
          "model_name": "VBoxModel",
          "model_module_version": "1.5.0",
          "state": {
            "_view_name": "VBoxView",
            "_dom_classes": [
              "widget-interact"
            ],
            "_model_name": "VBoxModel",
            "_view_module": "@jupyter-widgets/controls",
            "_model_module_version": "1.5.0",
            "_view_count": null,
            "_view_module_version": "1.5.0",
            "box_style": "",
            "layout": "IPY_MODEL_2f3c5d2b71a64e2a96984ab51a62cdc3",
            "_model_module": "@jupyter-widgets/controls",
            "children": [
              "IPY_MODEL_2704e1d0f2024e51915c2390bf55a1cd",
              "IPY_MODEL_1029aec83d6849e88d45453f67fd3f73"
            ]
          }
        },
        "2f3c5d2b71a64e2a96984ab51a62cdc3": {
          "model_module": "@jupyter-widgets/base",
          "model_name": "LayoutModel",
          "model_module_version": "1.2.0",
          "state": {
            "_view_name": "LayoutView",
            "grid_template_rows": null,
            "right": null,
            "justify_content": null,
            "_view_module": "@jupyter-widgets/base",
            "overflow": null,
            "_model_module_version": "1.2.0",
            "_view_count": null,
            "flex_flow": null,
            "width": null,
            "min_width": null,
            "border": null,
            "align_items": null,
            "bottom": null,
            "_model_module": "@jupyter-widgets/base",
            "top": null,
            "grid_column": null,
            "overflow_y": null,
            "overflow_x": null,
            "grid_auto_flow": null,
            "grid_area": null,
            "grid_template_columns": null,
            "flex": null,
            "_model_name": "LayoutModel",
            "justify_items": null,
            "grid_row": null,
            "max_height": null,
            "align_content": null,
            "visibility": null,
            "align_self": null,
            "height": null,
            "min_height": null,
            "padding": null,
            "grid_auto_rows": null,
            "grid_gap": null,
            "max_width": null,
            "order": null,
            "_view_module_version": "1.2.0",
            "grid_template_areas": null,
            "object_position": null,
            "object_fit": null,
            "grid_auto_columns": null,
            "margin": null,
            "display": null,
            "left": null
          }
        },
        "2704e1d0f2024e51915c2390bf55a1cd": {
          "model_module": "@jupyter-widgets/controls",
          "model_name": "IntSliderModel",
          "model_module_version": "1.5.0",
          "state": {
            "_view_name": "IntSliderView",
            "style": "IPY_MODEL_5b82256d5ee84c71aa43cb2e8cd9078b",
            "_dom_classes": [],
            "description": "n",
            "step": 1,
            "_model_name": "IntSliderModel",
            "orientation": "horizontal",
            "max": 10,
            "_view_module": "@jupyter-widgets/controls",
            "_model_module_version": "1.5.0",
            "value": 6,
            "_view_count": null,
            "disabled": false,
            "_view_module_version": "1.5.0",
            "min": 1,
            "continuous_update": true,
            "readout_format": "d",
            "description_tooltip": null,
            "readout": true,
            "_model_module": "@jupyter-widgets/controls",
            "layout": "IPY_MODEL_51af8d79cc39428ea357a2c72bf62240"
          }
        },
        "1029aec83d6849e88d45453f67fd3f73": {
          "model_module": "@jupyter-widgets/output",
          "model_name": "OutputModel",
          "model_module_version": "1.0.0",
          "state": {
            "_view_name": "OutputView",
            "msg_id": "",
            "_dom_classes": [],
            "_model_name": "OutputModel",
            "outputs": [
              {
                "output_type": "display_data",
                "metadata": {
                  "tags": []
                },
                "text/plain": "0.2546296296296296"
              }
            ],
            "_view_module": "@jupyter-widgets/output",
            "_model_module_version": "1.0.0",
            "_view_count": null,
            "_view_module_version": "1.0.0",
            "layout": "IPY_MODEL_78e36647e988431890d87f9a42855e84",
            "_model_module": "@jupyter-widgets/output"
          }
        },
        "5b82256d5ee84c71aa43cb2e8cd9078b": {
          "model_module": "@jupyter-widgets/controls",
          "model_name": "SliderStyleModel",
          "model_module_version": "1.5.0",
          "state": {
            "_view_name": "StyleView",
            "handle_color": null,
            "_model_name": "SliderStyleModel",
            "description_width": "",
            "_view_module": "@jupyter-widgets/base",
            "_model_module_version": "1.5.0",
            "_view_count": null,
            "_view_module_version": "1.2.0",
            "_model_module": "@jupyter-widgets/controls"
          }
        },
        "51af8d79cc39428ea357a2c72bf62240": {
          "model_module": "@jupyter-widgets/base",
          "model_name": "LayoutModel",
          "model_module_version": "1.2.0",
          "state": {
            "_view_name": "LayoutView",
            "grid_template_rows": null,
            "right": null,
            "justify_content": null,
            "_view_module": "@jupyter-widgets/base",
            "overflow": null,
            "_model_module_version": "1.2.0",
            "_view_count": null,
            "flex_flow": null,
            "width": null,
            "min_width": null,
            "border": null,
            "align_items": null,
            "bottom": null,
            "_model_module": "@jupyter-widgets/base",
            "top": null,
            "grid_column": null,
            "overflow_y": null,
            "overflow_x": null,
            "grid_auto_flow": null,
            "grid_area": null,
            "grid_template_columns": null,
            "flex": null,
            "_model_name": "LayoutModel",
            "justify_items": null,
            "grid_row": null,
            "max_height": null,
            "align_content": null,
            "visibility": null,
            "align_self": null,
            "height": null,
            "min_height": null,
            "padding": null,
            "grid_auto_rows": null,
            "grid_gap": null,
            "max_width": null,
            "order": null,
            "_view_module_version": "1.2.0",
            "grid_template_areas": null,
            "object_position": null,
            "object_fit": null,
            "grid_auto_columns": null,
            "margin": null,
            "display": null,
            "left": null
          }
        },
        "78e36647e988431890d87f9a42855e84": {
          "model_module": "@jupyter-widgets/base",
          "model_name": "LayoutModel",
          "model_module_version": "1.2.0",
          "state": {
            "_view_name": "LayoutView",
            "grid_template_rows": null,
            "right": null,
            "justify_content": null,
            "_view_module": "@jupyter-widgets/base",
            "overflow": null,
            "_model_module_version": "1.2.0",
            "_view_count": null,
            "flex_flow": null,
            "width": null,
            "min_width": null,
            "border": null,
            "align_items": null,
            "bottom": null,
            "_model_module": "@jupyter-widgets/base",
            "top": null,
            "grid_column": null,
            "overflow_y": null,
            "overflow_x": null,
            "grid_auto_flow": null,
            "grid_area": null,
            "grid_template_columns": null,
            "flex": null,
            "_model_name": "LayoutModel",
            "justify_items": null,
            "grid_row": null,
            "max_height": null,
            "align_content": null,
            "visibility": null,
            "align_self": null,
            "height": null,
            "min_height": null,
            "padding": null,
            "grid_auto_rows": null,
            "grid_gap": null,
            "max_width": null,
            "order": null,
            "_view_module_version": "1.2.0",
            "grid_template_areas": null,
            "object_position": null,
            "object_fit": null,
            "grid_auto_columns": null,
            "margin": null,
            "display": null,
            "left": null
          }
        }
      }
    }
  },
  "cells": [
    {
      "cell_type": "markdown",
      "metadata": {
        "id": "view-in-github",
        "colab_type": "text"
      },
      "source": [
        "<a href=\"https://colab.research.google.com/github/Electromayonaise/Calculus-Notebooks/blob/main/Integraci%C3%B3n_Num%C3%A9rica_Aplicadas_I.ipynb\" target=\"_parent\"><img src=\"https://colab.research.google.com/assets/colab-badge.svg\" alt=\"Open In Colab\"/></a>"
      ]
    },
    {
      "cell_type": "markdown",
      "metadata": {
        "id": "rzMQmfVwYmNV"
      },
      "source": [
        "#**Sumas de Riemann.**\n",
        "**Curso: Matemáticas Aplicadas I**  \n",
        "**Profesor: Luis Miguel Solarte - Luis Fernando Azcárate Mesa**  \n",
        "\n",
        "##Conceptos generales\n",
        "En esta sección se mostraran algunas forma de calcular sumas de Riemann, en general dada una partición $a=x_0 < x_1 \\cdots < x_n=b$ del intervalo $[a,b]$ escogemos etiquetas $c_{i} \\in [x_{i-1},x_{i}]$ en cada subintervalo, tomamos $\\Delta_i = x_{i+1} -x_i$ la suma de Riemann asociada a esta partición de la función $f$ se define como: \n",
        "$$f(c_1)(x_1-x_0)+ \\cdots +f(c_n)(x_n-x_{n-1})=\\sum_{i=1}^{n} f(c_i)\\Delta_i$$  \n",
        "Decimos que una partición es regular si los puntos $x_i$ esta igualmente espaciados, en este caso tenemos que la longitud de los subintervalos es $\\Delta_i = \\frac{b-a}{n}$.\n"
      ]
    },
    {
      "cell_type": "markdown",
      "metadata": {
        "id": "1KTUTI8AxlfU"
      },
      "source": [
        "\n",
        "\n",
        "##**Sumas por izquierda y derecha**\n",
        "Para una partición regular podemos tomar los puntos $c_i$ como los extremos izquierdos del intervalo $[x_{i-1},x_{i}]$ en este caso $c_1=x_0,c_2=x_1 \\cdots c_i=x_{i-1} \\cdots c_n=x_{n-1}$ donde \n",
        "$i=0 \\cdots i=n-1$, llamamos a la suma correspondiente  __*suma de Riemann por la izquierda*__ $S_I$\n",
        "\n",
        "$$S_{I}=f(x_0)(x_1-x_0)+ \\cdots +f(x_{n-1})(x_n-x_{n-1})=\\Delta \\ \\sum_{i=0}^{n-1} f(x_i)$$ donde $\\Delta=\\frac{b-a}{n}$.\n",
        "\n",
        "Si tomamos el extremo derecho $c_1=x_1,c_2=x_2 \\cdots c_i=x_i \\cdots c_n=x_n$ hablamos de __*suma de Riemann por la derecha*__ $S_D$\n",
        " $$S_{D}=f(x_1)(x_1-x_0)+ \\cdots +f(x_{n})(x_n-x_{n-1})=\\Delta \\ \\sum_{i=1}^{n} f(x_i)$$"
      ]
    },
    {
      "cell_type": "code",
      "metadata": {
        "id": "a7OEmmbdydzO"
      },
      "source": [
        " #Importamos modulos a usar\n",
        "import numpy as np\n",
        "import matplotlib.pyplot as plt\n",
        "\n",
        "from ipywidgets import interact\n",
        "from ipywidgets.widgets import IntSlider as slider\n"
      ],
      "execution_count": null,
      "outputs": []
    },
    {
      "cell_type": "markdown",
      "metadata": {
        "id": "qD782mp1xuvt"
      },
      "source": [
        "#Implementación de sumas por izquierda y derecha\n",
        "\n",
        "Usaremos la función \n",
        "\n",
        "```python\n",
        "np.linspace(a,b,n+1)\n",
        "```\n",
        "del módulo numpy para generar una particion del intervalo $[a,b]$ en $n+1$ puntos, es decir $n$ subintervalos de las misma longitud.\n"
      ]
    },
    {
      "cell_type": "markdown",
      "metadata": {
        "id": "U8F9MVR21M-p"
      },
      "source": [
        "\n",
        "##Ejemplo 1\n",
        "\n",
        "Partir el intervalo $[1,3]$ en 4 y 5 subintervalos iguales.\n",
        "\n",
        "\n"
      ]
    },
    {
      "cell_type": "code",
      "metadata": {
        "id": "-VD8d2sQjYs7",
        "colab": {
          "base_uri": "https://localhost:8080/"
        },
        "outputId": "84c9ef38-04b6-48ae-f962-9bf3344980fb"
      },
      "source": [
        "#respuesta\n",
        "P1 = np.linspace(1,3,5) #particion 4 subintervalos (5 puntos)\n",
        "P2 = np.linspace(1,3,6) #particion 5 subintervalos (6 puntos)\n",
        "\n",
        "print(P1)\n",
        "print(P2)"
      ],
      "execution_count": null,
      "outputs": [
        {
          "output_type": "stream",
          "name": "stdout",
          "text": [
            "[1.  1.5 2.  2.5 3. ]\n",
            "[1.  1.4 1.8 2.2 2.6 3. ]\n"
          ]
        }
      ]
    },
    {
      "cell_type": "markdown",
      "metadata": {
        "id": "O6B3QQPs11Ss"
      },
      "source": [
        "##Ejemplo 2\n",
        "Crear un arreglo P3 que me de todos los elementos de P1 excepto el primero y un arreglo P4 con todos los elementos de P1 excepto el último."
      ]
    },
    {
      "cell_type": "code",
      "metadata": {
        "id": "cygtfSOe1z0k",
        "colab": {
          "base_uri": "https://localhost:8080/"
        },
        "outputId": "57fabe2a-63f9-4235-e16e-fb458b6c171c"
      },
      "source": [
        "#respuesta, recordemos que en Python el primer elemento en un iterable es el elemento 0\n",
        "P3=P1[1:] # va desde el segundo elemento hasta el último\n",
        "P4=P1[:-1] # va desde el primer elemento hasta antes del último\n",
        "\n",
        "print(P3)\n",
        "print(P4)"
      ],
      "execution_count": null,
      "outputs": [
        {
          "output_type": "stream",
          "name": "stdout",
          "text": [
            "[1.5 2.  2.5 3. ]\n",
            "[1.  1.5 2.  2.5]\n"
          ]
        }
      ]
    },
    {
      "cell_type": "code",
      "metadata": {
        "id": "4dGmLoVmYlA0"
      },
      "source": [
        "#implementamos suma por la izquierda de f en [a,b], en una partición de n subintervalos, como una función:\n",
        "def SumIzq(f,a,b,n=100):\n",
        "  PX = np.linspace(a,b,n+1)[:-1] # partición en x, extremos izquierdos.\n",
        "  PY = [f(c) for c in PX] # evaluación de la partición\n",
        "  Delta=(b-a)/n \n",
        "  return Delta*sum(PY)"
      ],
      "execution_count": null,
      "outputs": []
    },
    {
      "cell_type": "code",
      "metadata": {
        "colab": {
          "base_uri": "https://localhost:8080/"
        },
        "id": "X8zUbxgN1lqi",
        "outputId": "570ced9b-60cb-4df7-fd38-cdaf0e996b43"
      },
      "source": [
        "#Aproximar la integral de x^2 en [0,2] usando una suma por izquierda\n",
        "def cu(x): return x**2\n",
        "SumIzq(cu,0,2,n=1000000)"
      ],
      "execution_count": null,
      "outputs": [
        {
          "output_type": "execute_result",
          "data": {
            "text/plain": [
              "2.6666626666680022"
            ]
          },
          "metadata": {},
          "execution_count": 10
        }
      ]
    },
    {
      "cell_type": "markdown",
      "metadata": {
        "id": "T_mMwFJ24vU5"
      },
      "source": [
        "##Ejemplo 3\n",
        "Calcular la suma por izquierda de $cuad(x)=x^2+1$ en [0,1] para n=100."
      ]
    },
    {
      "cell_type": "code",
      "metadata": {
        "id": "dZOCvQTJiAjL"
      },
      "source": [
        "def cuad(x):\n",
        "  return x**2+1"
      ],
      "execution_count": null,
      "outputs": []
    },
    {
      "cell_type": "code",
      "metadata": {
        "id": "Xslx_wN45Htx",
        "colab": {
          "base_uri": "https://localhost:8080/"
        },
        "outputId": "10230d49-3876-47e0-e5c8-2e9e32576561"
      },
      "source": [
        "#usando una función lambda\n",
        "SumIzq(cuad,a=0,b=2,n=10000)"
      ],
      "execution_count": null,
      "outputs": [
        {
          "output_type": "execute_result",
          "data": {
            "text/plain": [
              "4.666266679999989"
            ]
          },
          "metadata": {
            "tags": []
          },
          "execution_count": 6
        }
      ]
    },
    {
      "cell_type": "markdown",
      "metadata": {
        "id": "uCHY_qu9JRMK"
      },
      "source": [
        "##Ejercicio 1.\n",
        "Calcular la sumas de riemann por izquierda en el intervalo $[-2,2]$ y de las siguientes funciones:\n",
        "\n",
        "1. $g(x)=\\frac{1}{1+x^4}$\n",
        "2. $gauss(x)=e^{-x^2}$\n",
        "3. $Fresnel(x)=\\sin(x^2)$\n",
        "4. $absoluto(x)=|x|$\n",
        "\n",
        "Grafique las funciones."
      ]
    },
    {
      "cell_type": "code",
      "metadata": {
        "id": "Rhwd0SarVXxQ"
      },
      "source": [
        "def g(x): return 1/(1+x**4)\n",
        "def gauss(x): return np.exp(-x**2)\n",
        "def Fresnel(x): return np.sin(x**2)\n",
        "from numpy import abs as absoluto"
      ],
      "execution_count": null,
      "outputs": []
    },
    {
      "cell_type": "code",
      "metadata": {
        "id": "DQGu2G-jWN1V",
        "colab": {
          "base_uri": "https://localhost:8080/",
          "height": 1000
        },
        "outputId": "f98e9b4d-8c6f-48b0-d2d9-e1efa14c28df"
      },
      "source": [
        "#graficas\n",
        "#plt.xkcd()\n",
        "x=np.linspace(-2,2,100)\n",
        "plt.plot(x,g(x))\n",
        "plt.title('y=1/(1+x^4)')\n",
        "plt.show()\n",
        "plt.plot(x,gauss(x))\n",
        "plt.title('$y=e^{-x^2}$')\n",
        "plt.show()\n",
        "plt.plot(x,Fresnel(x))\n",
        "plt.show()\n",
        "plt.plot(x,absoluto(x))"
      ],
      "execution_count": null,
      "outputs": [
        {
          "output_type": "display_data",
          "data": {
            "image/png": "[encoded data removed]",
            "text/plain": [
              "<Figure size 432x288 with 1 Axes>"
            ]
          },
          "metadata": {
            "tags": [],
            "needs_background": "light"
          }
        },
        {
          "output_type": "display_data",
          "data": {
            "image/png": "[encoded data removed]",
            "text/plain": [
              "<Figure size 432x288 with 1 Axes>"
            ]
          },
          "metadata": {
            "tags": [],
            "needs_background": "light"
          }
        },
        {
          "output_type": "display_data",
          "data": {
            "image/png": "[encoded data removed]",
            "text/plain": [
              "<Figure size 432x288 with 1 Axes>"
            ]
          },
          "metadata": {
            "tags": [],
            "needs_background": "light"
          }
        },
        {
          "output_type": "execute_result",
          "data": {
            "text/plain": [
              "[<matplotlib.lines.Line2D at 0x7f31e9353450>]"
            ]
          },
          "metadata": {
            "tags": []
          },
          "execution_count": 8
        },
        {
          "output_type": "display_data",
          "data": {
            "image/png": "[encoded data removed]",
            "text/plain": [
              "<Figure size 432x288 with 1 Axes>"
            ]
          },
          "metadata": {
            "tags": [],
            "needs_background": "light"
          }
        }
      ]
    },
    {
      "cell_type": "markdown",
      "metadata": {
        "id": "WrpKMc_R5zj8"
      },
      "source": [
        "##Ejemplo 4.\n",
        "Representar graficamente la suma de Riemann anterior"
      ]
    },
    {
      "cell_type": "code",
      "metadata": {
        "id": "eEO55i8k58mG",
        "colab": {
          "base_uri": "https://localhost:8080/",
          "height": 282
        },
        "outputId": "8d1afc4d-678a-4078-9bdb-44ce29dfc32f"
      },
      "source": [
        "#@title Suma por izquierda, particion n subintervalos { run: \"auto\", vertical-output: true }\n",
        "\n",
        "#Graficamos la función\n",
        "def cuad(x):\n",
        "  return x**2+1\n",
        "X=np.linspace(0,2,100)\n",
        "Y=cuad(X) \n",
        "plt.plot(X,Y) #gráfica f\n",
        "#graficamos las barras para n subintervalos\n",
        "a,b,n=0,2,5\n",
        "n = 50 #@param {type:\"slider\", min:1, max:100, step:1}\n",
        "X1=np.linspace(a,b,n+1)[:-1]\n",
        "Y1=cuad(X1)\n",
        "delta=(b-a)/n\n",
        "plt.legend(['$cuad(x)=x^2$']) #titulo gráfica\n",
        "plt.bar(X1,Y1,width=delta,align='edge',edgecolor='r',alpha=0.5) #grafica barras\n",
        "plt.plot(X1,Y1,'b.',markersize = 10) # gráfica puntos cuad(c_i) #grafica ptos izquierdos\n",
        "SumIzq(lambda x:x**2+1,0,2,n)"
      ],
      "execution_count": null,
      "outputs": [
        {
          "output_type": "execute_result",
          "data": {
            "text/plain": [
              "4.037037037037036"
            ]
          },
          "metadata": {
            "tags": []
          },
          "execution_count": 11
        },
        {
          "output_type": "display_data",
          "data": {
            "image/png": "[encoded data removed]",
            "text/plain": [
              "<Figure size 432x288 with 1 Axes>"
            ]
          },
          "metadata": {
            "tags": [],
            "needs_background": "light"
          }
        }
      ]
    },
    {
      "cell_type": "markdown",
      "metadata": {
        "id": "z0r2c2RzA8Q3"
      },
      "source": [
        "##Ejercicio 2.\n",
        "Implemente el codigo anterior en una función que retorne la grafica de la suma de riemann y aplique esta función a las funciones del ejercicio 1."
      ]
    },
    {
      "cell_type": "code",
      "metadata": {
        "id": "UGuVMgbKYB1s"
      },
      "source": [
        "#Respuesta problema 2\n",
        "def GrafSumIzq(f,a,b,n):\n",
        "  X=np.linspace(a,b,n*10)\n",
        "  Y=f(X)  \n",
        "  plt.plot(X,Y)\n",
        "#graficamos las barras para n subintervalos\n",
        "  X1=np.linspace(a,b,n+1)[:-1]\n",
        "  Y1=f(X1)\n",
        "  delta=(b-a)/n\n",
        "  plt.legend(['$y=f(x)$'])\n",
        "  plt.bar(X1,Y1,width=delta,align='edge',edgecolor='b',alpha=0.5)\n",
        "  plt.plot(X1,Y1,'b.',markersize = 10) # gráfica puntos cuad(c_i)\n",
        "  plt.show()\n",
        "  return SumIzq(f,a,b,n) \n",
        "\n"
      ],
      "execution_count": null,
      "outputs": []
    },
    {
      "cell_type": "code",
      "metadata": {
        "id": "l9dN-8bkZmv0",
        "colab": {
          "base_uri": "https://localhost:8080/",
          "height": 282
        },
        "outputId": "c0b94fd8-aef4-4350-c6ec-cb4333e087b0"
      },
      "source": [
        "#@title Suma de Riemann de g(x)=1/(1+x^4) { run: \"auto\", vertical-output: true }\n",
        "n = 24 #@param {type:\"slider\", min:1, max:30, step:1}\n",
        "GrafSumIzq(cuad,0,2,n)\n"
      ],
      "execution_count": null,
      "outputs": [
        {
          "output_type": "display_data",
          "data": {
            "image/png": "[encoded data removed]",
            "text/plain": [
              "<Figure size 432x288 with 1 Axes>"
            ]
          },
          "metadata": {
            "tags": [],
            "needs_background": "light"
          }
        },
        {
          "output_type": "execute_result",
          "data": {
            "text/plain": [
              "1.30875"
            ]
          },
          "metadata": {
            "tags": []
          },
          "execution_count": 25
        }
      ]
    },
    {
      "cell_type": "code",
      "metadata": {
        "id": "dE54eR-a3KJd",
        "colab": {
          "base_uri": "https://localhost:8080/",
          "height": 282
        },
        "outputId": "2eb89561-f36a-4937-8939-aeb861b9c45e"
      },
      "source": [
        "def t(x):\n",
        "  return x**3-x\n",
        "\n",
        "GrafSumIzq(t,-2,2,10)"
      ],
      "execution_count": null,
      "outputs": [
        {
          "output_type": "display_data",
          "data": {
            "image/png": "[encoded data removed]",
            "text/plain": [
              "<Figure size 432x288 with 1 Axes>"
            ]
          },
          "metadata": {
            "tags": [],
            "needs_background": "light"
          }
        },
        {
          "output_type": "execute_result",
          "data": {
            "text/plain": [
              "-0.24749999999999997"
            ]
          },
          "metadata": {
            "tags": []
          },
          "execution_count": 11
        }
      ]
    },
    {
      "cell_type": "code",
      "metadata": {
        "id": "fTo8taDXaDKP",
        "colab": {
          "base_uri": "https://localhost:8080/",
          "height": 282
        },
        "outputId": "c26fa747-2030-46fe-904e-2673f63f583a"
      },
      "source": [
        "#@title Gaussiana { run: \"auto\", vertical-output: true }\n",
        "n = 12 #@param {type:\"slider\", min:1, max:20, step:1}\n",
        "\n",
        "\n",
        "GrafSumIzq(gauss,-2,2,n)\n"
      ],
      "execution_count": null,
      "outputs": [
        {
          "output_type": "display_data",
          "data": {
            "image/png": "[encoded data removed]",
            "text/plain": [
              "<Figure size 432x288 with 1 Axes>"
            ]
          },
          "metadata": {
            "tags": [],
            "needs_background": "light"
          }
        },
        {
          "output_type": "execute_result",
          "data": {
            "text/plain": [
              "0.7727366045112969"
            ]
          },
          "metadata": {
            "tags": []
          },
          "execution_count": 12
        }
      ]
    },
    {
      "cell_type": "code",
      "metadata": {
        "id": "BmN_Eu23aYB0",
        "colab": {
          "base_uri": "https://localhost:8080/",
          "height": 282
        },
        "outputId": "cfe0b0da-62d0-43b5-a23e-b09d71500bf8"
      },
      "source": [
        "#@title Fresnel { run: \"auto\", vertical-output: true }\n",
        "n = 9 #@param {type:\"slider\", min:1, max:20, step:1}\n",
        "\n",
        "GrafSumIzq(Fresnel,-2,2,n)"
      ],
      "execution_count": null,
      "outputs": [
        {
          "output_type": "display_data",
          "data": {
            "image/png": "[encoded data removed]",
            "text/plain": [
              "<Figure size 432x288 with 1 Axes>"
            ]
          },
          "metadata": {
            "tags": [],
            "needs_background": "light"
          }
        },
        {
          "output_type": "execute_result",
          "data": {
            "text/plain": [
              "0.26463470476228806"
            ]
          },
          "metadata": {
            "tags": []
          },
          "execution_count": 13
        }
      ]
    },
    {
      "cell_type": "code",
      "metadata": {
        "id": "pYcic8A4L966",
        "colab": {
          "base_uri": "https://localhost:8080/",
          "height": 282
        },
        "outputId": "92995b18-9859-4619-fa9f-b2f2790429ea"
      },
      "source": [
        "#@title Valor absoluto { run: \"auto\", vertical-output: true }\n",
        "n = 9 #@param {type:\"slider\", min:1, max:20, step:1}\n",
        "\n",
        "GrafSumIzq(absoluto,-2,2,n)"
      ],
      "execution_count": null,
      "outputs": [
        {
          "output_type": "display_data",
          "data": {
            "image/png": "[encoded data removed]",
            "text/plain": [
              "<Figure size 432x288 with 1 Axes>"
            ]
          },
          "metadata": {
            "tags": [],
            "needs_background": "light"
          }
        },
        {
          "output_type": "execute_result",
          "data": {
            "text/plain": [
              "0.4444444444444444"
            ]
          },
          "metadata": {
            "tags": []
          },
          "execution_count": 14
        }
      ]
    },
    {
      "cell_type": "markdown",
      "metadata": {
        "id": "3Eex3KB2Bfph"
      },
      "source": [
        "##Interactividad usando interact\n",
        "Si tenemos una función func(n) que depende de n podemos crear un deslizador que recorra los valores de n de max a min de la siguiente forma\n",
        "\n",
        "```python\n",
        "interact(func(n),n=slider(min,max))\n",
        "```\n",
        "recuerde importar interact y slider del modulo ipywidgets usando:\n",
        "\n",
        "\n",
        "```python\n",
        "from ipywidgets import interact\n",
        "from ipywidgets.widgets import IntSlider as slider\n",
        "```\n",
        "\n",
        "veamos el siguiente ejemplo:\n"
      ]
    },
    {
      "cell_type": "code",
      "metadata": {
        "id": "lJQ2UWfHANV1",
        "colab": {
          "base_uri": "https://localhost:8080/",
          "height": 84,
          "referenced_widgets": [
            "f28e152ba2d14fa183ff0768fc031302",
            "2f3c5d2b71a64e2a96984ab51a62cdc3",
            "2704e1d0f2024e51915c2390bf55a1cd",
            "1029aec83d6849e88d45453f67fd3f73",
            "5b82256d5ee84c71aa43cb2e8cd9078b",
            "51af8d79cc39428ea357a2c72bf62240",
            "78e36647e988431890d87f9a42855e84"
          ]
        },
        "outputId": "c8d5429f-6b70-47fd-e484-18b40a8df94e"
      },
      "source": [
        "#Deslizador para calcular suma por izquierda con n subintervalos, usamos interact del modulo ipywidgets \n",
        "f=cuad\n",
        "interact(lambda n: SumIzq(f,0,1,n),n=slider(min=1,max=10))"
      ],
      "execution_count": null,
      "outputs": [
        {
          "output_type": "display_data",
          "data": {
            "application/vnd.jupyter.widget-view+json": {
              "model_id": "f28e152ba2d14fa183ff0768fc031302",
              "version_minor": 0,
              "version_major": 2
            },
            "text/plain": [
              "interactive(children=(IntSlider(value=1, description='n', max=10, min=1), Output()), _dom_classes=('widget-int…"
            ]
          },
          "metadata": {
            "tags": []
          }
        },
        {
          "output_type": "execute_result",
          "data": {
            "text/plain": [
              "<function __main__.<lambda>>"
            ]
          },
          "metadata": {
            "tags": []
          },
          "execution_count": 17
        }
      ]
    },
    {
      "cell_type": "markdown",
      "metadata": {
        "id": "igvL0m1VOJVB"
      },
      "source": [
        "##Implementación sumas por derecha\n",
        "\n",
        "Esta sección es una implementación similar a la anterior de las sumas de Riemann por la derecha."
      ]
    },
    {
      "cell_type": "code",
      "metadata": {
        "id": "1mrTDQ8sOH6O"
      },
      "source": [
        "\n",
        "def SumDer(f,a,b,n=10):\n",
        "  '''Retorna la suma de Riemann por derecha de una función f en el intervalo [a,b] y n subintervalos'''\n",
        "  PX=np.linspace(a,b,n+1)[1:]\n",
        "  PY=[f(c) for c in PX]\n",
        "  Delta = (b-a)/n\n",
        "  return Delta*np.sum(PY)\n"
      ],
      "execution_count": null,
      "outputs": []
    },
    {
      "cell_type": "code",
      "metadata": {
        "id": "sgD93CJdPcWx",
        "colab": {
          "base_uri": "https://localhost:8080/"
        },
        "outputId": "b877aaef-84db-439e-8427-d1e447dacaa4"
      },
      "source": [
        "SumDer(cu,0,2,3) #probamos la implementación"
      ],
      "execution_count": null,
      "outputs": [
        {
          "output_type": "execute_result",
          "data": {
            "text/plain": [
              "4.148148148148148"
            ]
          },
          "metadata": {},
          "execution_count": 12
        }
      ]
    },
    {
      "cell_type": "markdown",
      "metadata": {
        "id": "6gxi-ir8QzXh"
      },
      "source": [
        "## Gráficas sumas por derecha"
      ]
    },
    {
      "cell_type": "code",
      "metadata": {
        "id": "cEn0va3_Q2_5",
        "colab": {
          "base_uri": "https://localhost:8080/",
          "height": 282
        },
        "outputId": "2b8b2449-8398-4143-ea8c-8645b1bd8585"
      },
      "source": [
        "#@title Suma por derecha, particion n subintervalos { run: \"auto\", vertical-output: true }\n",
        "\n",
        "#Graficamos la función\n",
        "def cubic(x):\n",
        "  return x**3\n",
        "X=np.linspace(0,2,100)\n",
        "Y=cubic(X) \n",
        "plt.plot(X,Y)\n",
        "#graficamos las barras para n subintervalos\n",
        "a,b,n=0,2,5\n",
        "n = 30 #@param {type:\"slider\", min:1, max:100, step:1}\n",
        "X1=np.linspace(a,b,n+1)[1:]\n",
        "Y1=cubic(X1)\n",
        "delta=(b-a)/n\n",
        "plt.legend(['$cuad(x)=x^2$'])\n",
        "plt.bar(X1,Y1,width=-delta,align='edge',edgecolor='b',alpha=0.5)\n",
        "plt.plot(X1,Y1,'b.',markersize = 10) # gráfica puntos cuad(c_i)\n",
        "SD=SumDer(cubic,0,2,n)\n",
        "SI=SumIzq(cubic,0,2,n)\n",
        "GrafSumIzq(cubic,0,2,n)\n",
        "SD,SI,0.5*(SD+SI)"
      ],
      "execution_count": null,
      "outputs": [
        {
          "output_type": "display_data",
          "data": {
            "image/png": "[encoded data removed]",
            "text/plain": [
              "<Figure size 432x288 with 1 Axes>"
            ]
          },
          "metadata": {
            "tags": [],
            "needs_background": "light"
          }
        },
        {
          "output_type": "execute_result",
          "data": {
            "text/plain": [
              "(4.271111111111111, 3.7377777777777776, 4.004444444444444)"
            ]
          },
          "metadata": {
            "tags": []
          },
          "execution_count": 18
        }
      ]
    },
    {
      "cell_type": "markdown",
      "metadata": {
        "id": "6xPY_j3LJt7M"
      },
      "source": [
        "##Ejercicio\n",
        "\n",
        "Implemente el codigo anterior en una función de forma similar a como se hizo para sumas por izquierda."
      ]
    },
    {
      "cell_type": "markdown",
      "metadata": {
        "id": "XLOCvRqMMQ77"
      },
      "source": [
        "## Método del trapecio.\n",
        "\n",
        "El método del trapecio consiste en aproximar la integral de $f$ en [a,b] usando el promedio de las sumas de Riemann por izquierda y derecha. Más adelante hablaremos de la estimación del error y una implementación más eficiente, de momento implementaremos este método de forma sencilla promediando las funciones anteriores."
      ]
    },
    {
      "cell_type": "code",
      "metadata": {
        "id": "qIk5y0zlMQQj"
      },
      "source": [
        "def Trapecio(f,a,b,n=100):\n",
        "  return 0.5*(SumIzq(f,a,b,n)+SumDer(f,a,b,n))"
      ],
      "execution_count": null,
      "outputs": []
    },
    {
      "cell_type": "markdown",
      "metadata": {
        "id": "eySeXQ1PM-mV"
      },
      "source": [
        "## Use el método del trapecio para aproximar \n",
        "$$\\int_{0}^{1} e^{-x^2} \\ dx$$"
      ]
    },
    {
      "cell_type": "code",
      "metadata": {
        "id": "QcNUxx-iNg9B",
        "colab": {
          "base_uri": "https://localhost:8080/"
        },
        "outputId": "0238f836-45d6-4b08-c0df-7e756503e000"
      },
      "source": [
        "Trapecio(cu,0,1,1000000)"
      ],
      "execution_count": null,
      "outputs": [
        {
          "output_type": "execute_result",
          "data": {
            "text/plain": [
              "0.3333333333335002"
            ]
          },
          "metadata": {
            "tags": []
          },
          "execution_count": 13
        }
      ]
    },
    {
      "cell_type": "markdown",
      "metadata": {
        "id": "eIC4GIGCSSpQ"
      },
      "source": [
        "#Implementacion suma de Riemann general\n",
        "Implementaremos una función SumRie que toma una función f la partición $x_0 < x_1 \\cdots < x_n$  como un arreglo\n",
        "X=[x_0,...,x_n] y las etiquetas $c_1...c_n$ como otro arreglo C=[c_1,c_2,...,c_n] y nos da la suma\n",
        "$$f(c_1)(x_1-x_0)+ \\cdots +f(c_n)(x_n-x_{n-1})=\\sum_{i=1}^{n} f(c_i)\\Delta_i$$  \n",
        "Podemos calcular un arreglo con los \n",
        "$\\Delta_i=x_{i+1}-x_i$ de una particion X, es decir\n",
        " $[\\Delta_1,...,\\Delta_n]$ con la función de numpy:\n",
        "\n",
        "```\n",
        "np.diff(X)\n",
        "```\n",
        "\n"
      ]
    },
    {
      "cell_type": "code",
      "metadata": {
        "id": "CSU5LOvuT0Qb"
      },
      "source": [
        "# Implementación\n",
        "\n",
        "def SumRiem(f,X,C):\n",
        "  X=np.array(X)\n",
        "  C=np.array(C)\n",
        "  FC=[f(c) for c in C]\n",
        "  DX=np.diff(X)\n",
        "  return np.dot(DX,FC)\n",
        "\n"
      ],
      "execution_count": null,
      "outputs": []
    },
    {
      "cell_type": "code",
      "metadata": {
        "id": "Ydlf_Ry3WfnE",
        "colab": {
          "base_uri": "https://localhost:8080/"
        },
        "outputId": "28cdc684-7d1e-4643-c6f8-51fdb7ce0199"
      },
      "source": [
        "SumRiem(cu,(0,0.5,0.7,1),(0.2,0.6,0.8))"
      ],
      "execution_count": null,
      "outputs": [
        {
          "output_type": "execute_result",
          "data": {
            "text/plain": [
              "0.28400000000000003"
            ]
          },
          "metadata": {
            "tags": []
          },
          "execution_count": 16
        }
      ]
    },
    {
      "cell_type": "markdown",
      "metadata": {
        "id": "Gk9YnOwAc1ww"
      },
      "source": [
        "##Función para graficar una suma de Riemann general"
      ]
    },
    {
      "cell_type": "code",
      "metadata": {
        "id": "VmMxXxdrWv6o"
      },
      "source": [
        "def GrafSumRiem(f,X,C):\n",
        "  X=np.array(X)\n",
        "  C=np.array(C)\n",
        "  X1=np.linspace(X[0],X[-1],100)\n",
        "  Y1=[f(x) for x in X1]\n",
        "  FC=[f(c) for c in C]\n",
        "  DX=np.diff(X)\n",
        "  plt.plot(X1,Y1)\n",
        "  plt.plot(C,FC,'r.')\n",
        "  plt.bar(X[:-1],FC,width=DX,edgecolor='b',color='y',align='edge',alpha=0.4)\n",
        "  plt.show()\n"
      ],
      "execution_count": null,
      "outputs": []
    },
    {
      "cell_type": "code",
      "metadata": {
        "id": "1IYWJylOYrHm",
        "colab": {
          "base_uri": "https://localhost:8080/",
          "height": 265
        },
        "outputId": "ac37ea22-de7e-4804-90a4-268ae1505b23"
      },
      "source": [
        "GrafSumRiem(cu,(0,0.5,0.7,1),(0.2,0.6,0.9))"
      ],
      "execution_count": null,
      "outputs": [
        {
          "output_type": "display_data",
          "data": {
            "image/png": "[encoded data removed]",
            "text/plain": [
              "<Figure size 432x288 with 1 Axes>"
            ]
          },
          "metadata": {
            "tags": [],
            "needs_background": "light"
          }
        }
      ]
    },
    {
      "cell_type": "code",
      "metadata": {
        "id": "jvv5BKCHKsqr",
        "colab": {
          "base_uri": "https://localhost:8080/",
          "height": 265
        },
        "outputId": "5efc1d0d-6249-4100-857d-bdbffa13cf3a"
      },
      "source": [
        "GrafSumRiem(g,(0,1,2,3,4),(0.5,1,2.5,3.2))"
      ],
      "execution_count": null,
      "outputs": [
        {
          "output_type": "display_data",
          "data": {
            "image/png": "[encoded data removed]",
            "text/plain": [
              "<Figure size 432x288 with 1 Axes>"
            ]
          },
          "metadata": {
            "tags": [],
            "needs_background": "light"
          }
        }
      ]
    },
    {
      "cell_type": "code",
      "metadata": {
        "id": "t_GY4LlDLD1y",
        "colab": {
          "base_uri": "https://localhost:8080/",
          "height": 265
        },
        "outputId": "ba4359d4-69a7-43e4-a5e9-a01669d68c71"
      },
      "source": [
        "GrafSumRiem(gauss,(0,1,2,3,4),(0.5,1,2.5,3.2))"
      ],
      "execution_count": null,
      "outputs": [
        {
          "output_type": "display_data",
          "data": {
            "image/png": "[encoded data removed]",
            "text/plain": [
              "<Figure size 432x288 with 1 Axes>"
            ]
          },
          "metadata": {
            "tags": [],
            "needs_background": "light"
          }
        }
      ]
    },
    {
      "cell_type": "markdown",
      "metadata": {
        "id": "twD0V3MSfo3l"
      },
      "source": [
        "##Implementación de sumas de Riemann usando el punto medio\n",
        "\n",
        "Tomaremos como $c_i$ el punto medio del intervalo $[x_{i-1},x_i]$ y usaremos la implementación de suma de Riemann general."
      ]
    },
    {
      "cell_type": "code",
      "metadata": {
        "id": "JUyUNtKbZLKZ",
        "colab": {
          "base_uri": "https://localhost:8080/",
          "height": 265
        },
        "outputId": "27066b61-3ef9-4c61-dad1-b8477c72e84e"
      },
      "source": [
        "a,b,n=0,1,4\n",
        "f=cuad\n",
        "Delta=(b-a)/n\n",
        "x0=a+0.5*Delta\n",
        "PM=[a+(i+0.5)*Delta for i in np.arange(0,n)]\n",
        "FPM=[f(c) for c in PM]\n",
        "X=np.linspace(a,b,n+1)\n",
        "GrafSumRiem(f,X,PM)\n"
      ],
      "execution_count": null,
      "outputs": [
        {
          "output_type": "display_data",
          "data": {
            "image/png": "[encoded data removed]",
            "text/plain": [
              "<Figure size 432x288 with 1 Axes>"
            ]
          },
          "metadata": {
            "tags": [],
            "needs_background": "light"
          }
        }
      ]
    },
    {
      "cell_type": "code",
      "metadata": {
        "id": "-rSvQ6ib8POu",
        "colab": {
          "base_uri": "https://localhost:8080/",
          "height": 34
        },
        "outputId": "3bd1a4cf-016d-4605-8ebf-dc3f21f823e4"
      },
      "source": [
        "SumDer(gauss,0,1,n=100),SumIzq(gauss,0,1,n=100)"
      ],
      "execution_count": null,
      "outputs": [
        {
          "output_type": "execute_result",
          "data": {
            "text/plain": [
              "(0.7436573986738272, 0.7499786042621125)"
            ]
          },
          "metadata": {
            "tags": []
          },
          "execution_count": 28
        }
      ]
    },
    {
      "cell_type": "markdown",
      "source": [
        "##TALLER EN CLASE - SEMANA 15"
      ],
      "metadata": {
        "id": "GrsjWzrSmXP3"
      }
    },
    {
      "cell_type": "markdown",
      "source": [
        "##Ejercicio 1: \n",
        "Considere la región $R$ que está debajo de la gráfica de $f(x)=x^4+1$ y por encima del intervalo $[0,5]$. Calcule, usando Sumas de Riemann, subestimaciones y sobreestimaciones del área de la región $R$  usando 5, 10, 20, 40, 80, 160 y 320 rectángulos. Despues, calcule una antiderivada de la función y úsela para encontral el valor de la integral $\\int_{0}^{5}x^{4}+1 dx$ usando la idea dada en clase respecto al Teorema Fundamental del Cálculo, Finalmente use este último valor para encontrar el error cometido en los cálculos de $S_I$ y $S_D$.  \n",
        "Puede calcular este error como:   \n",
        " \n",
        " $$E=|Suma de Riemann - Valor Exacto de la Integral|$$.Consigne los cálculos en la siguiente tablaa.\n",
        "\n",
        "| n | $S_I$ | $S_D$ | $E_{SI}$ |  $E_{SD}$ |   \n",
        "|:-:|:-----:|:-----:|:--------:|:---------:|\n",
        "| 5 |       |       |          |           |                         \n",
        "| 10|       |       |          |           |                         \n",
        "| 20|       |       |          |           |                       \n",
        "| 40|       |       |          |           |                      \n",
        "| 80|       |       |          |           |                       \n",
        "|160|       |       |          |           |                      \n",
        "|320|       |       |          |           |                         \n",
        "\n",
        "Estudie la columna del error y responda, para cada suma:¿Qué sucede cuando con el error cuando $n$ se duplica?¿Disminuye a la mitad?¿Disminuye a la cuarta parte? Explique"
      ],
      "metadata": {
        "id": "ModoeclhmXJW"
      }
    },
    {
      "cell_type": "markdown",
      "source": [
        "##Ejercicio 2:  \n",
        "Calcule, por los métodos del trapecio y del punto medio, la aproximación a la integral del ejercicio anterior y consigne la información en dos tablas, una para cada método, semejantes a la anterior ¿Es esta aproximación mejor que cualquiera de las obtenidas en el ejecicio anterior por sumas derechas e izquierdas? explique. ¿Qué sucede con el error en cada uno de los métodos conforme $n$ crece?\n",
        " "
      ],
      "metadata": {
        "id": "cc901Mvbmh5D"
      }
    },
    {
      "cell_type": "markdown",
      "source": [
        "#Ejercicio 4:\n",
        "\n",
        "Encuentre un valor aproximado para la integral definida $\\int_{0}^{\\pi }\\sqrt{senx}dx$"
      ],
      "metadata": {
        "id": "W30msjwLmlsE"
      }
    },
    {
      "cell_type": "markdown",
      "source": [
        "El siguiente código sirve para graficar de sumas de Riemann por derecha."
      ],
      "metadata": {
        "id": "VrPvfvZ9mqcI"
      }
    },
    {
      "cell_type": "code",
      "source": [
        "#Importamos modulos a usar\n",
        "import numpy as np\n",
        "import matplotlib.pyplot as plt\n",
        "\n",
        "from ipywidgets import interact\n",
        "from ipywidgets.widgets import IntSlider as slider"
      ],
      "metadata": {
        "id": "AEQefqtymto0"
      },
      "execution_count": null,
      "outputs": []
    },
    {
      "cell_type": "code",
      "source": [
        "#implementamos suma por la izquierda de f en [a,b], en una partición de n subintervalos, como una función:\n",
        "def SumIzq(f,a,b,n=100):\n",
        "  PX = np.linspace(a,b,n+1)[:-1] # partición en x, extremos izquierdos.\n",
        "  PY = [f(c) for c in PX] # evaluación de la partición\n",
        "  Delta=(b-a)/n \n",
        "  return Delta*sum(PY)"
      ],
      "metadata": {
        "id": "tNLdGaFzmwH6"
      },
      "execution_count": null,
      "outputs": []
    },
    {
      "cell_type": "code",
      "source": [
        "def SumDer(f,a,b,n=10):\n",
        "  '''Retorna la suma de Riemann por derecha de una función f en el intervalo [a,b] y n subintervalos'''\n",
        "  PX=np.linspace(a,b,n+1)[1:]\n",
        "  PY=[f(c) for c in PX]\n",
        "  Delta = (b-a)/n\n",
        "  return Delta*np.sum(PY)"
      ],
      "metadata": {
        "id": "czjAaIKpmzJ3"
      },
      "execution_count": null,
      "outputs": []
    },
    {
      "cell_type": "code",
      "source": [
        "def GrafSumIzq(f,a,b,n):\n",
        "  X=np.linspace(a,b,n*10)\n",
        "  Y=f(X)  \n",
        "  plt.plot(X,Y)\n",
        "#graficamos las barras para n subintervalos\n",
        "  X1=np.linspace(a,b,n+1)[:-1]\n",
        "  Y1=f(X1)\n",
        "  delta=(b-a)/n\n",
        "  plt.legend(['$y=f(x)$'])\n",
        "  plt.bar(X1,Y1,width=delta,align='edge',edgecolor='b',alpha=0.5)\n",
        "  plt.plot(X1,Y1,'b.',markersize = 10) # gráfica puntos cuad(c_i)\n",
        "  plt.show()\n",
        "  return SumIzq(f,a,b,n) "
      ],
      "metadata": {
        "id": "9F3iMAACm1rQ"
      },
      "execution_count": null,
      "outputs": []
    },
    {
      "cell_type": "code",
      "source": [],
      "metadata": {
        "id": "UVxn-FLem8_d"
      },
      "execution_count": null,
      "outputs": []
    },
    {
      "cell_type": "code",
      "source": [
        " #@title Suma por derecha, particion n subintervalos { run: \"auto\", vertical-output: true }\n",
        "\n",
        "#Graficamos la función\n",
        "def cuad(x):\n",
        "  return x**2\n",
        "X=np.linspace(0,2,100)\n",
        "Y=cuad(X) \n",
        "plt.plot(X,Y)\n",
        "#graficamos las barras para n subintervalos\n",
        "a,b,n=0,2,6\n",
        "n = 6 #@param {type:\"slider\", min:1, max:100, step:1}\n",
        "X1=np.linspace(a,b,n+1)[1:]\n",
        "Y1=cuad(X1)\n",
        "delta=(b-a)/n\n",
        "plt.legend(['$cuad(x)=x^2$'])\n",
        "plt.bar(X1,Y1,width=-delta,align='edge',edgecolor='b',alpha=0.5)\n",
        "plt.plot(X1,Y1,'b.',markersize = 10) # gráfica puntos cuad(c_i)\n",
        "SD=SumDer(cuad,0,2,n)\n",
        "SI=SumIzq(cuad,0,2,n)\n",
        "GrafSumIzq(cuad,0,2,n)\n",
        "SD,SI,0.5*(SD+SI)"
      ],
      "metadata": {
        "colab": {
          "base_uri": "https://localhost:8080/",
          "height": 282
        },
        "id": "ncTELeAufsPa",
        "outputId": "f1b4966f-596b-4c2f-c710-e674783197d2"
      },
      "execution_count": null,
      "outputs": [
        {
          "output_type": "display_data",
          "data": {
            "text/plain": [
              "<Figure size 432x288 with 1 Axes>"
            ],
            "image/png": "[encoded data removed]"
          },
          "metadata": {
            "needs_background": "light"
          }
        },
        {
          "output_type": "execute_result",
          "data": {
            "text/plain": [
              "(3.3703703703703702, 2.0370370370370368, 2.7037037037037033)"
            ]
          },
          "metadata": {},
          "execution_count": 11
        }
      ]
    },
    {
      "cell_type": "markdown",
      "source": [
        "Usemos Punto medio para la función $f(x)=x^2$ en el intervalo $[0,2]$"
      ],
      "metadata": {
        "id": "cH8TWT018C2T"
      }
    },
    {
      "cell_type": "code",
      "source": [
        "def cuadra(x):\n",
        "  return x**2"
      ],
      "metadata": {
        "id": "o-BNQ3nv82k0"
      },
      "execution_count": null,
      "outputs": []
    },
    {
      "cell_type": "code",
      "source": [
        "a,b,n=0,2,3\n",
        "f=cuadra\n",
        "Delta=(b-a)/n\n",
        "x0=a+0.5*Delta\n",
        "PM=[a+(i+0.5)*Delta for i in np.arange(0,n)]\n",
        "FPM=[f(c) for c in PM]\n",
        "X=np.linspace(a,b,n+1)\n",
        "GrafSumRiem(f,X,PM)"
      ],
      "metadata": {
        "colab": {
          "base_uri": "https://localhost:8080/",
          "height": 265
        },
        "id": "qgbSo9fl8BFD",
        "outputId": "93438bad-dfd9-47fa-9a50-6a76a53c1e50"
      },
      "execution_count": null,
      "outputs": [
        {
          "output_type": "display_data",
          "data": {
            "text/plain": [
              "<Figure size 432x288 with 1 Axes>"
            ],
            "image/png": "[encoded data removed]"
          },
          "metadata": {
            "needs_background": "light"
          }
        }
      ]
    },
    {
      "cell_type": "code",
      "source": [
        "SumDer(cuadra,0,2,n=3),SumIzq(cuadra,0,2,n=3)"
      ],
      "metadata": {
        "colab": {
          "base_uri": "https://localhost:8080/"
        },
        "id": "vmzKCXKu-BSY",
        "outputId": "2e954041-d14b-420f-8ab5-a75b12d3dc47"
      },
      "execution_count": null,
      "outputs": [
        {
          "output_type": "execute_result",
          "data": {
            "text/plain": [
              "(4.148148148148148, 1.4814814814814814)"
            ]
          },
          "metadata": {},
          "execution_count": 20
        }
      ]
    },
    {
      "cell_type": "code",
      "source": [
        "(SumDer(cuadra,0,2,n=3)+SumIzq(cuadra,0,2,n=3))*0.5"
      ],
      "metadata": {
        "colab": {
          "base_uri": "https://localhost:8080/"
        },
        "id": "uaLlHbD1A6uy",
        "outputId": "94081de4-a660-4586-e063-ea3ca5ccf76e"
      },
      "execution_count": null,
      "outputs": [
        {
          "output_type": "execute_result",
          "data": {
            "text/plain": [
              "2.814814814814815"
            ]
          },
          "metadata": {},
          "execution_count": 26
        }
      ]
    },
    {
      "cell_type": "code",
      "source": [
        "def Trapecio(f,a,b,n=100):\n",
        "  return 0.5*(SumIzq(f,a,b,n)+SumDer(f,a,b,n))"
      ],
      "metadata": {
        "id": "iCkltzt6_i1x"
      },
      "execution_count": null,
      "outputs": []
    },
    {
      "cell_type": "code",
      "source": [
        "Trapecio(cuadra,0,2,3)"
      ],
      "metadata": {
        "colab": {
          "base_uri": "https://localhost:8080/"
        },
        "id": "Cju0jhVC_q_R",
        "outputId": "37f6b2d3-ff44-478a-df8b-e147d788118e"
      },
      "execution_count": null,
      "outputs": [
        {
          "output_type": "execute_result",
          "data": {
            "text/plain": [
              "2.814814814814815"
            ]
          },
          "metadata": {},
          "execution_count": 28
        }
      ]
    },
    {
      "cell_type": "code",
      "source": [
        "def SumRiem(f,X,C):\n",
        "  X=np.array(X)\n",
        "  C=np.array(C)\n",
        "  FC=[f(c) for c in C]\n",
        "  DX=np.diff(X)\n",
        "  return np.dot(DX,FC)"
      ],
      "metadata": {
        "id": "W46_gAnQAG8y"
      },
      "execution_count": null,
      "outputs": []
    }
  ]
}