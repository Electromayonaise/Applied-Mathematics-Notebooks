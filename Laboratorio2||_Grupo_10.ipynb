{
  "nbformat": 4,
  "nbformat_minor": 0,
  "metadata": {
    "colab": {
      "provenance": [],
      "include_colab_link": true
    },
    "kernelspec": {
      "name": "python3",
      "display_name": "Python 3"
    },
    "language_info": {
      "name": "python"
    }
  },
  "cells": [
    {
      "cell_type": "markdown",
      "metadata": {
        "id": "view-in-github",
        "colab_type": "text"
      },
      "source": [
        "<a href=\"https://colab.research.google.com/github/Electromayonaise/Calculus-Notebooks/blob/main/Laboratorio2%7C%7C_Grupo_10.ipynb\" target=\"_parent\"><img src=\"https://colab.research.google.com/assets/colab-badge.svg\" alt=\"Open In Colab\"/></a>"
      ]
    },
    {
      "cell_type": "markdown",
      "source": [
        "<img src=http://www.acofi.edu.co/eiei2016/wp-content/uploads/2016/09/Logo-Universidad-ICESI.jpg width=\"300\" height=\"200\" align=\"center\"> \n",
        "\n",
        "#**<big><big>Matemáticas Aplicadas I</big></big><br><small>Departamento de Matemáticas y Estadística / Facultad de Ingeniería</small><br><small> Laboratorio 2</small>**\n",
        "Martín Gómez Caicedo.             Código:A00399958\n",
        "<br>\n",
        "Alejandro Quiñones C.             Código: A0037703\n",
        "<br>\n",
        "Mateo Rubio.                     Código: A00400104"
      ],
      "metadata": {
        "id": "ZM_ILSdKAedT"
      }
    },
    {
      "cell_type": "code",
      "source": [
        "import numpy as np"
      ],
      "metadata": {
        "id": "myU9p7nsjMGn"
      },
      "execution_count": null,
      "outputs": []
    },
    {
      "cell_type": "code",
      "source": [
        "def Newton(f,df,x0,n):\n",
        "  li=[x0]\n",
        "  for i in range(n):\n",
        "    x=li[-1]\n",
        "    li.append(x-f(x)/df(x))\n",
        "  return li"
      ],
      "metadata": {
        "id": "vaFx2TrojLP6"
      },
      "execution_count": null,
      "outputs": []
    },
    {
      "cell_type": "markdown",
      "source": [
        "## Problema 1. \n",
        "Para construir la maqueta de un foso de lanzamiento de disco, modalidad de\n",
        "atletismo, se usa una regla de madera flexible de 20 pulgadas de longitud que\n",
        "se dobla en forma de arco circular como se indica la figura. Si la longitud de la\n",
        "cuerda generada por el arco debe tener una longitud de 16 pulgada, determine\n",
        "el radio del arco de circunferencia. "
      ],
      "metadata": {
        "id": "AH8foQjjY3Ws"
      }
    },
    {
      "cell_type": "markdown",
      "source": [
        "Para esto necesitamos principalmente dos formulas, la primera seria \n",
        "\n",
        "$$ L= r * \\Theta $$\n",
        "\n",
        "Que nos sirve para hallar la longitud (*L*) de un arco en la circunferencia con su radio y angulo, ademas \n",
        "\n",
        "$$ K = 2 * r * sen(\\Theta/2) $$\n",
        "\n",
        "donde K es la longitud de la cuerda formada con el angulo *Teta* y el radio *r*\n",
        "\n",
        "Para el ejercicio reemplazamos los valores que conocenmos y nos queda\n",
        "\n",
        "$$ \\begin{Bmatrix}\n",
        " & 20=\\Theta * r\\\\ \n",
        " & 16=2r*sen(\\Theta /2)\n",
        "\\end{Bmatrix} $$\n",
        "\n",
        "si despejamos a Teta en la primera ecuacion resulta en $20/r$ y al sustituir en la segunda ecuacion queda\n",
        "\n",
        "$$ 16 = 2*r*sen(10/r) \n",
        "\\\\\\ 8=r*sen(10/r) \n",
        "$$\n",
        "\n",
        "Esta situacion no tiene solucion analitica, por lo que debemos buscar metodos alternativos para su solucion, que puede ser usar $f(r)=r*sen(10/r)$ y ver que pasa cuando $f(r)=8$, el metodo de biseccion o el metodo de Newton.\n",
        "\n",
        "Para este ultimo tendriamos que derivar asi:\n",
        "\n",
        "$$ \\frac{\\mathrm{d} }{\\mathrm{d} r}[8]=\\frac{\\mathrm{d} }{\\mathrm{d} r}[r*sen(10/r )]$$\n",
        "\n",
        "$$f'(x)=sen(10/r)-\\frac{10*cos(10/r)}{r}$$"
      ],
      "metadata": {
        "id": "IxsMGR6dY80u"
      }
    },
    {
      "cell_type": "code",
      "source": [
        "def a(x):return x*np.sin(10/x)-8\n",
        "def da(x):return np.sin(10/x)-((10*np.cos(10/x))/x)"
      ],
      "metadata": {
        "id": "2_4YV22NjCjR"
      },
      "execution_count": null,
      "outputs": []
    },
    {
      "cell_type": "code",
      "source": [
        "Newton(a,da,8,6)"
      ],
      "metadata": {
        "colab": {
          "base_uri": "https://localhost:8080/"
        },
        "id": "KYmqcCpMjsjV",
        "outputId": "a921cf6b-735d-4cd3-ce22-2509aa19df3d"
      },
      "execution_count": null,
      "outputs": [
        {
          "output_type": "execute_result",
          "data": {
            "text/plain": [
              "[8,\n",
              " 8.735579942348492,\n",
              " 8.83922259745267,\n",
              " 8.84093062500307,\n",
              " 8.840931076328516,\n",
              " 8.840931076328548,\n",
              " 8.840931076328548]"
            ]
          },
          "metadata": {},
          "execution_count": 9
        }
      ]
    },
    {
      "cell_type": "markdown",
      "source": [
        "Por lo que podemos concluir que el radio es aproximadamente 8.841"
      ],
      "metadata": {
        "id": "1nVJlu2pkNjd"
      }
    },
    {
      "cell_type": "markdown",
      "source": [
        "##Problema 2. \n",
        "Demuestre que el método de Newton aplicado a la ecuación $x^{3}-a=0$ conduce a la fórmula $x{_{(n+1)}}=\\frac{1}{3}\\left ( 2x{_{n}}+\\frac{a}{{x_{n}}^2}\\right )$, usada para aproximar la raíz cúbica de $a$. Utilice el método de Newton para aproximar el valor de $\\sqrt[3]{7}$ con una presición de cinco decimales."
      ],
      "metadata": {
        "id": "vxuJJC9FAneL"
      }
    },
    {
      "cell_type": "markdown",
      "source": [
        "Tenemos que: \n",
        "\n",
        "$f(x)= x^{3}-a \\\\\\\\\n",
        "f`(x) = 3x^2\n",
        "\\\\\\\\por\\ lo \\ tanto: \\ x_{n+1}= x_{n}- \\frac{x_{n}^3-a}{3x_{n}^2}\n",
        "\\\\\\\\ x_{n+1}=  \\frac{3x_{n}^3-(x_{n}^3-a)}{3x_{n}^2}\n",
        "\\\\\\\\ x_{n+1}=  \\frac{2x_{n}^3+a}{3x_{n}^2}\n",
        "\\\\\\\\ x_{n+1}=  \\frac{2x_{n}^3}{3x_{n}^2} + \\frac{a}{3x_{n}^2}\n",
        "\\\\\\\\ x_{n+1}=  \\frac{2x_{n}}{3} + \\frac{a}{3x_{n}^2}\n",
        "\\\\\\\\ x_{n+1}= \\frac{1}{3}(2x_{n} + \\frac{a}{x_{n}^2}) $\n",
        "\n",
        "\n",
        "Y así probamos algebraicamente que $x^{3}-a=0$ conduce a $ x_{n+1}= \\frac{1}{3}(2x_{n} + \\frac{a}{x_{n}^2}) $ algebraicamente. \n",
        "\n",
        "Por otro lado, para realizar una aproximación con presición de 5 decimales al valor de $\\sqrt[3]{7}$ podemos usar la formula recién obtenida, por lo que: \n",
        "\n",
        "$x_{1}= \\frac{1}{3}(2x_{n} + \\frac{7}{x_{n}^2}) $ , si tomamos $x_0 = 2$ obtenemos: \n",
        "\n",
        "$x_{1}= \\frac{1}{3}(2(2) + \\frac{7}{2^2}) =  \\frac{1}{3}(4 + \\frac{7}{4})=\\frac{23}{12} ≈ 1,916 $ , realizamos otra iteración \n",
        "\n",
        "$x_{2}= \\frac{1}{3}(2(1,916) + \\frac{7}{1,916^2}) = \\frac{18215}{9522} ≈ 1,91293 $, aquí ya obtenemos una presición de 5 décimales (solo tomo 2 iteraciones) \n",
        "\n",
        "\n"
      ],
      "metadata": {
        "id": "2bZmvPg-Iy7I"
      }
    },
    {
      "cell_type": "markdown",
      "source": [
        "#PROBLEMA 3"
      ],
      "metadata": {
        "id": "v4m0mck3xMQK"
      }
    },
    {
      "cell_type": "markdown",
      "source": [
        "Obtenemos r en función de x usando el teorema de pitágoras, después igualamos $\\frac{\\pi}{3}$ con $\\frac{\\pi x}{6} * (3r^2 + x^2)$"
      ],
      "metadata": {
        "id": "hGqKnryWxUW4"
      }
    },
    {
      "cell_type": "markdown",
      "source": [
        "$$\n",
        "(1-x)^2 + r^2 = 1\\\\\n",
        "r^2 = 1 - (1-x)^2\\\\\n",
        "r = \\sqrt{1-(1-x)^2}\\\\\\\\\n",
        "r = \\sqrt{2x-x^2}\\\\\\\\\n",
        "\\therefore \\:\\frac{\\pi}{3} = \\frac{\\pi x}{6} * (3*(\\sqrt{2x-x^2})^2+x^2)\\\\\\\\\n",
        "\\rightarrow \\:\\frac{\\pi}{3} = \\frac{\\pi x}{6} * (3*(2x-x^2)+x^2)\\\\\\\\\n",
        "\\rightarrow \\:\\frac{\\pi}{3} = \\frac{\\pi x}{6} * (6x-3x^2+x^2)\\\\\\\\\n",
        "\\rightarrow \\:\\frac{\\pi}{3} = \\frac{\\pi x}{6} * (6x-2x^2)\\\\\\\\\n",
        "\\rightarrow \\:\\frac{\\pi}{3} = \\frac{\\pi x}{6} * 2(3x-x^2)\\\\\\\\\n",
        "\\rightarrow \\:\\frac{\\pi}{3} = \\frac{\\pi x}{3} * (3x-x^2)\\\\\\\\\n",
        "\\rightarrow \\:\\pi = \\pi x * (3x-x^2)\\\\\\\\\n",
        "\\rightarrow \\:1 = x * (3x-x^2)\\\\\\\\\n",
        "\\rightarrow \\:1 = 3x^2-x^3\\\\\\\\\n",
        "\\rightarrow \\:1 = 3x^2-x^3\\\\\\\\\n",
        "\\rightarrow \\:x^3-3x^2+1 = 0\\\\\\\\\n",
        "$$"
      ],
      "metadata": {
        "id": "LknbNYmZxOKI"
      }
    },
    {
      "cell_type": "markdown",
      "source": [
        "Haciendo uso del método de Newton obtenemos que las raíces son $x_{1} = -0.53209$, $x_{2} = 0.65270$, $x_{3} = 2.8794$.\n",
        "Por lo tanto teniendo en cuenta el contexto en el cual estamos usando $x$ sabemos que $1-x$ debe ser mayor a 0 y $x$ no debe ser negativa, por lo tanto la raíz que cumple esto es $x_{2}$"
      ],
      "metadata": {
        "id": "qoda1eC-4L9A"
      }
    }
  ]
}