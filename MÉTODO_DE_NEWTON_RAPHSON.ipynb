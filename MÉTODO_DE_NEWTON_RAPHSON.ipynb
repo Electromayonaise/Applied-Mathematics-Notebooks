{
  "nbformat": 4,
  "nbformat_minor": 0,
  "metadata": {
    "colab": {
      "provenance": [],
      "include_colab_link": true
    },
    "kernelspec": {
      "name": "python3",
      "display_name": "Python 3"
    },
    "language_info": {
      "name": "python"
    }
  },
  "cells": [
    {
      "cell_type": "markdown",
      "metadata": {
        "id": "view-in-github",
        "colab_type": "text"
      },
      "source": [
        "<a href=\"https://colab.research.google.com/github/Electromayonaise/Calculus-Notebooks/blob/main/M%C3%89TODO_DE_NEWTON_RAPHSON.ipynb\" target=\"_parent\"><img src=\"https://colab.research.google.com/assets/colab-badge.svg\" alt=\"Open In Colab\"/></a>"
      ]
    },
    {
      "cell_type": "markdown",
      "source": [
        "<img src=http://www.acofi.edu.co/eiei2016/wp-content/uploads/2016/09/Logo-Universidad-ICESI.jpg width=\"300\" height=\"200\" align=\"center\"> \n",
        "\n",
        "#**<big><big>Matemáticas Aplicadas I</big></big><br><small>Depto. Matemáticas & Estadística / Facultad de Ingeniería</small><br><small>Cuaderno Método de Newton y Descenso de Gradiente.**\n",
        "\n",
        "1. **Lectura sugerida del texto de Lax. Calculus With Applications Approximation to Theory (2014)**: Sección 2.2c."
      ],
      "metadata": {
        "id": "CEyk4FWqcxqQ"
      }
    },
    {
      "cell_type": "markdown",
      "source": [
        "#Método de Newton\n",
        "Prerrequisitos:\n",
        "Encontrar el valor de la derivada en un punto. \n",
        "\n",
        "El problema:\n",
        "Considere la tarea de encontrar las soluciones de la ecuación $f (x) = 0$. Si $f$ es un polinomio de primer grado como $f (x) = ax + b$, entonces la solución de $f (x) = 0$ viene dada por la fórmula $x = −b/a$.\n",
        "\n",
        "Si $f$ es el polinomio de segundo grado $f (x) = ax^2 + bx + $, las soluciones de $f (x) = 0$ se pueden encontrar usando la fórmula cuadrática. Sin embargo, para polinomios de grado 3 o mayor, encontrar raíces de la ecuación $f(x)=0$ es un problema más complejo. Aunque existen fórmulas para polinomios de tercer y cuarto grado, son bastante complicadas. Además, si $f$ es un polinomio de grado 5 o mayor, se sabe que no existen tales fórmulas. Por ejemplo, considere la función\n",
        "\n",
        "$$f(x)=x^2-4x$$\n",
        "\n",
        "de la que sabemos que su derivada está dada por $$f'(x)=2x-4$$\n",
        "\n",
        "el método de Newton permite calcular los ceros de la función haciendo uso de la derivada y se fundamenta en la siguiente idea:"
      ],
      "metadata": {
        "id": "WkK9Jnrqc_z4"
      }
    },
    {
      "cell_type": "markdown",
      "source": [
        "Sea una función derivable, $f:[a,b] → \\mathbb{R}$ de la cual sabemos que tiene una raíz en dicho intervalo y queremos encontrar un valor de $x_0 \\in [a,b]$ que aproxime el valor de la raiz, es decir, un valor $x_0$ tal que $f(x_0)=0$. El proceso para encontrar el valor se describe en el siguiente proceso:\n",
        "\n",
        "* Se elige $x_0$ en el eje de las $x$, asumiendo que está cerca de la solución de  $f(x_0)=0$ (raíz buscada).\n",
        "\n",
        "* Se calcula la ecuación punto pendiente de la recta tangente a la función en $(x_0, f(x_0))$ haciendo uso de la función afin. $$f(x)=f(x_0)+f'(x_0)(x-x_0)--------- (1)$$\n",
        "\n",
        "* Esta recta debe intersecar al eje de las $x$, en un punto $x_1$, más cercano a la raíz buscada.\n",
        "\n",
        "* Así, el punto $(x_1, 0)$ satisface la ecuación $(1)$ y al sustituirlo se tiene que:$$f(x_1)=0+f'(x_0)(x_1-x_0)--------- (2)$$\n",
        " \n",
        "* Si $f'(x_0) \\neq 0$, entonces: $$x_1=x_0 - \\frac{f(x_0)}{f'(x_0)}--------- (3) $$\n",
        "\n",
        "* Se repite el proceso cuantas veces sea necesario y se obtiene la secuencia de números $x_1,x_1,x_2,...,x_n$.  \n",
        "\n",
        "* Por tanto, la aproximación será mejor, entre más términos de esta sucesión calculemos."
      ],
      "metadata": {
        "id": "dWl3BWUHdHsE"
      }
    },
    {
      "cell_type": "markdown",
      "source": [
        "# Método Númerico: Newton - Raphson\n",
        "\n",
        "En las siguientes lineas de codigo se contruye el algoritmo trabajado anteriormente. "
      ],
      "metadata": {
        "id": "CVTzSVf3dPxt"
      }
    },
    {
      "cell_type": "markdown",
      "source": [
        "Primero definimos la función $f(x)=x^{2}-4x$  y su derivada $f'(x)=2x-4$"
      ],
      "metadata": {
        "id": "2mxRAvpFe_8A"
      }
    },
    {
      "cell_type": "code",
      "source": [
        "def f(x):return x**2-4*x\n",
        "def df(x):return 2*x-4"
      ],
      "metadata": {
        "id": "ua57vGF5fEmV"
      },
      "execution_count": null,
      "outputs": []
    },
    {
      "cell_type": "markdown",
      "source": [
        "Definimos nuestro valor de inicio como $x_0=3$ y calculamos la primera iteración:"
      ],
      "metadata": {
        "id": "lRrvv-IQfyv-"
      }
    },
    {
      "cell_type": "code",
      "source": [
        "x0=3\n",
        "x1=x0-f(x0)/df(x0)\n",
        "x1"
      ],
      "metadata": {
        "colab": {
          "base_uri": "https://localhost:8080/"
        },
        "id": "hjUthTGVf4VQ",
        "outputId": "112dc112-dcf9-4cbc-c1c0-82fe4b173b79"
      },
      "execution_count": null,
      "outputs": [
        {
          "output_type": "execute_result",
          "data": {
            "text/plain": [
              "4.5"
            ]
          },
          "metadata": {},
          "execution_count": 3
        }
      ]
    },
    {
      "cell_type": "markdown",
      "source": [
        "Ahora tomamos nuestro nuevo como e valor anterior, esto es $x_0=4.5$ y volvemos a iterar:"
      ],
      "metadata": {
        "id": "Ks56TPsDgfyB"
      }
    },
    {
      "cell_type": "markdown",
      "source": [],
      "metadata": {
        "id": "3r9Ul6fLgzJp"
      }
    },
    {
      "cell_type": "code",
      "source": [
        "x0=4.5\n",
        "x1=x0-f(x0)/df(x0)\n",
        "x1"
      ],
      "metadata": {
        "colab": {
          "base_uri": "https://localhost:8080/"
        },
        "id": "SKxeEOsWgqlO",
        "outputId": "8b77a42f-18b9-45b4-c62f-ca6742efd713"
      },
      "execution_count": null,
      "outputs": [
        {
          "output_type": "execute_result",
          "data": {
            "text/plain": [
              "4.05"
            ]
          },
          "metadata": {},
          "execution_count": 4
        }
      ]
    },
    {
      "cell_type": "markdown",
      "source": [
        "Ahora tomamos nuestro nuevo como e valor anterior, esto es $x_0=4.05$ y volvemos a iterar:"
      ],
      "metadata": {
        "id": "sAxf3peAhSso"
      }
    },
    {
      "cell_type": "code",
      "source": [
        "x0=4.05\n",
        "x1=x0-f(x0)/df(x0)\n",
        "x1"
      ],
      "metadata": {
        "colab": {
          "base_uri": "https://localhost:8080/"
        },
        "id": "lCqrpz1ehL8w",
        "outputId": "3ae5c58c-6bba-4281-ae93-cd3bb8e953f4"
      },
      "execution_count": null,
      "outputs": [
        {
          "output_type": "execute_result",
          "data": {
            "text/plain": [
              "4.00060975609756"
            ]
          },
          "metadata": {},
          "execution_count": 5
        }
      ]
    },
    {
      "cell_type": "markdown",
      "source": [
        "Ahora tomamos nuestro nuevo como e valor anterior, esto es $x_0=4.00060975609756$ y volvemos a iterar:"
      ],
      "metadata": {
        "id": "FCDQQj-QhfFT"
      }
    },
    {
      "cell_type": "code",
      "source": [
        "x0=4.00060975609756\n",
        "x1=x0-f(x0)/df(x0)\n",
        "x1"
      ],
      "metadata": {
        "colab": {
          "base_uri": "https://localhost:8080/"
        },
        "id": "TnjRnlarhXaY",
        "outputId": "ac48c5a2-2492-4369-bbe5-439337883baf"
      },
      "execution_count": null,
      "outputs": [
        {
          "output_type": "execute_result",
          "data": {
            "text/plain": [
              "4.000000092922295"
            ]
          },
          "metadata": {},
          "execution_count": 6
        }
      ]
    },
    {
      "cell_type": "markdown",
      "source": [
        "Podemos ver que tenemos una mejor aproximación al cero $x=4$ de la función."
      ],
      "metadata": {
        "id": "KphBPLBKisk0"
      }
    },
    {
      "cell_type": "markdown",
      "source": [
        "Método de Newton"
      ],
      "metadata": {
        "id": "rZ4-HUQwoFHF"
      }
    },
    {
      "cell_type": "code",
      "source": [
        "def Newton(f,df,x0,n):\n",
        "  li=[x0]\n",
        "  for _ in range(n):\n",
        "    x=li[-1]\n",
        "    li.append(x-f(x)/df(x))\n",
        "  return li"
      ],
      "metadata": {
        "id": "LL-GukDAoaz2"
      },
      "execution_count": null,
      "outputs": []
    },
    {
      "cell_type": "code",
      "source": [
        "Newton(f,df,0.5,5)[-1]"
      ],
      "metadata": {
        "colab": {
          "base_uri": "https://localhost:8080/"
        },
        "id": "WkuU_-KzofM3",
        "outputId": "ea08b198-1a26-4b26-ab26-9ea208793001"
      },
      "execution_count": null,
      "outputs": [
        {
          "output_type": "execute_result",
          "data": {
            "text/plain": [
              "-3.6350710512584224e-27"
            ]
          },
          "metadata": {},
          "execution_count": 11
        }
      ]
    },
    {
      "cell_type": "code",
      "source": [
        "def l(x,m,b):\n",
        "  return m*x+b"
      ],
      "metadata": {
        "id": "DQ1p4PAeokUL"
      },
      "execution_count": null,
      "outputs": []
    },
    {
      "cell_type": "code",
      "source": [
        "import numpy as np\n",
        "import matplotlib.pyplot as plt\n",
        "\n",
        "def GNewton(f,df,x0,n):\n",
        "  li=[x0]\n",
        "  X=np.linspace(x0-10,x0+10)\n",
        "  \n",
        "  for _ in range(n):\n",
        "    x=li[-1]\n",
        "    b=f(x)-df(x)*x\n",
        "    Y=l(X,df(x),b)\n",
        "    plt.plot(X,f(X))\n",
        "    plt.plot(X,Y)\n",
        "    plt.hlines(0,x0-10,x0+10)\n",
        "    plt.ylim(-10,10)\n",
        "    li.append(x-f(x)/df(x))\n",
        "  return li"
      ],
      "metadata": {
        "id": "mGrBSu0AoEVw"
      },
      "execution_count": null,
      "outputs": []
    },
    {
      "cell_type": "code",
      "source": [
        "GNewton(f,df,3,5)"
      ],
      "metadata": {
        "colab": {
          "base_uri": "https://localhost:8080/",
          "height": 287
        },
        "id": "YCwfZybJoLtN",
        "outputId": "b1873861-970e-47d3-e474-e1033ce2ff77"
      },
      "execution_count": null,
      "outputs": [
        {
          "output_type": "execute_result",
          "data": {
            "text/plain": [
              "[3, 4.5, 4.05, 4.00060975609756, 4.000000092922295, 4.000000000000003]"
            ]
          },
          "metadata": {},
          "execution_count": 16
        },
        {
          "output_type": "display_data",
          "data": {
            "text/plain": [
              "<Figure size 432x288 with 1 Axes>"
            ],
            "image/png": "[encoded data removed]"
          },
          "metadata": {
            "needs_background": "light"
          }
        }
      ]
    },
    {
      "cell_type": "markdown",
      "source": [
        "Otra opción de código con tolerancia puede ser la siguiente:"
      ],
      "metadata": {
        "id": "jCvRyBFvoxj0"
      }
    },
    {
      "cell_type": "code",
      "source": [
        "# Método de Newton-Raphson\n",
        "# Ejemplo 1 (Burden ejemplo 1 p.51/pdf.61)\n",
        "\n",
        "import numpy as np\n",
        "\n",
        "# INGRESO\n",
        "fx  = lambda x: x**(1/3)\n",
        "dfx = lambda x: (1/3)*(x**(-2/3))\n",
        "\n",
        "x0 = 0.5\n",
        "tolera = 0.001\n",
        "\n",
        "# PROCEDIMIENTO\n",
        "tabla = []\n",
        "Etramo = abs(2*tolera)\n",
        "xi = x0\n",
        "while (Etramo>=tolera):\n",
        "    xnuevo = xi - fx(xi)/dfx(xi)\n",
        "    Etramo  = abs(xnuevo-xi)\n",
        "    tabla.append([xi,xnuevo,Etramo])\n",
        "    xi = xnuevo\n",
        "\n",
        "# convierte la lista a un arreglo.\n",
        "tabla = np.array(tabla)\n",
        "n = len(tabla)\n",
        "\n",
        "# SALIDA\n",
        "print(['xi', 'xnuevo', 'tramo'])\n",
        "np.set_printoptions(precision = 4)\n",
        "print(tabla)\n",
        "print('raiz en: ', xi)\n",
        "print('con error de: ',Etramo)"
      ],
      "metadata": {
        "colab": {
          "base_uri": "https://localhost:8080/",
          "height": 356
        },
        "id": "CoS3nkJMoxN1",
        "outputId": "79668482-fde8-4612-93c7-2ad3d403e416"
      },
      "execution_count": null,
      "outputs": [
        {
          "output_type": "error",
          "ename": "OverflowError",
          "evalue": "ignored",
          "traceback": [
            "\u001b[0;31m---------------------------------------------------------------------------\u001b[0m",
            "\u001b[0;31mOverflowError\u001b[0m                             Traceback (most recent call last)",
            "\u001b[0;32m<ipython-input-9-046eeeb30e17>\u001b[0m in \u001b[0;36m<cell line: 17>\u001b[0;34m()\u001b[0m\n\u001b[1;32m     16\u001b[0m \u001b[0mxi\u001b[0m \u001b[0;34m=\u001b[0m \u001b[0mx0\u001b[0m\u001b[0;34m\u001b[0m\u001b[0;34m\u001b[0m\u001b[0m\n\u001b[1;32m     17\u001b[0m \u001b[0;32mwhile\u001b[0m \u001b[0;34m(\u001b[0m\u001b[0mEtramo\u001b[0m\u001b[0;34m>=\u001b[0m\u001b[0mtolera\u001b[0m\u001b[0;34m)\u001b[0m\u001b[0;34m:\u001b[0m\u001b[0;34m\u001b[0m\u001b[0;34m\u001b[0m\u001b[0m\n\u001b[0;32m---> 18\u001b[0;31m     \u001b[0mxnuevo\u001b[0m \u001b[0;34m=\u001b[0m \u001b[0mxi\u001b[0m \u001b[0;34m-\u001b[0m \u001b[0mfx\u001b[0m\u001b[0;34m(\u001b[0m\u001b[0mxi\u001b[0m\u001b[0;34m)\u001b[0m\u001b[0;34m/\u001b[0m\u001b[0mdfx\u001b[0m\u001b[0;34m(\u001b[0m\u001b[0mxi\u001b[0m\u001b[0;34m)\u001b[0m\u001b[0;34m\u001b[0m\u001b[0;34m\u001b[0m\u001b[0m\n\u001b[0m\u001b[1;32m     19\u001b[0m     \u001b[0mEtramo\u001b[0m  \u001b[0;34m=\u001b[0m \u001b[0mabs\u001b[0m\u001b[0;34m(\u001b[0m\u001b[0mxnuevo\u001b[0m\u001b[0;34m-\u001b[0m\u001b[0mxi\u001b[0m\u001b[0;34m)\u001b[0m\u001b[0;34m\u001b[0m\u001b[0;34m\u001b[0m\u001b[0m\n\u001b[1;32m     20\u001b[0m     \u001b[0mtabla\u001b[0m\u001b[0;34m.\u001b[0m\u001b[0mappend\u001b[0m\u001b[0;34m(\u001b[0m\u001b[0;34m[\u001b[0m\u001b[0mxi\u001b[0m\u001b[0;34m,\u001b[0m\u001b[0mxnuevo\u001b[0m\u001b[0;34m,\u001b[0m\u001b[0mEtramo\u001b[0m\u001b[0;34m]\u001b[0m\u001b[0;34m)\u001b[0m\u001b[0;34m\u001b[0m\u001b[0;34m\u001b[0m\u001b[0m\n",
            "\u001b[0;32m<ipython-input-9-046eeeb30e17>\u001b[0m in \u001b[0;36m<lambda>\u001b[0;34m(x)\u001b[0m\n\u001b[1;32m      5\u001b[0m \u001b[0;34m\u001b[0m\u001b[0m\n\u001b[1;32m      6\u001b[0m \u001b[0;31m# INGRESO\u001b[0m\u001b[0;34m\u001b[0m\u001b[0;34m\u001b[0m\u001b[0m\n\u001b[0;32m----> 7\u001b[0;31m \u001b[0mfx\u001b[0m  \u001b[0;34m=\u001b[0m \u001b[0;32mlambda\u001b[0m \u001b[0mx\u001b[0m\u001b[0;34m:\u001b[0m \u001b[0mx\u001b[0m\u001b[0;34m**\u001b[0m\u001b[0;34m(\u001b[0m\u001b[0;36m1\u001b[0m\u001b[0;34m/\u001b[0m\u001b[0;36m3\u001b[0m\u001b[0;34m)\u001b[0m\u001b[0;34m\u001b[0m\u001b[0;34m\u001b[0m\u001b[0m\n\u001b[0m\u001b[1;32m      8\u001b[0m \u001b[0mdfx\u001b[0m \u001b[0;34m=\u001b[0m \u001b[0;32mlambda\u001b[0m \u001b[0mx\u001b[0m\u001b[0;34m:\u001b[0m \u001b[0;34m(\u001b[0m\u001b[0;36m1\u001b[0m\u001b[0;34m/\u001b[0m\u001b[0;36m3\u001b[0m\u001b[0;34m)\u001b[0m\u001b[0;34m*\u001b[0m\u001b[0;34m(\u001b[0m\u001b[0mx\u001b[0m\u001b[0;34m**\u001b[0m\u001b[0;34m(\u001b[0m\u001b[0;34m-\u001b[0m\u001b[0;36m2\u001b[0m\u001b[0;34m/\u001b[0m\u001b[0;36m3\u001b[0m\u001b[0;34m)\u001b[0m\u001b[0;34m)\u001b[0m\u001b[0;34m\u001b[0m\u001b[0;34m\u001b[0m\u001b[0m\n\u001b[1;32m      9\u001b[0m \u001b[0;34m\u001b[0m\u001b[0m\n",
            "\u001b[0;31mOverflowError\u001b[0m: complex exponentiation"
          ]
        }
      ]
    },
    {
      "cell_type": "markdown",
      "source": [
        "# Ejercicios\n",
        "\n",
        "1. Comparar el método de bisección con el método de Newton.¿Qué hipótesis del método de bisección son relevantes en el algoritmo de Newton?.\n",
        "2. Utilice el método de Newton para aproximar la solución de la ecuación $x^{3}=cosx$\n",
        "3. Demuestre que el método de Newton aplicado a la ecuación $x^{3}-a=0$ conduce a la fórmula $x{_{(n+1)}}=\\frac{1}{3}\\left ( 2x{_{n}}+\\frac{a}{{x_{n}}^2}\\right )$, usada para aproximar la raíz cúbica de $a$. Utilice el método de Newton para aproximar el valor de $\\sqrt[3]{7}$ con una presición de cinco decimales.\n",
        "4. Utilice el método de Newton para hallar el cero de la función $f(x)=\\frac{(x-1)^{2}}{x^{2}+1}$, con $x_0=-2$,$x_0=-1$ y con $x_0=0$. Para cada valor de $x_0$ consigne los valores de las iteraciones en una tabla y analice la convergencia de dichas iteraciones sucesivas. ¿Qué particularidades encuentra en cada caso?¿Qué puede concluir acerca del uso de éste método en el cálculo de ceros de funciones?\n",
        "5. Suponga que deseamos encontrar la solución de la ecuación $x^{\\frac{1}{3}}=0$. Muestre que la forma iterativa del método de Newton está dada por la expresión: $x_n=-2x_n$. Además, explique, gráficamente, la razón por la que el Método falla si iniciamos las iteraciones con $x_0=1$"
      ],
      "metadata": {
        "id": "BwAJycOZpB-t"
      }
    }
  ]
}