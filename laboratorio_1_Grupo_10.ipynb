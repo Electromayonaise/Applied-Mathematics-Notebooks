{
  "nbformat": 4,
  "nbformat_minor": 0,
  "metadata": {
    "colab": {
      "provenance": [],
      "include_colab_link": true
    },
    "kernelspec": {
      "name": "python3",
      "display_name": "Python 3"
    },
    "language_info": {
      "name": "python"
    }
  },
  "cells": [
    {
      "cell_type": "markdown",
      "metadata": {
        "id": "view-in-github",
        "colab_type": "text"
      },
      "source": [
        "<a href=\"https://colab.research.google.com/github/Electromayonaise/Calculus-Notebooks/blob/main/laboratorio_1_Grupo_10.ipynb\" target=\"_parent\"><img src=\"https://colab.research.google.com/assets/colab-badge.svg\" alt=\"Open In Colab\"/></a>"
      ]
    },
    {
      "cell_type": "code",
      "execution_count": null,
      "metadata": {
        "id": "Y-wZhjV6ao_1"
      },
      "outputs": [],
      "source": []
    },
    {
      "cell_type": "markdown",
      "source": [
        "<img src=http://www.acofi.edu.co/eiei2016/wp-content/uploads/2016/09/Logo-Universidad-ICESI.jpg width=\"300\" height=\"200\" align=\"center\"> \n",
        "\n",
        "#**<big><big>Matemáticas Aplicadas I</big></big><br><small>Departamento de Matemáticas y Estadística / Facultad de Ingeniería</small><br><small>Primer Laboratio</small>**\n",
        "Martín Gómez Caicedo.             Código:A00399958\n",
        "<br>\n",
        "Alejandro Quiñones C.             Código: A0037703\n",
        "<br>\n",
        "Mateo Rubio.                     Código: A00400104"
      ],
      "metadata": {
        "id": "P-6uAf43b9Ck"
      }
    },
    {
      "cell_type": "code",
      "source": [
        "import numpy as np\n",
        "import math as m"
      ],
      "metadata": {
        "id": "lg_EpiUVc7v9"
      },
      "execution_count": null,
      "outputs": []
    },
    {
      "cell_type": "markdown",
      "source": [
        "#Primer problema"
      ],
      "metadata": {
        "id": "gCuyPIFhcj_A"
      }
    },
    {
      "cell_type": "markdown",
      "source": [
        "###Introducción\n",
        "Un fractal es una estructura geométrica que se caracteriza por su autosemejanza, es decir, que se puede dividir en partes más pequeñas que son similares a la figura original. Los fractales son patrones comunes en la naturaleza, como los copos de nieve, las ramas de los árboles y las costas de las islas, ya que su forma se repite a diferentes escalas.\n",
        "\n",
        "Waclaw Sierpinski, un matemático polaco conocido por su trabajo en la teoría de conjuntos, también fue un pionero en la teoría de fractales. En 1916, mientras trabajaba en la teoría de conjuntos, creó una figura geométrica conocida como el Triángulo de Sierpinski. Este triángulo se construye eliminando el triángulo central de un triángulo equilátero y dividiendo cada uno de los triángulos restantes en tres triángulos más pequeños. Este proceso se repite indefinidamente, creando una figura con propiedades autosemejantes y una complejidad infinita."
      ],
      "metadata": {
        "id": "VTq4bwq0h-gk"
      }
    },
    {
      "cell_type": "code",
      "source": [
        "#Area\n",
        "def sirpinskiArea(n):\n",
        "  return (3**n/(2**(2*n))) * ((3**0.5)/4)\n",
        "\n",
        "#Perimetro\n",
        "def sirpinskiPerimeter(n):\n",
        "  return 3**(n+1) * 1/(2**n)\n",
        "\n",
        "def sirpinski():\n",
        "  n = int(input(\"Insert the number of iterations: \"))\n",
        "  print(\"Area: \", sirpinskiArea(n))\n",
        "  print(\"Perimeter: \", sirpinskiPerimeter(n))\n",
        "\n",
        "sirpinski()"
      ],
      "metadata": {
        "id": "cp_0p-Xebi32",
        "colab": {
          "base_uri": "https://localhost:8080/"
        },
        "outputId": "bd473e8c-c003-4899-ec12-43809d119fcc"
      },
      "execution_count": null,
      "outputs": [
        {
          "output_type": "stream",
          "name": "stdout",
          "text": [
            "Insert the number of iterations: 1000\n",
            "Area:  4.9861349408439744e-126\n",
            "Perimeter:  3.7015217907185207e+176\n"
          ]
        }
      ]
    },
    {
      "cell_type": "markdown",
      "source": [
        "Podemos observar que a medida que iteramos más, el área de los triángulos en blanco converge a 0 y el perimetro diverge debido a que este se va al infinito"
      ],
      "metadata": {
        "id": "ZEEniRmGhquc"
      }
    },
    {
      "cell_type": "code",
      "source": [
        "#@title Triángulo de Sierpinski { display-mode: \"form\" }\n",
        "\n",
        "import IPython.display as IP\n",
        "\n",
        "iframe = IP.IFrame(\n",
        "  src=\"https://www.geogebra.org/m/bzx7FhPw\",\n",
        "  width=\"480px\",\n",
        "  height=\"400px\" \n",
        "  \n",
        "  )\n",
        "\n",
        "IP.display_html(iframe)"
      ],
      "metadata": {
        "colab": {
          "base_uri": "https://localhost:8080/",
          "height": 421
        },
        "id": "n55K0jOnfjD3",
        "outputId": "19449a7a-2b09-4bd1-e272-be914e54f7e3"
      },
      "execution_count": null,
      "outputs": [
        {
          "output_type": "display_data",
          "data": {
            "text/html": [
              "\n",
              "        <iframe\n",
              "            width=\"480px\"\n",
              "            height=\"400px\"\n",
              "            src=\"https://www.geogebra.org/m/bzx7FhPw\"\n",
              "            frameborder=\"0\"\n",
              "            allowfullscreen\n",
              "        ></iframe>\n",
              "        "
            ]
          },
          "metadata": {}
        }
      ]
    },
    {
      "cell_type": "markdown",
      "source": [
        "#Segundo problema"
      ],
      "metadata": {
        "id": "Rc3p5AsRbv7I"
      }
    },
    {
      "cell_type": "markdown",
      "source": [
        "En este función tomamos el rollo desde su \"final\", o sea cuando el radio es 5.75, después con esto lo vamos girando hasta que llega a al límite, o sea cuando se topa con el radio de 1,75.\n",
        "\n",
        "Por cada vuelta que se da se le suma el perimetro de la circunferencia a la longitud, además de restarle al radio exterior el grosor de nuestro material, y con esto tener el estado actual de nuestro radio. Por lo tanto siempre se darán las vueltas necesarias o la parte que se necesite de dicha vuelta(con esto no se requiere el límite de vueltas si no que se gira lo necesario, haciendo más eficiente el método).\n",
        "\n",
        "Al final nos queda la longitud del papel en pulgadas y la dividimos entre 12 para obtener los pies."
      ],
      "metadata": {
        "id": "o6Y1lMkooZSK"
      }
    },
    {
      "cell_type": "code",
      "source": [
        "import math as m\n",
        "\n",
        "radio_exterior = 5.75\n",
        "radio_interior = 1.75\n",
        "grosor = 0.003\n",
        "longitud_papel = 0\n",
        "\n",
        "while (radio_exterior > radio_interior):\n",
        "  longitud_papel += 2 * m.pi * radio_exterior\n",
        "  radio_exterior -= grosor\n",
        "\n",
        "print(\"Longitud del papel: \", longitud_papel,\"pulgadas\")\n",
        "print(\"Longitud del papel: \", longitud_papel/12,\"pies\")"
      ],
      "metadata": {
        "id": "MA6LlZzabxjG",
        "colab": {
          "base_uri": "https://localhost:8080/"
        },
        "outputId": "11ea84c4-6c8d-4626-a34c-dc1a32e0594a"
      },
      "execution_count": null,
      "outputs": [
        {
          "output_type": "stream",
          "name": "stdout",
          "text": [
            "Longitud del papel:  31435.82538376514 pulgadas\n",
            "Longitud del papel:  2619.6521153137614 pies\n"
          ]
        }
      ]
    },
    {
      "cell_type": "code",
      "source": [
        "import numpy as np\n",
        "def paper(grosor,inf,sup,capas=False):\n",
        "    t=0\n",
        "    espacio=sup-inf\n",
        "    cp=int(espacio/grosor)\n",
        "    for n in range(1,cp+1):\n",
        "        t+=2*np.pi*(inf+grosor*(n-1))\n",
        "    if capas==True:\n",
        "        print (cp)\n",
        "    return t"
      ],
      "metadata": {
        "id": "N_XEfole0EDS"
      },
      "execution_count": null,
      "outputs": []
    },
    {
      "cell_type": "code",
      "source": [
        "paper(0.003,1.75,5.75)"
      ],
      "metadata": {
        "id": "ZxgAGOwb0GZX",
        "colab": {
          "base_uri": "https://localhost:8080/"
        },
        "outputId": "04530921-4cbc-4f97-f029-02a1593bd25c"
      },
      "execution_count": null,
      "outputs": [
        {
          "output_type": "execute_result",
          "data": {
            "text/plain": [
              "31391.32158223501"
            ]
          },
          "metadata": {},
          "execution_count": 25
        }
      ]
    },
    {
      "cell_type": "markdown",
      "source": [
        "Esta es una serie finita, ascendente, sin embargo, no tiene suma ya que sus terminos en ningun moemento tienden a un valor ya que este aumenta de manera constante, de la misma manera se evidencia en las sumas parciales, en este codigo se usa el concepto de que el rollo se envuelve 1333 veces que se muestra al llamar la funcion con el valor true al final, sin embargo esta cantidad de vueltas no da exactamente el radio pedido ya que si se diera una vuelta mas se pasaria, de esta forma tocaria ir un poquito mas alla con la ultima vuelta, no obstante, debido a que al voltear el papel por primera vez hay un pequeño espacio que queda que no se tiene en cuenta en el calculo, se piensa que este compensa ese poquito mas que deberia de continuar para obtener el radio final dando una cantidad exacta de vueltas.\n",
        "\n",
        "Pero esta es solo una estimacion y faltarian calculos mas profundos para tener mas certeza en esa teoria."
      ],
      "metadata": {
        "id": "pklt_QyC0GKr"
      }
    },
    {
      "cell_type": "code",
      "source": [
        "(paper(0.003,1.75,5.75)/12)"
      ],
      "metadata": {
        "colab": {
          "base_uri": "https://localhost:8080/"
        },
        "id": "jQ7Bgm8J1JNO",
        "outputId": "0277b3f5-f057-472e-f29f-dffcb18064fa"
      },
      "execution_count": null,
      "outputs": [
        {
          "output_type": "execute_result",
          "data": {
            "text/plain": [
              "2615.9434651862507"
            ]
          },
          "metadata": {},
          "execution_count": 2
        }
      ]
    },
    {
      "cell_type": "markdown",
      "source": [
        "Primero convertimos las pulgadas a pies dividiendo por 12 para luego dividir ppor la taza de desenrollo del papel y nos da esa cantidad de minutos que son aproximadamente 4 horas, 21 minutos y 35 segundos"
      ],
      "metadata": {
        "id": "Ac7vkbG33_jy"
      }
    },
    {
      "cell_type": "markdown",
      "source": [
        "#Tercer Problema"
      ],
      "metadata": {
        "id": "eTJ5YSh9uO5g"
      }
    },
    {
      "cell_type": "markdown",
      "source": [
        "Inciso a)\n",
        "$$ La \\ formula \\ general \\ seria:\n",
        "\\\\\\\\ a_{n}=\\frac{altura(inicial)}{3^{n}}\n",
        "\\\\\\\\ donde \\ n \\ es \\ el \\ num \\ de \\ rebotes\n",
        "\\\\\\\\ en \\ este \\ caso \\ :\n",
        "a_{n}=\\frac{9}{3^{n}} $$\n",
        "\n"
      ],
      "metadata": {
        "id": "RSqht6UBuVwc"
      }
    },
    {
      "cell_type": "markdown",
      "source": [
        "Inciso b y c) La distancia recorrida esta dada por la siguiente suseción \n",
        "\n",
        "$$ d_{n}=\\frac{9}{3^{n}}+\\frac{9}{3^{n-1}}+\\frac{9}{3^{n-2}}+...+\\frac{9}{3^{1}}+\\frac{9}{3^{0}} $$\n",
        "\n",
        "\n",
        "\n",
        "Para resolver este punto podemos usar el siguiente codigo: "
      ],
      "metadata": {
        "id": "R60wLhhgum2-"
      }
    },
    {
      "cell_type": "code",
      "source": [
        "\n",
        "a= int(input(\"Ingrese la altura desde la que se deja caer la pelota: \"))\n",
        "n = int(input(\"Ingrese el numero de rebotes: \"))\n",
        "d = 0\n",
        "for i in range(0,n+1):\n",
        "    d += a/(3**i)\n",
        "print (\"La distancia recorrida es: \", d)"
      ],
      "metadata": {
        "colab": {
          "base_uri": "https://localhost:8080/"
        },
        "id": "wfnUdhapuQAb",
        "outputId": "27c9e51e-f277-4bc3-a5d3-837889508937"
      },
      "execution_count": null,
      "outputs": [
        {
          "output_type": "stream",
          "name": "stdout",
          "text": [
            "Ingrese la altura desde la que se deja caer la pelota: \n",
            "9\n",
            "Ingrese el numero de rebotes: \n",
            "2\n",
            "La distancia recorrida es:  13.0\n"
          ]
        }
      ]
    },
    {
      "cell_type": "markdown",
      "source": [
        "La respuesta del inciso c se daría (suponiendo que se mantiene la misma altura inicial de 9) introduciendo 9 como la altura inicial y 5 como el número de rebotes, entonces tendríamos que la distancia recorrida es 13.481481481481481"
      ],
      "metadata": {
        "id": "7wgoTOutuzWs"
      }
    },
    {
      "cell_type": "code",
      "source": [],
      "metadata": {
        "id": "BOJYostrMNN6"
      },
      "execution_count": null,
      "outputs": []
    }
  ]
}