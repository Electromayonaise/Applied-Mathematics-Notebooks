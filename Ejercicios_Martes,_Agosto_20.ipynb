{
  "nbformat": 4,
  "nbformat_minor": 0,
  "metadata": {
    "colab": {
      "provenance": [],
      "include_colab_link": true
    },
    "kernelspec": {
      "name": "python3",
      "display_name": "Python 3"
    },
    "language_info": {
      "name": "python"
    }
  },
  "cells": [
    {
      "cell_type": "markdown",
      "metadata": {
        "id": "view-in-github",
        "colab_type": "text"
      },
      "source": [
        "<a href=\"https://colab.research.google.com/github/Electromayonaise/Applied-Mathematics-Notebooks/blob/main/Ejercicios_Martes%2C_Agosto_20.ipynb\" target=\"_parent\"><img src=\"https://colab.research.google.com/assets/colab-badge.svg\" alt=\"Open In Colab\"/></a>"
      ]
    },
    {
      "cell_type": "markdown",
      "source": [
        "## **Ejercicios Martes, Agosto 20**\n",
        "\n",
        "### Juan Camilo Muñoz, Juan David Acevedo, Martín Gómez Caicedo\n",
        "\n",
        "\n",
        "\n"
      ],
      "metadata": {
        "id": "ubxFmcHnCKDZ"
      }
    },
    {
      "cell_type": "markdown",
      "source": [
        "## Ejercicio 1: Cambie el orden de integración y evalue\n",
        "\n",
        "$$\\int_0^1 \\int_{\\sqrt{y}}^1 e^{x^3}dxdy$$\n",
        "\n",
        "\n"
      ],
      "metadata": {
        "id": "IRtyLJ4GCiwz"
      }
    },
    {
      "cell_type": "code",
      "source": [
        "import IPython.display as IP\n",
        "\n",
        "iframe = IP.IFrame(\n",
        "  src=\"https://www.geogebra.org/classic/rdj6wxsu?embed\",\n",
        "  width=\"1020px\",\n",
        "  height=\"480px\"\n",
        "  )\n",
        "\n",
        "IP.display_html(iframe)\n"
      ],
      "metadata": {
        "colab": {
          "base_uri": "https://localhost:8080/",
          "height": 501
        },
        "id": "W0OYQvr8FJcz",
        "outputId": "50311c21-1987-4c7e-aa86-34ba1648ce6e"
      },
      "execution_count": null,
      "outputs": [
        {
          "output_type": "display_data",
          "data": {
            "text/html": [
              "\n",
              "        <iframe\n",
              "            width=\"1020px\"\n",
              "            height=\"480px\"\n",
              "            src=\"https://www.geogebra.org/classic/rdj6wxsu?embed\"\n",
              "            frameborder=\"0\"\n",
              "            allowfullscreen\n",
              "            \n",
              "        ></iframe>\n",
              "        "
            ]
          },
          "metadata": {}
        }
      ]
    },
    {
      "cell_type": "markdown",
      "source": [
        "En la grafica superior, podemos observar como la región x-simple  se comporta de la siguiente manera (ignoremos por ahora la función)\n",
        "\n",
        "$$0\\leq y \\leq 1$$\n",
        "$$\\sqrt{y} \\leq x \\leq 1 $$\n",
        "\n",
        "Donde\n",
        "$$x_{izq}= \\sqrt{y}$$\n",
        "$$x_{der}= 1$$\n",
        "\n",
        "Ahora, para verla y-simple, despejamos y de manera que $x=\\sqrt{y} => y= x^2$ y entonces,\n",
        "$$0\\leq y \\leq x^2 $$\n",
        "$$0\\leq x \\leq 1$$\n",
        "\n",
        "Donde\n",
        "$$y_{inf}= 0$$\n",
        "$$y_{sup}= x^2$$\n",
        "\n",
        "Esto nos deja entonces con la integral\n",
        "\n",
        "$$\\int_0^1 \\int_0^{x^2} {e^x}^3 dydx $$\n",
        "\n",
        "Evaluamos la integral interna respecto a $y$:\n",
        "\n",
        "\n",
        "$$\\int_0^{x^2} e^{x^3} \\, dy = e^{x^3} \\cdot y \\Big|_0^{x^2} = e^{x^3} \\cdot x^2$$\n",
        "\n",
        "Entonces, la integral se simplifica a:\n",
        "\n",
        "$$\\int_0^1 x^2 e^{x^3} \\, dx.$$\n",
        "\n",
        "Para resolver esta integral, hacemos el cambio de variable $u = x^3$, lo que implica que $du = 3x^2 \\, dx$ o $\\frac{du}{3} = x^2 \\, dx$.\n",
        "\n",
        "Cuando $x = 0$, $u = 0$.\n",
        "\n",
        "Cuando $x = 1$, $u = 1$.\n",
        "\n",
        "Por lo tanto, la integral se transforma en:\n",
        "\n",
        "$$\\frac{1}{3} \\int_0^1 e^u \\, du$$\n",
        "\n",
        "Evaluamos esta integral:\n",
        "\n",
        "$$\\frac{1}{3} \\left[ e^u \\right]_0^1$$\n",
        "\n",
        "Por lo tanto, el valor de la integral es:\n",
        "\n",
        "$$\\frac{1}{3} \\left( e - 1 \\right)$$\n"
      ],
      "metadata": {
        "id": "aGMTk9pVFVZn"
      }
    },
    {
      "cell_type": "markdown",
      "source": [],
      "metadata": {
        "id": "iBcz42Ugi_4Z"
      }
    },
    {
      "cell_type": "markdown",
      "source": [
        "## Punto #12\n",
        "\n",
        "\n",
        "\n"
      ],
      "metadata": {
        "id": "hG83mMGzGSbj"
      }
    },
    {
      "cell_type": "code",
      "source": [
        "import IPython.display as IP\n",
        "\n",
        "iframe = IP.IFrame(\n",
        "  src=\"https://www.geogebra.org/calculator/jvrjdph8\",\n",
        "  width=\"1020px\",\n",
        "  height=\"480px\"\n",
        "  )\n",
        "\n",
        "IP.display_html(iframe)"
      ],
      "metadata": {
        "colab": {
          "base_uri": "https://localhost:8080/",
          "height": 502
        },
        "id": "pDBs017FnQid",
        "outputId": "7e7aed03-fe62-4b50-b404-6a77a3cc14ad"
      },
      "execution_count": null,
      "outputs": [
        {
          "output_type": "display_data",
          "data": {
            "text/html": [
              "\n",
              "        <iframe\n",
              "            width=\"1020px\"\n",
              "            height=\"480px\"\n",
              "            src=\"https://www.geogebra.org/calculator/jvrjdph8\"\n",
              "            frameborder=\"0\"\n",
              "            allowfullscreen\n",
              "            \n",
              "        ></iframe>\n",
              "        "
            ]
          },
          "metadata": {}
        }
      ]
    },
    {
      "cell_type": "markdown",
      "source": [
        "Calcule la integral doble de la función $ f(x,y) = y^2 \\sqrt{x} $ sobre la región \\( D \\) donde:\n",
        "\n",
        "$ $\n",
        "$$D = \\{(x, y) \\mid x > 0, \\, y > x^2, \\, y < 10 - x^2\\}$$\n",
        "$ $\n",
        "\n",
        "Para determinar los limites de x podemos igualar las ecuaciones:\n",
        "\n",
        "$$x^2 = 10 - x^2$$\n",
        "\n",
        "$$x^2 = \\frac{10}{2}$$\n",
        "\n",
        "$$x = \\pm\\sqrt{5}$$\n",
        "\n",
        "Como una de las condiciones establece que $x > 0$, tomamos $\\sqrt{5}$, por lo tanto la función quedaría de la siguiente manera:\n",
        "$ $\n",
        "\n",
        "$$\\int_{0}^{\\sqrt{5}} \\int_{x^2}^{10 - x^2} y^2 \\sqrt{x} \\, dy \\, dx\n",
        "$$\n",
        "\n",
        "Ahora calculamos la integral interna con respecto a $y$.\n",
        "\n",
        "Primero, intregramos $y^2 \\sqrt{x}$  con respecto a $y$:\n",
        "\n",
        "$$\\int_{x^2}^{10 - x^2} y^2 \\sqrt{x} \\, dy$$\n",
        "\n",
        "La integral de $y^2$ con respecto a $y$ es:\n",
        "\n",
        "$$\\frac{y^3}{3}$$\n",
        "\n",
        "Entonces, la integral quedaria de la siguiente manera:\n",
        "\n",
        " $$\\sqrt{x} \\left[ \\frac{y^3}{3} \\right]_{x^2}^{10 - x^2}$$\n",
        "\n",
        " Pasamos a evaluar los limites superior e inferior:\n",
        "\n",
        " $$\\sqrt{x} \\left(\\frac{(10 - x^2)^3}{3} - \\frac{(x^2)^3}{3}\\right) = \\frac{\\sqrt{x}}{3} \\left((10 - x^2)^3 - x^6\\right)$$\n",
        "\n",
        "\n",
        "Por lo tanto, la segunda integral quedaria de esta manera:\n",
        "\n",
        "$$\\int_{0}^{\\sqrt{5}} \\frac{\\sqrt{x}}{3} \\left((10 - x^2)^3 - x^6\\right) dx$$\n",
        "\n",
        "Reajustando:\n",
        "\\begin{equation}\n",
        "\\int_{0}^{\\sqrt{5}} \\frac{\\sqrt{x}(10-x^2)^3 - \\sqrt{x}x^6}{3} dx\n",
        "\\end{equation}\n",
        "\n",
        "\n",
        "Expandiendo la expresion:\n",
        "\n",
        "$$\n",
        "\\int_{0}^{\\sqrt{5}} \\frac{\\sqrt{x}(1000-300x^2+30x^4-x^6)- \\sqrt{x}x^6}{3} dx\n",
        "$$\n",
        "\n",
        "\n",
        "Agrupando terminos semejantes:\n",
        "\n",
        "$$\\int_{0}^{\\sqrt{5}} \\frac{1000x^{\\frac{1}{2}}-300x^2 .x^{\\frac{1}{2}}+30x^4 . x^{\\frac{1}{2}}-2\\sqrt{x}x^6}{3} dx$$\n",
        "\n",
        "\n",
        "\n",
        "Se calcula el producto y simplificamos la expresión:\n",
        "\n",
        "$$\\int_{0}^{\\sqrt{5}} \\frac{1000x^{\\frac{1}{2}}-300x^{\\frac{5}{2}}+30x^{\\frac{9}{2}}-2x^{\\frac{13}{2}}}{3} dx$$\n",
        "\n",
        "Factorizamos la expresión:\n",
        "$$\\int_{0}^{\\sqrt{5}} \\frac{2(500x^{\\frac{1}{2}}-150x^{\\frac{5}{2}}+15x^{\\frac{9}{2}}-x^{\\frac{13}{2}})}{3} dx$$\n",
        "\n",
        "$$=\\frac{2}{3} \\int_{0}^{\\sqrt{5}} (500x^{\\frac{1}{2}} - 150x^{\\frac{5}{2}} + 15x^{\\frac{9}{2}} - x^{\\frac{13}{2}}) dx$$\n",
        "\n",
        " Aplicando la siguiente propiedad de las integrales $\\int f(x) \\pm g(x) dx = \\int f(x) dx \\pm \\int g(x) dx$ obtenemos:\n",
        "\n",
        " $$\\frac{2}{3} \\left( \\frac{1000\\sqrt{x}|x|}{3} - \\frac{300\\sqrt{x}|x^3|}{7} + \\frac{30\\sqrt{x}|x^5|}{11} - \\frac{2\\sqrt{x}|x^7|}{15} \\right)$$\n",
        "\n",
        " $$= \\left| \\frac{2000\\sqrt{x}|x|}{9} - \\frac{200\\sqrt{x}|x^3|}{7} + \\frac{20\\sqrt{x}|x^5|}{11} - \\frac{4\\sqrt{x}|x^7|}{45} \\right|_0^{\\sqrt{5}}$$\n",
        "\n",
        " Evaluando los limites de integración, tenemos el siguiente resultado:\n",
        "\n",
        " $$\\frac{78800\\sqrt[4]{125}}{693} = 380,20$$"
      ],
      "metadata": {
        "id": "6jSOSwmnLuGB"
      }
    },
    {
      "cell_type": "code",
      "source": [
        "import math\n",
        "def f(x):\n",
        "    return math.sqrt(x) * ((10 - x**2)**3 - x**6)\n",
        "\n",
        "a = 0\n",
        "b = math.sqrt(5)\n",
        "n = 1000\n",
        "d = (b - a) / n\n",
        "s = 0\n",
        "\n",
        "for i in range(n):\n",
        "    x = a + i * d\n",
        "    s += f(x)\n",
        "\n",
        "integral = (s * d) / 3\n",
        "print(integral)\n",
        "\n"
      ],
      "metadata": {
        "colab": {
          "base_uri": "https://localhost:8080/"
        },
        "id": "MgOAcQU7Bik5",
        "outputId": "3a1ae67d-175d-48b2-aa17-3c5d157f5b98"
      },
      "execution_count": null,
      "outputs": [
        {
          "output_type": "stream",
          "name": "stdout",
          "text": [
            "380.1998642605635\n"
          ]
        }
      ]
    },
    {
      "cell_type": "markdown",
      "source": [
        "#Punto #14\n",
        "\n",
        "Evaluar $\\iint\\limits_D e^{x-y} dxdy$, donde D es el interior del triángulo con vértices (0, 0), (1, 3), y (2, 2).$"
      ],
      "metadata": {
        "id": "i7GMAbzsLvsh"
      }
    },
    {
      "cell_type": "code",
      "source": [
        "# @title Triangulo D\n",
        "import IPython.display as IP\n",
        "\n",
        "iframe = IP.IFrame(\n",
        "  src=\"https://www.geogebra.org/calculator/xcgmjejn\",\n",
        "  width=\"1020px\",\n",
        "  height=\"480px\"\n",
        "  )\n",
        "\n",
        "IP.display_html(iframe)"
      ],
      "metadata": {
        "colab": {
          "base_uri": "https://localhost:8080/",
          "height": 501
        },
        "outputId": "d2fc0f12-74bc-409b-b82c-32b321cfad89",
        "cellView": "form",
        "id": "pTIKqLxBVVP-"
      },
      "execution_count": null,
      "outputs": [
        {
          "output_type": "display_data",
          "data": {
            "text/html": [
              "\n",
              "        <iframe\n",
              "            width=\"1020px\"\n",
              "            height=\"480px\"\n",
              "            src=\"https://www.geogebra.org/calculator/xcgmjejn\"\n",
              "            frameborder=\"0\"\n",
              "            allowfullscreen\n",
              "            \n",
              "        ></iframe>\n",
              "        "
            ]
          },
          "metadata": {}
        }
      ]
    },
    {
      "cell_type": "markdown",
      "source": [
        "Claro, aquí está la respuesta con las sustituciones incluidas en la resolución de las integrales:\n",
        "\n",
        "Notamos que el triángulo $D$ no es ni $x$-simple ni $y$-simple. Por tanto, para resolver la integral doble, es necesario dividir la región en dos secciones para que cada una sea simple con respecto a una de las variables.\n",
        "\n",
        "Primero, determinamos las ecuaciones de las líneas que conectan los vértices del triángulo.\n",
        "\n",
        "1. **Recta entre** $(0, 0)$ **y** $(2, 2)$:\n",
        "   $$y = x$$\n",
        "\n",
        "2. **Recta entre** $(0, 0)$ **y** $(1, 3)$:\n",
        "   $$y = 3x$$\n",
        "\n",
        "3. **Recta entre** $(1, 3)$ **y** $(2, 2)$:\n",
        "   $$y = -x + 4$$\n",
        "\n",
        "De aquí podemos dividir el triángulo en dos regiones:\n",
        "\n",
        "1. **Región 1 ($D_1$)**: La región bajo la recta $y = 3x$ y sobre $y = x$, entre $x = 0$ y $x = 1$.\n",
        "2. **Región 2 ($D_2$)**: La región bajo la recta $y = -x + 4$ y sobre $y = x$, entre $x = 1$ y $x = 2$.\n",
        "\n",
        "Por tanto, la integral original se puede expresar como la suma de las integrales sobre $D_1$ y $D_2$:\n",
        "\n",
        "$$\\iint\\limits_D e^{x-y} \\, dx \\, dy = \\iint\\limits_{D_1} e^{x-y} \\, dx \\, dy + \\iint\\limits_{D_2} e^{x-y} \\, dx \\, dy$$\n",
        "\n",
        "Ahora resolvemos cada integral:\n",
        "\n",
        "### Región 1:\n",
        "\n",
        "$$\\int_{0}^{1} \\int_{x}^{3x} e^{x-y} \\, dy \\, dx$$\n",
        "\n",
        "Primero, integramos con respecto a $y$:\n",
        "\n",
        "$$\\int_{x}^{3x} e^{x-y} \\, dy$$\n",
        "\n",
        "Hacemos la sustitución $u = x - y$, entonces $du = -dy$, y los límites cambian de $y = x$ a $y = 3x$, que corresponden a $u = x - x = 0$ y $u = x - 3x = -2x$, respectivamente:\n",
        "\n",
        "$$\\int_{0}^{-2x} -e^u \\, du = \\left[-e^u\\right]_{0}^{-2x} = -e^{-2x} + e^0 = -e^{-2x} + 1$$\n",
        "\n",
        "Entonces, la integral sobre la región 1 se convierte en:\n",
        "\n",
        "$$\\int_{0}^{1} \\left(1 - e^{-2x}\\right) \\, dx$$\n",
        "\n",
        "Ahora, integramos con respecto a $x$:\n",
        "\n",
        "$$\\int_{0}^{1} 1 \\, dx - \\int_{0}^{1} e^{-2x} \\, dx$$\n",
        "\n",
        "Para la integral de $e^{-2x}$, hacemos la sustitución $v = -2x$, entonces $dv = -2 dx$ o $dx = -\\frac{dv}{2}$, y los limites cambian de $x=0$ a $x=1$, que corresponden a a $u = -2(0)=0$ y $u = -2(1) = -2$, respectivamente:\n",
        "\n",
        "$$\\int_{0}^{1} e^{-2x} \\, dx = \\int_{0}^{-2} e^v \\left(-\\frac{dv}{2}\\right) = \\frac{1}{2} \\int_{-2}^{0} e^v \\, dv = \\frac{1}{2} \\left[e^v\\right]_{-2}^{0} = \\frac{1}{2} \\left(e^0 - e^{-2}\\right) = \\frac{1}{2} \\left(1 - e^{-2}\\right)$$\n",
        "\n",
        "Entonces:\n",
        "\n",
        "$$\\int_{0}^{1} \\left(1 - e^{-2x}\\right) \\, dx = \\left[x\\right]_{0}^{1} - \\frac{1}{2} \\left(1 - e^{-2}\\right) = 1 - \\frac{1}{2} + \\frac{e^{-2}}{2} = \\frac{1}{2} + \\frac{e^{-2}}{2}$$\n",
        "\n",
        "### Región 2:\n",
        "\n",
        "$$\\int_{1}^{2} \\int_{x}^{-x+4} e^{x-y} \\, dy \\, dx$$\n",
        "\n",
        "Primero, integramos con respecto a $y$:\n",
        "\n",
        "$$\\int_{x}^{-x+4} e^{x-y} \\, dy$$\n",
        "\n",
        "Hacemos la sustitución $u = x - y$, entonces $du = -dy$, y los límites cambian de $y = x$ a $y = -x + 4$, que corresponden a $u = x - x = 0$ y $u = x - (-x+4) = 2x - 4$, respectivamente:\n",
        "\n",
        "$$\\int_{0}^{2x-4} -e^u \\, du = \\left[-e^u\\right]_{0}^{2x-4} = -e^{2x-4} + e^0 = -e^{2x-4} + 1$$\n",
        "\n",
        "Entonces, la integral sobre la región 2 se convierte en:\n",
        "\n",
        "$$\\int_{1}^{2} \\left(1 - e^{2x-4}\\right) \\, dx$$\n",
        "\n",
        "Ahora, integramos con respecto a $x$:\n",
        "\n",
        "$$\\int_{1}^{2} 1 \\, dx - \\int_{1}^{2} e^{2x-4} \\, dx$$\n",
        "\n",
        "Para la integral de $e^{2x-4}$, hacemos la sustitución $v = 2x - 4$, entonces $dv = 2 dx$ o $dx = \\frac{dv}{2}$ y los limites cambian de $x=1$ a $x=2$, que corresponden a a $u = -2(1)-4=-2$ y $u = -2(2) - 4= 0$, respectivamente:\n",
        "\n",
        "$$\\int_{1}^{2} e^{2x-4} \\, dx = \\int_{-2}^{0} e^v \\frac{dv}{2} = \\frac{1}{2} \\int_{-2}^{0} e^v \\, dv = \\frac{1}{2} \\left[e^v\\right]_{-2}^{0} = \\frac{1}{2} \\left(e^0 - e^{-2}\\right) = \\frac{1}{2} \\left(1 - e^{-2}\\right)$$\n",
        "\n",
        "Entonces:\n",
        "\n",
        "$$\\int_{1}^{2} \\left(1 - e^{2x-4}\\right) \\, dx = \\left[x\\right]_{1}^{2} - \\frac{1}{2} \\left(1 - e^{-2}\\right) = (2 - 1) - \\frac{1}{2} + \\frac{e^{-2}}{2} = 1 - \\frac{1}{2} + \\frac{e^{-2}}{2} = \\frac{1}{2} + \\frac{e^{-2}}{2}$$\n",
        "\n",
        "### Suma de las integrales\n",
        "\n",
        "La integral total es la suma de las dos regiones:\n",
        "\n",
        "$$\\frac{1}{2} + \\frac{e^{-2}}{2} + \\frac{1}{2} + \\frac{e^{-2}}{2} = 1 + e^{-2}$$\n",
        "\n",
        "Por lo tanto, la solución de la integral doble es $1 + e^{-2}$."
      ],
      "metadata": {
        "id": "9H_alNOzMSmB"
      }
    }
  ]
}