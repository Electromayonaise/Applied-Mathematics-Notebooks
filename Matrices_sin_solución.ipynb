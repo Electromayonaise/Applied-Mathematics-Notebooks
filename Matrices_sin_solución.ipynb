{
  "nbformat": 4,
  "nbformat_minor": 0,
  "metadata": {
    "colab": {
      "provenance": [],
      "authorship_tag": "ABX9TyMNr3T4I0wOgU8lZNqbokAD",
      "include_colab_link": true
    },
    "kernelspec": {
      "name": "python3",
      "display_name": "Python 3"
    },
    "language_info": {
      "name": "python"
    }
  },
  "cells": [
    {
      "cell_type": "markdown",
      "metadata": {
        "id": "view-in-github",
        "colab_type": "text"
      },
      "source": [
        "<a href=\"https://colab.research.google.com/github/Electromayonaise/Calculus-Notebooks/blob/main/Matrices_sin_soluci%C3%B3n.ipynb\" target=\"_parent\"><img src=\"https://colab.research.google.com/assets/colab-badge.svg\" alt=\"Open In Colab\"/></a>"
      ]
    },
    {
      "cell_type": "markdown",
      "source": [
        "#Matrices sin solución\n",
        "\n",
        "## Martín Gómez Caicedo\n",
        "\n",
        "De manera simplificada, para distinguir si una matriz tiene solución única, soluciones infinitas, o no teiene solución, (en matrices cuadradas) debemos fijarnos en las filas de la misma. Para el primer caso, de una solución única, es identificable  si se tiene en la última fila un elemento igualado a otro\n",
        "\n",
        "Ej (8 igualado al 9) :\n",
        "\n",
        "$$ \\begin{bmatrix}\n",
        "\\left.\\begin{matrix}\n",
        "1 & 2 & 3\\\\\n",
        "0 & 5 & 6\\\\\n",
        "0 & 0 & 8\n",
        "\\end{matrix}\\right| \\begin{matrix} 4\\\\ 7 \\\\9 \\end{matrix} \\\\\n",
        "\\end{bmatrix} $$\n",
        "\n",
        "En el segundo caso, de solución infinita, es identificable si toda una fila en su totalidad es 0, esto quiere decir que existen vectores repetidos y por tanto tiene soluciones infinitas\n",
        "\n",
        "Ej (toda la última fila es 0) :\n",
        "\n",
        "$$\\begin{bmatrix}\n",
        "\\left.\\begin{matrix}\n",
        "1 & 2 & 3\\\\\n",
        "0 & 5 & 6\\\\\n",
        "0 & 0 & 0\n",
        "\\end{matrix}\\right| \\begin{matrix} 4\\\\ 7 \\\\0 \\end{matrix} \\\\\n",
        "\\end{bmatrix}$$\n",
        "\n",
        "O si más de un elemento esta igualado a otro, dependiendo de las dimensiones de la matriz, por ejemplo en una 3x3, si 2 elementos están igualados a uno, en una 4x4 si 3 elementos estan igualados a uno,..., esto quiere decir que si se tienen n-1 elementos igualados a uno solo, siendo n las filas y columnas de la matriz\n",
        "\n",
        "Ej (dos elementos igualados a uno) :\n",
        "\n",
        "$$\\begin{bmatrix}\n",
        "\\left.\\begin{matrix}\n",
        "1 & 2 & 3\\\\\n",
        "0 & 5 & 6\\\\\n",
        "0 & 8 & 9\n",
        "\\end{matrix}\\right| \\begin{matrix} 4\\\\ 7 \\\\10 \\end{matrix} \\\\\n",
        "\\end{bmatrix} $$\n",
        "\n",
        "Para el último caso, matrices insolubles, encontraremos, de igual manera, dos casos distintos, el primero siendo que se tiene un numero igualado a otro, y en la misma columna del mismo vector existe otro número igualado a otro, pues al despejarlos darán valores distintos (es soluble si al despejarlos da el mismo valor)\n",
        "\n",
        "Ej (dos valores igualados en la misma columna con diferentes resultados):\n",
        "\n",
        "$$ \\begin{bmatrix}\n",
        "\\left.\\begin{matrix}\n",
        "1 & 2 & 3\\\\\n",
        "0 & 0 & 6\\\\\n",
        "0 & 0 & 9\n",
        "\\end{matrix}\\right| \\begin{matrix} 4\\\\ 7 \\\\10 \\end{matrix} \\\\\n",
        "\\end{bmatrix} $$\n",
        "\n",
        "El segundo caso es que exista una fila de 0s igualados a algún número.\n",
        "\n",
        "Ej:\n",
        "\n",
        "$$\\begin{bmatrix}\n",
        "\\left.\\begin{matrix}\n",
        "1 & 2 & 3\\\\\n",
        "0 & 5 & 6\\\\\n",
        "0 & 0 & 0\n",
        "\\end{matrix}\\right| \\begin{matrix} 4\\\\ 7 \\\\10 \\end{matrix} \\\\\n",
        "\\end{bmatrix} $$\n",
        "\n",
        "\\\\\n",
        "\n",
        "Una de las herramientas que podemos utilizar es la que proporciona el Teorema de Rouché-Fröbenius en donde encontramos que la condición necesaria y suficiente para que un sistema de $m$ ecuaciones lineales con $n$ incógnitas sea compatible es que el rango de la matriz de los coeficientes de las incógnitas ($A$) sea igual al rango de la matriz ampliada con los términos independientes ($A^*$). Es decir:\n",
        "\n",
        "$$\\text{rango}(A) = \\text{rango}(A^*)$$\n",
        "\n",
        "Donde el rango se define como el número de filas independientes, y la matriz ampleiada se trara de la matriz con sus soluciones incluidas.\n",
        "\n",
        "Si el valor común de los rangos coincide con el número de incógnitas, el sistema es compatible determinado. Si, por el contrario, el valor de los rangos es menor que el número de incógnitas, el sistema es compatible indeterminado.\n",
        "\n",
        "Casos:\n",
        "\n",
        "1. Si $\\text{rango}(A) = \\text{rango}(A^*) = n$ (número de incógnitas), el sistema es compatible determinado (tiene una única solución).\n",
        "2. Si $\\text{rango}(A) = \\text{rango}(A^*) < n$ (número de incógnitas), el sistema es compatible indeterminado (tiene infinitas soluciones).\n",
        "3. Si $\\text{rango}(A) \\neq \\text{rango}(A^*)$, el sistema es incompatible (no tiene solución).\n",
        "\n",
        "\n",
        "##Graficamente Hablando\n",
        "\n",
        "Sabemos que las matrices representan sistemas de ecuaciones, por lo que sabemos una matriz con única solución representan funciones con una única intersección, una matriz con multiples soluciones representa funciones sobrepuestas, y matrices sin solución representan funciones paralelas. Usando los ejemplos anteriores en su forma de funciones:\n",
        "\n",
        "**1. Matriz con solución única**:\n",
        "   \n",
        "\n",
        "   $$\n",
        "   \\begin{bmatrix}\n",
        "   \\left.\\begin{matrix}\n",
        "   1 & 2 & 3\\\\\n",
        "   0 & 5 & 6\\\\\n",
        "   0 & 0 & 8\n",
        "   \\end{matrix}\\right| \\begin{matrix} 4\\\\ 7 \\\\9 \\end{matrix} \\\\\n",
        "   \\end{bmatrix}\n",
        "   $$\n",
        "\n",
        "   Las ecuaciones que representan esta matriz son:\n",
        "\n",
        "   $$\n",
        "   \\begin{align*}\n",
        "   1x + 2y + 3z &= 4 \\\\\n",
        "   0x + 5y + 6z &= 7 \\\\\n",
        "   0x + 0y + 8z &= 9\n",
        "   \\end{align*}\n",
        "   $$\n",
        "\n",
        "\n",
        "**2. Matriz con soluciones infinitas**:\n",
        "   \n",
        "\n",
        "   $$\n",
        "   \\begin{bmatrix}\n",
        "   \\left.\\begin{matrix}\n",
        "   1 & 2 & 3\\\\\n",
        "   0 & 5 & 6\\\\\n",
        "   0 & 0 & 0\n",
        "   \\end{matrix}\\right| \\begin{matrix} 4\\\\ 7 \\\\0 \\end{matrix} \\\\\n",
        "   \\end{bmatrix}\n",
        "   $$\n",
        "\n",
        "   Las ecuaciones que representan esta matriz son:\n",
        "\n",
        "   $$\n",
        "   \\begin{align*}\n",
        "   1x + 2y + 3z &= 4 \\\\\n",
        "   0x + 5y + 6z &= 7 \\\\\n",
        "   0x + 0y + 0z &= 0\n",
        "   \\end{align*}\n",
        "   $$\n",
        "\n",
        "**3. Matriz con soluciones infinitas (varios elementos iguales a uno)**:\n",
        "\n",
        "\n",
        "   $$\n",
        "   \\begin{bmatrix}\n",
        "   \\left.\\begin{matrix}\n",
        "   1 & 2 & 3\\\\\n",
        "   0 & 5 & 6\\\\\n",
        "   0 & 8 & 9\n",
        "   \\end{matrix}\\right| \\begin{matrix} 4\\\\ 7 \\\\10 \\end{matrix} \\\\\n",
        "   \\end{bmatrix}\n",
        "   $$\n",
        "\n",
        "   Las ecuaciones que representan esta matriz son:\n",
        "\n",
        "   $$\n",
        "   \\begin{align*}\n",
        "   1x + 2y + 3z &= 4 \\\\\n",
        "   0x + 5y + 6z &= 7 \\\\\n",
        "   0x + 8y + 9z &= 10\n",
        "   \\end{align*}\n",
        "   $$\n",
        "\n",
        "**4. Matriz insoluble (dos elementos iguales en la misma columna con diferentes resultados)**:\n",
        "   \n",
        "\n",
        "   $$\n",
        "   \\begin{bmatrix}\n",
        "   \\left.\\begin{matrix}\n",
        "   1 & 2 & 3\\\\\n",
        "   0 & 0 & 6\\\\\n",
        "   0 & 0 & 9\n",
        "   \\end{matrix}\\right| \\begin{matrix} 4\\\\ 7 \\\\10 \\end{matrix} \\\\\n",
        "   \\end{bmatrix}\n",
        "   $$\n",
        "\n",
        "   Las ecuaciones que representan esta matriz son:\n",
        "\n",
        "   $$\n",
        "   \\begin{align*}\n",
        "   1x + 2y + 3z &= 4 \\\\\n",
        "   0x + 0y + 6z &= 7 \\\\\n",
        "   0x + 0y + 9z &= 10\n",
        "   \\end{align*}\n",
        "   $$\n",
        "\n",
        "**5. Matriz insoluble (fila de 0s igualada a algún número)**:\n",
        "   \n",
        "\n",
        "   $$\n",
        "   \\begin{bmatrix}\n",
        "   \\left.\\begin{matrix}\n",
        "   1 & 2 & 3\\\\\n",
        "   0 & 5 & 6\\\\\n",
        "   0 & 0 & 0\n",
        "   \\end{matrix}\\right| \\begin{matrix} 4\\\\ 7 \\\\10 \\end{matrix} \\\\\n",
        "   \\end{bmatrix}\n",
        "   $$\n",
        "\n",
        "   Las ecuaciones que representan esta matriz son:\n",
        "\n",
        "   $$\n",
        "   \\begin{align*}\n",
        "   1x + 2y + 3z &= 4 \\\\\n",
        "   0x + 5y + 6z &= 7 \\\\\n",
        "   0x + 0y + 0z &= 10\n",
        "   \\end{align*}\n",
        "   $$\n",
        "\n"
      ],
      "metadata": {
        "id": "73PASrie1d0d"
      }
    },
    {
      "cell_type": "code",
      "source": [
        "#@title Gráfica Matriz solución única { display-mode: \"form\" }\n",
        "\n",
        "import IPython.display as IP\n",
        "\n",
        "iframe = IP.IFrame(\n",
        "  src=\"https://www.geogebra.org/m/zs2x24na\",\n",
        "  width=\"1020px\",\n",
        "  height=\"480px\"\n",
        "  )\n",
        "\n",
        "IP.display_html(iframe)"
      ],
      "metadata": {
        "colab": {
          "base_uri": "https://localhost:8080/",
          "height": 501
        },
        "id": "kRNVRWVTRoxd",
        "outputId": "a0fb803a-a6a9-45e4-db2d-ab5ded4da7e9"
      },
      "execution_count": null,
      "outputs": [
        {
          "output_type": "display_data",
          "data": {
            "text/html": [
              "\n",
              "        <iframe\n",
              "            width=\"1020px\"\n",
              "            height=\"480px\"\n",
              "            src=\"https://www.geogebra.org/m/zs2x24na\"\n",
              "            frameborder=\"0\"\n",
              "            allowfullscreen\n",
              "            \n",
              "        ></iframe>\n",
              "        "
            ]
          },
          "metadata": {}
        }
      ]
    },
    {
      "cell_type": "code",
      "source": [
        "#@title Gráfica Matriz soluciones infinitas caso 1 { display-mode: \"form\" }\n",
        "\n",
        "import IPython.display as IP\n",
        "\n",
        "iframe = IP.IFrame(\n",
        "  src=\"https://www.geogebra.org/m/bdmnzbem\",\n",
        "  width=\"1020px\",\n",
        "  height=\"480px\"\n",
        "  )\n",
        "\n",
        "IP.display_html(iframe)"
      ],
      "metadata": {
        "colab": {
          "base_uri": "https://localhost:8080/",
          "height": 501
        },
        "id": "g-_BUrt7UV8B",
        "outputId": "f5b1132c-8abc-499b-bffc-f621a72f14f8"
      },
      "execution_count": null,
      "outputs": [
        {
          "output_type": "display_data",
          "data": {
            "text/html": [
              "\n",
              "        <iframe\n",
              "            width=\"1020px\"\n",
              "            height=\"480px\"\n",
              "            src=\"https://www.geogebra.org/m/bdmnzbem\"\n",
              "            frameborder=\"0\"\n",
              "            allowfullscreen\n",
              "            \n",
              "        ></iframe>\n",
              "        "
            ]
          },
          "metadata": {}
        }
      ]
    },
    {
      "cell_type": "markdown",
      "source": [
        "Vemos que las dos funciones se superponen, por lo que existen un número infinito de soluciones"
      ],
      "metadata": {
        "id": "-PWrqVF6XBuN"
      }
    },
    {
      "cell_type": "code",
      "source": [
        "#@title Gráfica Matriz soluciones infinitas caso 2 { display-mode: \"form\" }\n",
        "\n",
        "import IPython.display as IP\n",
        "\n",
        "iframe = IP.IFrame(\n",
        "  src=\"https://www.geogebra.org/m/cfkcwnte\",\n",
        "  width=\"1020px\",\n",
        "  height=\"480px\"\n",
        "  )\n",
        "\n",
        "IP.display_html(iframe)"
      ],
      "metadata": {
        "colab": {
          "base_uri": "https://localhost:8080/",
          "height": 501
        },
        "id": "voiNdG0fU8c7",
        "outputId": "76f2f245-a83e-4f68-c699-fdaade392597"
      },
      "execution_count": null,
      "outputs": [
        {
          "output_type": "display_data",
          "data": {
            "text/html": [
              "\n",
              "        <iframe\n",
              "            width=\"1020px\"\n",
              "            height=\"480px\"\n",
              "            src=\"https://www.geogebra.org/m/cfkcwnte\"\n",
              "            frameborder=\"0\"\n",
              "            allowfullscreen\n",
              "            \n",
              "        ></iframe>\n",
              "        "
            ]
          },
          "metadata": {}
        }
      ]
    },
    {
      "cell_type": "markdown",
      "source": [
        "Vemos que, al existir y,z igualados a un valor en una matriz 3x3, obtenemos infinitas soluciones, en este caso todas las funciones se superponen."
      ],
      "metadata": {
        "id": "Owh_xv2iXLlj"
      }
    },
    {
      "cell_type": "code",
      "source": [
        "#@title Gráfica Matriz sin solución caso 1{ display-mode: \"form\" }\n",
        "\n",
        "import IPython.display as IP\n",
        "\n",
        "iframe = IP.IFrame(\n",
        "  src=\"https://www.geogebra.org/m/c5rkx9bf\",\n",
        "  width=\"1020px\",\n",
        "  height=\"480px\"\n",
        "  )\n",
        "\n",
        "IP.display_html(iframe)"
      ],
      "metadata": {
        "colab": {
          "base_uri": "https://localhost:8080/",
          "height": 501
        },
        "id": "V_HFssz8VmRb",
        "outputId": "42551aba-15ab-4b49-86c6-6c3466e4761c"
      },
      "execution_count": null,
      "outputs": [
        {
          "output_type": "display_data",
          "data": {
            "text/html": [
              "\n",
              "        <iframe\n",
              "            width=\"1020px\"\n",
              "            height=\"480px\"\n",
              "            src=\"https://www.geogebra.org/m/c5rkx9bf\"\n",
              "            frameborder=\"0\"\n",
              "            allowfullscreen\n",
              "            \n",
              "        ></iframe>\n",
              "        "
            ]
          },
          "metadata": {}
        }
      ]
    },
    {
      "cell_type": "markdown",
      "source": [
        "Vemos que al tener una sola variable igualada a dos valores distintos (es decir existe otro elemento igualado a otro en la misma columna de un mismo vector) obtenemos funciones paralelas, que nunca tocarán y por ende el sistema no tiene solución (ec2 y ec3 en este caso)"
      ],
      "metadata": {
        "id": "SxVGpY_wX4ke"
      }
    },
    {
      "cell_type": "code",
      "source": [
        "#@title Gráfica Matriz sin solución caso 2{ display-mode: \"form\" }\n",
        "\n",
        "import IPython.display as IP\n",
        "\n",
        "iframe = IP.IFrame(\n",
        "  src=\"https://www.geogebra.org/m/dwq9yugc\",\n",
        "  width=\"1020px\",\n",
        "  height=\"480px\"\n",
        "  )\n",
        "\n",
        "IP.display_html(iframe)"
      ],
      "metadata": {
        "colab": {
          "base_uri": "https://localhost:8080/",
          "height": 501
        },
        "id": "8qGnU5GJWXOe",
        "outputId": "da5a79bb-7ca2-4312-a858-bedecaa8b0eb"
      },
      "execution_count": null,
      "outputs": [
        {
          "output_type": "display_data",
          "data": {
            "text/html": [
              "\n",
              "        <iframe\n",
              "            width=\"1020px\"\n",
              "            height=\"480px\"\n",
              "            src=\"https://www.geogebra.org/m/dwq9yugc\"\n",
              "            frameborder=\"0\"\n",
              "            allowfullscreen\n",
              "            \n",
              "        ></iframe>\n",
              "        "
            ]
          },
          "metadata": {}
        }
      ]
    },
    {
      "cell_type": "markdown",
      "source": [
        "Esta matriz, aunque graficamente se pueda parecer mucho a la de infinitas soluciones por una fila llena de 0s, es diferente, pues al estar igualando 0s a un valor, el sistema no tiene solución."
      ],
      "metadata": {
        "id": "FLGgar8vYaTt"
      }
    }
  ]
}