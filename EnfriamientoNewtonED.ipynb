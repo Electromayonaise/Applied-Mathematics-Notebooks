{
  "nbformat": 4,
  "nbformat_minor": 0,
  "metadata": {
    "colab": {
      "provenance": [],
      "include_colab_link": true
    },
    "kernelspec": {
      "name": "python3",
      "display_name": "Python 3"
    },
    "language_info": {
      "name": "python"
    }
  },
  "cells": [
    {
      "cell_type": "markdown",
      "metadata": {
        "id": "view-in-github",
        "colab_type": "text"
      },
      "source": [
        "<a href=\"https://colab.research.google.com/github/Electromayonaise/Calculus-Notebooks/blob/main/EnfriamientoNewtonED.ipynb\" target=\"_parent\"><img src=\"https://colab.research.google.com/assets/colab-badge.svg\" alt=\"Open In Colab\"/></a>"
      ]
    },
    {
      "cell_type": "markdown",
      "source": [
        "<img src=http://www.acofi.edu.co/eiei2016/wp-content/uploads/2016/09/Logo-Universidad-ICESI.jpg width=\"300\" height=\"200\" align=\"center\">\n",
        "\n",
        "#**<big><big>Matemáticas Aplicadas ll</big></big><br><small>Depto. Matemáticas & Estadística / Facultad de Ingeniería</small><br><small>Jornada de Resolución de Problemas**\n",
        "<b>Autores:</b>\n",
        "* <b>MARTÍN GÓMEZ - A00399958</b>\n",
        "* <b>ALEJANDRO QUIÑONES - A00377013</b>"
      ],
      "metadata": {
        "id": "nIJ9zDjl-FiB"
      }
    },
    {
      "cell_type": "markdown",
      "source": [
        "#Formulación de las ecuaciones diferenciales"
      ],
      "metadata": {
        "id": "XToU8L3a-K2L"
      }
    },
    {
      "cell_type": "markdown",
      "source": [
        "Definición de variables\n",
        "</br>\n",
        "$T(t) =$ Temperatura del objeto en el tiempo t\n",
        "</br>\n",
        "$T_{a} =$ Temperatura ambiente\n",
        "</br>\n",
        "$T'(t) =$ razón de cambio de la temperatura\n"
      ],
      "metadata": {
        "id": "wfmQS3yWg8qB"
      }
    },
    {
      "cell_type": "markdown",
      "source": [
        "Partimos de que $T'(t) = k(T(t) - T_{a})$"
      ],
      "metadata": {
        "id": "cEtnXsPSKK8m"
      }
    },
    {
      "cell_type": "markdown",
      "source": [
        "#Implementación Numérica"
      ],
      "metadata": {
        "id": "K-v5IFnl-Vtq"
      }
    },
    {
      "cell_type": "markdown",
      "source": [
        "Observamos que tenemos una ecuación a la cual es posible separar las variables hacemos:\n",
        "$$\n",
        "T' = k(T - T_{a})\\\\\n",
        "\\frac{dT}{dt} = k(T-T_{a})\\\\\n",
        "\\frac{dT}{T-T_{a}} = kdt\n",
        "$$\n",
        "Ahora integramos a ambos lados y obtenemos:\n",
        "$$\n",
        "\\int \\frac{dT}{T-T_{a}} = \\int kdt\\\\\n",
        "ln|T-T_{a}| = kt + C_{1}\\\\\n",
        "T-T_{a} = e^{kt+C_{1}}\\\\\n",
        "T-T_{a} = e^{kt} * e^{C_{1}}\\\\\n",
        "T-T_{a} = e^{kt} * C_{2}\\\\\n",
        "T = T_{a} + Ce^{kt}\n",
        "$$\n",
        "Tenemos la que temperatura de un cuerpo en un tiempo $t$ está dada por la ecuación:\n",
        "$$\n",
        "T(t) = T_{a} + Ce^{kt}\n",
        "$$"
      ],
      "metadata": {
        "id": "HUArKQutMDO5"
      }
    },
    {
      "cell_type": "markdown",
      "source": [
        "Comprobamos la solución anterior con el siguiente código:"
      ],
      "metadata": {
        "id": "1kGqqVOsy3NY"
      }
    },
    {
      "cell_type": "code",
      "source": [
        "from sympy import symbols, Function, Eq, dsolve, exp\n",
        "\n",
        "# Definir las variables simbólicas\n",
        "t, k, C, Ta = symbols('t k C Ta')\n",
        "T = Function('T')(t)\n",
        "\n",
        "# Definir la ecuación diferencial\n",
        "equation = Eq(T, Ta + C*exp(k*t))\n",
        "\n",
        "# Resolver la ecuación diferencial\n",
        "solution = dsolve(equation, T)\n",
        "\n",
        "print(solution)"
      ],
      "metadata": {
        "colab": {
          "base_uri": "https://localhost:8080/"
        },
        "id": "7f9dwjT1ywrn",
        "outputId": "25f9364d-e09a-46c1-b0ef-01eca585f926"
      },
      "execution_count": null,
      "outputs": [
        {
          "output_type": "stream",
          "name": "stdout",
          "text": [
            "Eq(T(t), C*exp(k*t) + Ta)\n"
          ]
        }
      ]
    },
    {
      "cell_type": "markdown",
      "source": [
        "Ahora suponemos que nos encontramos a una temperatura ambiente de 20°C y que la temperatura en el estado inicial es 55°C y que la temperatura después de 10min es 43°C, entonces nos queda:\n",
        "$$\n",
        "55 = 20 + Ce^{kt}\n",
        "$$\n",
        "Entonces para $t=0$ obtenemos:\n",
        "$$\n",
        "55 = 20+Ce^{k*0}\\\\\n",
        "55 = 20+C\\\\\n",
        "C = 35\n",
        "$$\n",
        "Ahora usando la temperatura después de 10min obtenemos:\n",
        "$$\n",
        "43 = 20 + 35e^{10k}\\\\\n",
        "23 = 35e^{10k}\\\\\n",
        "\\frac{23}{35} = e^{10k}\\\\\n",
        "ln(\\frac{23}{35}) = 10k\\\\\n",
        "\\frac{ln(\\frac{23}{35})}{10} = k\\\\\n",
        "k = -0.042\n",
        "$$\n",
        "Entonces para este caso obtenemos que la ecuación que determina la temperatura del objeto en un tiempo $t$ es:\n",
        "$$\n",
        "T(t) = 20 + 35e^{-0.042t}\n",
        "$$"
      ],
      "metadata": {
        "id": "YpEcUNMysBk8"
      }
    },
    {
      "cell_type": "markdown",
      "source": [
        "Ahora, sabemos que el cambio de la temperatura en un intervalo de tiempo está dado por $ΔT=T-T_{a}$"
      ],
      "metadata": {
        "id": "oWJLHueeFXUE"
      }
    },
    {
      "cell_type": "markdown",
      "source": [
        "##En cuanto al trabajo\n",
        "\n",
        "Podemos decir que La integral de T(t) en un intervalo te tiempo determiando nos proporciona la cantidad de trabajo necesaria para llevar el objeto desde una temperatura inicial hasta una temperatura final, y representa la cantidad de energía transferida entre objetos (medio y objetos en este caso) en forma de calor.\n",
        "\n",
        "$$\n",
        "W = \\int_{t_0}^{t_f} T(t) \\, dt\n",
        "$$\n",
        "\n",
        "Sustituimos T(t)\n",
        "\n",
        "$$ W = \\int_{t_0}^{t_f} T_{a} + Ce^{kt} $$\n",
        "\n",
        "\n",
        "Para resolver esta integral, primero tomemos en cuenta que \\(T_a\\) es una constante, y la integral de una constante con respecto a \\(t\\) es simplemente el producto de la constante por \\(t\\). Por lo tanto:\n",
        "\n",
        "$$\n",
        "\\int_{t_0}^{t_f} T_a \\, dt = T_a(t_f - t_0)\n",
        "$$\n",
        "\n",
        "Ahora, para la segunda parte de la integral, $Ce^{kt}$, podemos aplicar la regla básica de integración de $e^{kt}$, que es $\\frac{1}{k}e^{kt}$. Entonces:\n",
        "\n",
        "$$\n",
        "\\int_{t_0}^{t_f} Ce^{kt} \\, dt = \\left[\\frac{C}{k}e^{kt}\\right]_{t_0}^{t_f}\n",
        "$$\n",
        "\n",
        "Sustituyendo los límites de integración:\n",
        "\n",
        "$$\n",
        "\\left[\\frac{C}{k}e^{kt_f} - \\frac{C}{k}e^{kt_0}\\right]\n",
        "$$\n",
        "\n",
        "Finalmente, combinamos ambas partes de la integral:\n",
        "\n",
        "$$\n",
        "W = T_a(t_f - t_0) + \\left[\\frac{C}{k}e^{kt_f} - \\frac{C}{k}e^{kt_0}\\right]\n",
        "$$\n",
        "\n",
        "Esta es la expresión final para el trabajo necesario para llevar el objeto desde una temperatura inicial $T_0$ hasta una temperatura final $T_f$ en el intervalo de tiempo $[t_0, t_f]$ cuando $T(t)$ está dado por $T_a + Ce^{kt}$.\n",
        "\n",
        "\n"
      ],
      "metadata": {
        "id": "Mu4PwTelqLU2"
      }
    },
    {
      "cell_type": "markdown",
      "source": [
        "#Simulación Gráfica"
      ],
      "metadata": {
        "id": "_bDe0IbP-ZrX"
      }
    },
    {
      "cell_type": "code",
      "source": [
        "#@title Gráfica{ display-mode: \"form\" }\n",
        "\n",
        "import IPython.display as IP\n",
        "\n",
        "iframe = IP.IFrame(\n",
        "  src=\"https://www.geogebra.org/classic/v2bksxmh\",\n",
        "  width=\"1020px\",\n",
        "  height=\"480px\"\n",
        "  )\n",
        "\n",
        "IP.display_html(iframe)"
      ],
      "metadata": {
        "id": "0IPxqEfNXFwr",
        "outputId": "0d1968f7-9ee2-4fa0-e6bd-1bd26dac8335",
        "colab": {
          "base_uri": "https://localhost:8080/",
          "height": 501
        }
      },
      "execution_count": null,
      "outputs": [
        {
          "output_type": "display_data",
          "data": {
            "text/html": [
              "\n",
              "        <iframe\n",
              "            width=\"1020px\"\n",
              "            height=\"480px\"\n",
              "            src=\"https://www.geogebra.org/classic/v2bksxmh\"\n",
              "            frameborder=\"0\"\n",
              "            allowfullscreen\n",
              "            \n",
              "        ></iframe>\n",
              "        "
            ]
          },
          "metadata": {}
        }
      ]
    },
    {
      "cell_type": "markdown",
      "source": [
        "Simulación en código, donde se pueden probar distintos valores"
      ],
      "metadata": {
        "id": "BYT3PHaF5qP1"
      }
    },
    {
      "cell_type": "code",
      "source": [
        "import numpy as np\n",
        "import matplotlib.pyplot as plt\n",
        "import sympy as sp\n",
        "\n",
        "# Definir la ecuación\n",
        "def temperatura(t, Ta, C, k):\n",
        "    return Ta + C * np.exp(k * t)\n",
        "\n",
        "# Ingresar los valores necesarios\n",
        "Ta = 20\n",
        "Ti = 55\n",
        "tiempo = 10\n",
        "Tf = 43\n",
        "\n",
        "# Calcular C\n",
        "C = Ti - Ta\n",
        "\n",
        "#Calcular k\n",
        "k = np.log( (Tf - Ta)/C) / tiempo\n",
        "\n",
        "# Crear un conjunto de puntos de tiempo\n",
        "t_values = np.linspace(0, 120, 100)\n",
        "\n",
        "# Calcular los valores de temperatura correspondientes\n",
        "T_values = temperatura(t_values, Ta, C, k)\n",
        "\n",
        "# Graficar la ecuación\n",
        "plt.figure(figsize=(8, 6))\n",
        "plt.plot(t_values, T_values, label=f'T(t) = {Ta} + {C} * e^({k:.4f}t)')\n",
        "plt.xlabel('Tiempo (minutos)')\n",
        "plt.ylabel('Temperatura (°C)')\n",
        "plt.title('Gráfica de la ecuación de temperatura')\n",
        "plt.legend()\n",
        "plt.grid(True)\n",
        "plt.show()\n",
        "\n",
        "\n",
        "\n"
      ],
      "metadata": {
        "colab": {
          "base_uri": "https://localhost:8080/",
          "height": 565
        },
        "id": "A7RPmwL9zSnd",
        "outputId": "2cb82617-3413-4180-d09e-151aa60c7c80"
      },
      "execution_count": null,
      "outputs": [
        {
          "output_type": "display_data",
          "data": {
            "text/plain": [
              "<Figure size 800x600 with 1 Axes>"
            ],
            "image/png": "[encoded data removed]"
          },
          "metadata": {}
        }
      ]
    },
    {
      "cell_type": "markdown",
      "source": [
        "#Análisis de Resultados"
      ],
      "metadata": {
        "id": "1ufds4rB-bPQ"
      }
    },
    {
      "cell_type": "markdown",
      "source": [
        "A partir de todo lo anterior:\n",
        "\n",
        "\n",
        "*   El modelo describe un proceso de enfriamiento exponencial, lo que significa que la temperatura del objeto disminuye más rápidamente al principio y luego se enfría a una tasa cada vez menor a medida que se acerca a la temperatura ambiente. El objeto nunca alcanza realmente exactamente la temperatura ambiente debido a la naturaleza exponencial del proceso, pero se acerca infinitamente a ella. Es decir, cuando $t→∞$ la temperatura se estabiliza en la ambiente, se puede ver en la gráfica del ejemplo anterior, donde tiende a 20.\n",
        "*   La constante k es un parámetro importante en el modelo, pues representa la rapidez con la que el objeto alcanza la temperatura ambiente. En el ejemplo expuesto, k tiene un valor de aproximadamente -0.042, lo que indica un proceso de enfriamiento relativamente lento.\n",
        "\n",
        "\n",
        "\n",
        "\n"
      ],
      "metadata": {
        "id": "5UOIXpjvyXxh"
      }
    }
  ]
}