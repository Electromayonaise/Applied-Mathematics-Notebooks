{
  "nbformat": 4,
  "nbformat_minor": 0,
  "metadata": {
    "colab": {
      "provenance": [],
      "include_colab_link": true
    },
    "kernelspec": {
      "name": "python3",
      "display_name": "Python 3"
    },
    "language_info": {
      "name": "python"
    },
    "widgets": {
      "application/vnd.jupyter.widget-state+json": {
        "1e3d9ab5a15b4b5b9b95b3483af4ac72": {
          "model_module": "@jupyter-widgets/controls",
          "model_name": "VBoxModel",
          "model_module_version": "1.5.0",
          "state": {
            "_dom_classes": [
              "widget-interact"
            ],
            "_model_module": "@jupyter-widgets/controls",
            "_model_module_version": "1.5.0",
            "_model_name": "VBoxModel",
            "_view_count": null,
            "_view_module": "@jupyter-widgets/controls",
            "_view_module_version": "1.5.0",
            "_view_name": "VBoxView",
            "box_style": "",
            "children": [
              "IPY_MODEL_f3c843f399cc405499372bed83c44e43",
              "IPY_MODEL_a1692903e0ca44b98df8dcc6765bbe49"
            ],
            "layout": "IPY_MODEL_c1fef0d6b26c49f8b1e08dae991ca7d5"
          }
        },
        "f3c843f399cc405499372bed83c44e43": {
          "model_module": "@jupyter-widgets/controls",
          "model_name": "IntSliderModel",
          "model_module_version": "1.5.0",
          "state": {
            "_dom_classes": [],
            "_model_module": "@jupyter-widgets/controls",
            "_model_module_version": "1.5.0",
            "_model_name": "IntSliderModel",
            "_view_count": null,
            "_view_module": "@jupyter-widgets/controls",
            "_view_module_version": "1.5.0",
            "_view_name": "IntSliderView",
            "continuous_update": true,
            "description": "N",
            "description_tooltip": null,
            "disabled": false,
            "layout": "IPY_MODEL_1caca647794049e693b06d17c4c2f103",
            "max": 10,
            "min": 0,
            "orientation": "horizontal",
            "readout": true,
            "readout_format": "d",
            "step": 1,
            "style": "IPY_MODEL_0e77cb2f9d7a4a3f95f0f49dc464aa8a",
            "value": 5
          }
        },
        "a1692903e0ca44b98df8dcc6765bbe49": {
          "model_module": "@jupyter-widgets/output",
          "model_name": "OutputModel",
          "model_module_version": "1.0.0",
          "state": {
            "_dom_classes": [],
            "_model_module": "@jupyter-widgets/output",
            "_model_module_version": "1.0.0",
            "_model_name": "OutputModel",
            "_view_count": null,
            "_view_module": "@jupyter-widgets/output",
            "_view_module_version": "1.0.0",
            "_view_name": "OutputView",
            "layout": "IPY_MODEL_ddbdedb6759c4b8895a772e9a8b4d9ba",
            "msg_id": "",
            "outputs": [
              {
                "output_type": "display_data",
                "data": {
                  "text/plain": "<Figure size 432x288 with 1 Axes>",
                  "image/png": "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\n"
                },
                "metadata": {
                  "needs_background": "light"
                }
              }
            ]
          }
        },
        "c1fef0d6b26c49f8b1e08dae991ca7d5": {
          "model_module": "@jupyter-widgets/base",
          "model_name": "LayoutModel",
          "model_module_version": "1.2.0",
          "state": {
            "_model_module": "@jupyter-widgets/base",
            "_model_module_version": "1.2.0",
            "_model_name": "LayoutModel",
            "_view_count": null,
            "_view_module": "@jupyter-widgets/base",
            "_view_module_version": "1.2.0",
            "_view_name": "LayoutView",
            "align_content": null,
            "align_items": null,
            "align_self": null,
            "border": null,
            "bottom": null,
            "display": null,
            "flex": null,
            "flex_flow": null,
            "grid_area": null,
            "grid_auto_columns": null,
            "grid_auto_flow": null,
            "grid_auto_rows": null,
            "grid_column": null,
            "grid_gap": null,
            "grid_row": null,
            "grid_template_areas": null,
            "grid_template_columns": null,
            "grid_template_rows": null,
            "height": null,
            "justify_content": null,
            "justify_items": null,
            "left": null,
            "margin": null,
            "max_height": null,
            "max_width": null,
            "min_height": null,
            "min_width": null,
            "object_fit": null,
            "object_position": null,
            "order": null,
            "overflow": null,
            "overflow_x": null,
            "overflow_y": null,
            "padding": null,
            "right": null,
            "top": null,
            "visibility": null,
            "width": null
          }
        },
        "1caca647794049e693b06d17c4c2f103": {
          "model_module": "@jupyter-widgets/base",
          "model_name": "LayoutModel",
          "model_module_version": "1.2.0",
          "state": {
            "_model_module": "@jupyter-widgets/base",
            "_model_module_version": "1.2.0",
            "_model_name": "LayoutModel",
            "_view_count": null,
            "_view_module": "@jupyter-widgets/base",
            "_view_module_version": "1.2.0",
            "_view_name": "LayoutView",
            "align_content": null,
            "align_items": null,
            "align_self": null,
            "border": null,
            "bottom": null,
            "display": null,
            "flex": null,
            "flex_flow": null,
            "grid_area": null,
            "grid_auto_columns": null,
            "grid_auto_flow": null,
            "grid_auto_rows": null,
            "grid_column": null,
            "grid_gap": null,
            "grid_row": null,
            "grid_template_areas": null,
            "grid_template_columns": null,
            "grid_template_rows": null,
            "height": null,
            "justify_content": null,
            "justify_items": null,
            "left": null,
            "margin": null,
            "max_height": null,
            "max_width": null,
            "min_height": null,
            "min_width": null,
            "object_fit": null,
            "object_position": null,
            "order": null,
            "overflow": null,
            "overflow_x": null,
            "overflow_y": null,
            "padding": null,
            "right": null,
            "top": null,
            "visibility": null,
            "width": null
          }
        },
        "0e77cb2f9d7a4a3f95f0f49dc464aa8a": {
          "model_module": "@jupyter-widgets/controls",
          "model_name": "SliderStyleModel",
          "model_module_version": "1.5.0",
          "state": {
            "_model_module": "@jupyter-widgets/controls",
            "_model_module_version": "1.5.0",
            "_model_name": "SliderStyleModel",
            "_view_count": null,
            "_view_module": "@jupyter-widgets/base",
            "_view_module_version": "1.2.0",
            "_view_name": "StyleView",
            "description_width": "",
            "handle_color": null
          }
        },
        "ddbdedb6759c4b8895a772e9a8b4d9ba": {
          "model_module": "@jupyter-widgets/base",
          "model_name": "LayoutModel",
          "model_module_version": "1.2.0",
          "state": {
            "_model_module": "@jupyter-widgets/base",
            "_model_module_version": "1.2.0",
            "_model_name": "LayoutModel",
            "_view_count": null,
            "_view_module": "@jupyter-widgets/base",
            "_view_module_version": "1.2.0",
            "_view_name": "LayoutView",
            "align_content": null,
            "align_items": null,
            "align_self": null,
            "border": null,
            "bottom": null,
            "display": null,
            "flex": null,
            "flex_flow": null,
            "grid_area": null,
            "grid_auto_columns": null,
            "grid_auto_flow": null,
            "grid_auto_rows": null,
            "grid_column": null,
            "grid_gap": null,
            "grid_row": null,
            "grid_template_areas": null,
            "grid_template_columns": null,
            "grid_template_rows": null,
            "height": null,
            "justify_content": null,
            "justify_items": null,
            "left": null,
            "margin": null,
            "max_height": null,
            "max_width": null,
            "min_height": null,
            "min_width": null,
            "object_fit": null,
            "object_position": null,
            "order": null,
            "overflow": null,
            "overflow_x": null,
            "overflow_y": null,
            "padding": null,
            "right": null,
            "top": null,
            "visibility": null,
            "width": null
          }
        },
        "cbfbb6824fef451894214750c94e948d": {
          "model_module": "@jupyter-widgets/controls",
          "model_name": "VBoxModel",
          "model_module_version": "1.5.0",
          "state": {
            "_dom_classes": [
              "widget-interact"
            ],
            "_model_module": "@jupyter-widgets/controls",
            "_model_module_version": "1.5.0",
            "_model_name": "VBoxModel",
            "_view_count": null,
            "_view_module": "@jupyter-widgets/controls",
            "_view_module_version": "1.5.0",
            "_view_name": "VBoxView",
            "box_style": "",
            "children": [
              "IPY_MODEL_7a1649bf56264889b0b353b160e618e5",
              "IPY_MODEL_135002cff8564fcda1af9c6cdc77d52d"
            ],
            "layout": "IPY_MODEL_0f53c9e6fa454a33b87f144349456457"
          }
        },
        "7a1649bf56264889b0b353b160e618e5": {
          "model_module": "@jupyter-widgets/controls",
          "model_name": "IntSliderModel",
          "model_module_version": "1.5.0",
          "state": {
            "_dom_classes": [],
            "_model_module": "@jupyter-widgets/controls",
            "_model_module_version": "1.5.0",
            "_model_name": "IntSliderModel",
            "_view_count": null,
            "_view_module": "@jupyter-widgets/controls",
            "_view_module_version": "1.5.0",
            "_view_name": "IntSliderView",
            "continuous_update": true,
            "description": "N",
            "description_tooltip": null,
            "disabled": false,
            "layout": "IPY_MODEL_fbfe251391ee447bbc09234c2bfcbee7",
            "max": 10,
            "min": 3,
            "orientation": "horizontal",
            "readout": true,
            "readout_format": "d",
            "step": 1,
            "style": "IPY_MODEL_e6777de2947d4d83a860b552fdb11daa",
            "value": 3
          }
        },
        "135002cff8564fcda1af9c6cdc77d52d": {
          "model_module": "@jupyter-widgets/output",
          "model_name": "OutputModel",
          "model_module_version": "1.0.0",
          "state": {
            "_dom_classes": [],
            "_model_module": "@jupyter-widgets/output",
            "_model_module_version": "1.0.0",
            "_model_name": "OutputModel",
            "_view_count": null,
            "_view_module": "@jupyter-widgets/output",
            "_view_module_version": "1.0.0",
            "_view_name": "OutputView",
            "layout": "IPY_MODEL_9d2041bd9c2a49959e4d6aeaa3acd67c",
            "msg_id": "",
            "outputs": [
              {
                "output_type": "display_data",
                "data": {
                  "text/plain": "<Figure size 432x288 with 1 Axes>",
                  "image/png": "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\n"
                },
                "metadata": {
                  "needs_background": "light"
                }
              }
            ]
          }
        },
        "0f53c9e6fa454a33b87f144349456457": {
          "model_module": "@jupyter-widgets/base",
          "model_name": "LayoutModel",
          "model_module_version": "1.2.0",
          "state": {
            "_model_module": "@jupyter-widgets/base",
            "_model_module_version": "1.2.0",
            "_model_name": "LayoutModel",
            "_view_count": null,
            "_view_module": "@jupyter-widgets/base",
            "_view_module_version": "1.2.0",
            "_view_name": "LayoutView",
            "align_content": null,
            "align_items": null,
            "align_self": null,
            "border": null,
            "bottom": null,
            "display": null,
            "flex": null,
            "flex_flow": null,
            "grid_area": null,
            "grid_auto_columns": null,
            "grid_auto_flow": null,
            "grid_auto_rows": null,
            "grid_column": null,
            "grid_gap": null,
            "grid_row": null,
            "grid_template_areas": null,
            "grid_template_columns": null,
            "grid_template_rows": null,
            "height": null,
            "justify_content": null,
            "justify_items": null,
            "left": null,
            "margin": null,
            "max_height": null,
            "max_width": null,
            "min_height": null,
            "min_width": null,
            "object_fit": null,
            "object_position": null,
            "order": null,
            "overflow": null,
            "overflow_x": null,
            "overflow_y": null,
            "padding": null,
            "right": null,
            "top": null,
            "visibility": null,
            "width": null
          }
        },
        "fbfe251391ee447bbc09234c2bfcbee7": {
          "model_module": "@jupyter-widgets/base",
          "model_name": "LayoutModel",
          "model_module_version": "1.2.0",
          "state": {
            "_model_module": "@jupyter-widgets/base",
            "_model_module_version": "1.2.0",
            "_model_name": "LayoutModel",
            "_view_count": null,
            "_view_module": "@jupyter-widgets/base",
            "_view_module_version": "1.2.0",
            "_view_name": "LayoutView",
            "align_content": null,
            "align_items": null,
            "align_self": null,
            "border": null,
            "bottom": null,
            "display": null,
            "flex": null,
            "flex_flow": null,
            "grid_area": null,
            "grid_auto_columns": null,
            "grid_auto_flow": null,
            "grid_auto_rows": null,
            "grid_column": null,
            "grid_gap": null,
            "grid_row": null,
            "grid_template_areas": null,
            "grid_template_columns": null,
            "grid_template_rows": null,
            "height": null,
            "justify_content": null,
            "justify_items": null,
            "left": null,
            "margin": null,
            "max_height": null,
            "max_width": null,
            "min_height": null,
            "min_width": null,
            "object_fit": null,
            "object_position": null,
            "order": null,
            "overflow": null,
            "overflow_x": null,
            "overflow_y": null,
            "padding": null,
            "right": null,
            "top": null,
            "visibility": null,
            "width": null
          }
        },
        "e6777de2947d4d83a860b552fdb11daa": {
          "model_module": "@jupyter-widgets/controls",
          "model_name": "SliderStyleModel",
          "model_module_version": "1.5.0",
          "state": {
            "_model_module": "@jupyter-widgets/controls",
            "_model_module_version": "1.5.0",
            "_model_name": "SliderStyleModel",
            "_view_count": null,
            "_view_module": "@jupyter-widgets/base",
            "_view_module_version": "1.2.0",
            "_view_name": "StyleView",
            "description_width": "",
            "handle_color": null
          }
        },
        "9d2041bd9c2a49959e4d6aeaa3acd67c": {
          "model_module": "@jupyter-widgets/base",
          "model_name": "LayoutModel",
          "model_module_version": "1.2.0",
          "state": {
            "_model_module": "@jupyter-widgets/base",
            "_model_module_version": "1.2.0",
            "_model_name": "LayoutModel",
            "_view_count": null,
            "_view_module": "@jupyter-widgets/base",
            "_view_module_version": "1.2.0",
            "_view_name": "LayoutView",
            "align_content": null,
            "align_items": null,
            "align_self": null,
            "border": null,
            "bottom": null,
            "display": null,
            "flex": null,
            "flex_flow": null,
            "grid_area": null,
            "grid_auto_columns": null,
            "grid_auto_flow": null,
            "grid_auto_rows": null,
            "grid_column": null,
            "grid_gap": null,
            "grid_row": null,
            "grid_template_areas": null,
            "grid_template_columns": null,
            "grid_template_rows": null,
            "height": null,
            "justify_content": null,
            "justify_items": null,
            "left": null,
            "margin": null,
            "max_height": null,
            "max_width": null,
            "min_height": null,
            "min_width": null,
            "object_fit": null,
            "object_position": null,
            "order": null,
            "overflow": null,
            "overflow_x": null,
            "overflow_y": null,
            "padding": null,
            "right": null,
            "top": null,
            "visibility": null,
            "width": null
          }
        },
        "fcc5ebc9bbb84eef9bf75ab095008b8b": {
          "model_module": "@jupyter-widgets/controls",
          "model_name": "VBoxModel",
          "model_module_version": "1.5.0",
          "state": {
            "_dom_classes": [
              "widget-interact"
            ],
            "_model_module": "@jupyter-widgets/controls",
            "_model_module_version": "1.5.0",
            "_model_name": "VBoxModel",
            "_view_count": null,
            "_view_module": "@jupyter-widgets/controls",
            "_view_module_version": "1.5.0",
            "_view_name": "VBoxView",
            "box_style": "",
            "children": [
              "IPY_MODEL_bb24f739d10b4d498ec029416ab3eb9c",
              "IPY_MODEL_8a90edf42c91444baf0b4a82d0659554"
            ],
            "layout": "IPY_MODEL_76fadaf440b747d4aa350e489b16d72b"
          }
        },
        "bb24f739d10b4d498ec029416ab3eb9c": {
          "model_module": "@jupyter-widgets/controls",
          "model_name": "IntSliderModel",
          "model_module_version": "1.5.0",
          "state": {
            "_dom_classes": [],
            "_model_module": "@jupyter-widgets/controls",
            "_model_module_version": "1.5.0",
            "_model_name": "IntSliderModel",
            "_view_count": null,
            "_view_module": "@jupyter-widgets/controls",
            "_view_module_version": "1.5.0",
            "_view_name": "IntSliderView",
            "continuous_update": true,
            "description": "N",
            "description_tooltip": null,
            "disabled": false,
            "layout": "IPY_MODEL_2a98990a6e3742c6af1b8f79a9780284",
            "max": 10,
            "min": 0,
            "orientation": "horizontal",
            "readout": true,
            "readout_format": "d",
            "step": 1,
            "style": "IPY_MODEL_ffc66a096c04446da039fa74c49942d7",
            "value": 0
          }
        },
        "8a90edf42c91444baf0b4a82d0659554": {
          "model_module": "@jupyter-widgets/output",
          "model_name": "OutputModel",
          "model_module_version": "1.0.0",
          "state": {
            "_dom_classes": [],
            "_model_module": "@jupyter-widgets/output",
            "_model_module_version": "1.0.0",
            "_model_name": "OutputModel",
            "_view_count": null,
            "_view_module": "@jupyter-widgets/output",
            "_view_module_version": "1.0.0",
            "_view_name": "OutputView",
            "layout": "IPY_MODEL_5f1f9918d18f4773943d766781daf3ba",
            "msg_id": "",
            "outputs": [
              {
                "output_type": "display_data",
                "data": {
                  "text/plain": "<Figure size 432x288 with 1 Axes>",
                  "image/png": "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\n"
                },
                "metadata": {
                  "needs_background": "light"
                }
              }
            ]
          }
        },
        "76fadaf440b747d4aa350e489b16d72b": {
          "model_module": "@jupyter-widgets/base",
          "model_name": "LayoutModel",
          "model_module_version": "1.2.0",
          "state": {
            "_model_module": "@jupyter-widgets/base",
            "_model_module_version": "1.2.0",
            "_model_name": "LayoutModel",
            "_view_count": null,
            "_view_module": "@jupyter-widgets/base",
            "_view_module_version": "1.2.0",
            "_view_name": "LayoutView",
            "align_content": null,
            "align_items": null,
            "align_self": null,
            "border": null,
            "bottom": null,
            "display": null,
            "flex": null,
            "flex_flow": null,
            "grid_area": null,
            "grid_auto_columns": null,
            "grid_auto_flow": null,
            "grid_auto_rows": null,
            "grid_column": null,
            "grid_gap": null,
            "grid_row": null,
            "grid_template_areas": null,
            "grid_template_columns": null,
            "grid_template_rows": null,
            "height": null,
            "justify_content": null,
            "justify_items": null,
            "left": null,
            "margin": null,
            "max_height": null,
            "max_width": null,
            "min_height": null,
            "min_width": null,
            "object_fit": null,
            "object_position": null,
            "order": null,
            "overflow": null,
            "overflow_x": null,
            "overflow_y": null,
            "padding": null,
            "right": null,
            "top": null,
            "visibility": null,
            "width": null
          }
        },
        "2a98990a6e3742c6af1b8f79a9780284": {
          "model_module": "@jupyter-widgets/base",
          "model_name": "LayoutModel",
          "model_module_version": "1.2.0",
          "state": {
            "_model_module": "@jupyter-widgets/base",
            "_model_module_version": "1.2.0",
            "_model_name": "LayoutModel",
            "_view_count": null,
            "_view_module": "@jupyter-widgets/base",
            "_view_module_version": "1.2.0",
            "_view_name": "LayoutView",
            "align_content": null,
            "align_items": null,
            "align_self": null,
            "border": null,
            "bottom": null,
            "display": null,
            "flex": null,
            "flex_flow": null,
            "grid_area": null,
            "grid_auto_columns": null,
            "grid_auto_flow": null,
            "grid_auto_rows": null,
            "grid_column": null,
            "grid_gap": null,
            "grid_row": null,
            "grid_template_areas": null,
            "grid_template_columns": null,
            "grid_template_rows": null,
            "height": null,
            "justify_content": null,
            "justify_items": null,
            "left": null,
            "margin": null,
            "max_height": null,
            "max_width": null,
            "min_height": null,
            "min_width": null,
            "object_fit": null,
            "object_position": null,
            "order": null,
            "overflow": null,
            "overflow_x": null,
            "overflow_y": null,
            "padding": null,
            "right": null,
            "top": null,
            "visibility": null,
            "width": null
          }
        },
        "ffc66a096c04446da039fa74c49942d7": {
          "model_module": "@jupyter-widgets/controls",
          "model_name": "SliderStyleModel",
          "model_module_version": "1.5.0",
          "state": {
            "_model_module": "@jupyter-widgets/controls",
            "_model_module_version": "1.5.0",
            "_model_name": "SliderStyleModel",
            "_view_count": null,
            "_view_module": "@jupyter-widgets/base",
            "_view_module_version": "1.2.0",
            "_view_name": "StyleView",
            "description_width": "",
            "handle_color": null
          }
        },
        "5f1f9918d18f4773943d766781daf3ba": {
          "model_module": "@jupyter-widgets/base",
          "model_name": "LayoutModel",
          "model_module_version": "1.2.0",
          "state": {
            "_model_module": "@jupyter-widgets/base",
            "_model_module_version": "1.2.0",
            "_model_name": "LayoutModel",
            "_view_count": null,
            "_view_module": "@jupyter-widgets/base",
            "_view_module_version": "1.2.0",
            "_view_name": "LayoutView",
            "align_content": null,
            "align_items": null,
            "align_self": null,
            "border": null,
            "bottom": null,
            "display": null,
            "flex": null,
            "flex_flow": null,
            "grid_area": null,
            "grid_auto_columns": null,
            "grid_auto_flow": null,
            "grid_auto_rows": null,
            "grid_column": null,
            "grid_gap": null,
            "grid_row": null,
            "grid_template_areas": null,
            "grid_template_columns": null,
            "grid_template_rows": null,
            "height": null,
            "justify_content": null,
            "justify_items": null,
            "left": null,
            "margin": null,
            "max_height": null,
            "max_width": null,
            "min_height": null,
            "min_width": null,
            "object_fit": null,
            "object_position": null,
            "order": null,
            "overflow": null,
            "overflow_x": null,
            "overflow_y": null,
            "padding": null,
            "right": null,
            "top": null,
            "visibility": null,
            "width": null
          }
        },
        "aa89f3d4a161407a9cb672cfc65a6e2f": {
          "model_module": "@jupyter-widgets/controls",
          "model_name": "VBoxModel",
          "model_module_version": "1.5.0",
          "state": {
            "_dom_classes": [
              "widget-interact"
            ],
            "_model_module": "@jupyter-widgets/controls",
            "_model_module_version": "1.5.0",
            "_model_name": "VBoxModel",
            "_view_count": null,
            "_view_module": "@jupyter-widgets/controls",
            "_view_module_version": "1.5.0",
            "_view_name": "VBoxView",
            "box_style": "",
            "children": [
              "IPY_MODEL_f08ffa1f172d4066a9c447be4c9d05d9",
              "IPY_MODEL_e540f2531b6a463d9dba300992b08d68"
            ],
            "layout": "IPY_MODEL_9942562d47374b6e914da7e0628ab5db"
          }
        },
        "f08ffa1f172d4066a9c447be4c9d05d9": {
          "model_module": "@jupyter-widgets/controls",
          "model_name": "IntSliderModel",
          "model_module_version": "1.5.0",
          "state": {
            "_dom_classes": [],
            "_model_module": "@jupyter-widgets/controls",
            "_model_module_version": "1.5.0",
            "_model_name": "IntSliderModel",
            "_view_count": null,
            "_view_module": "@jupyter-widgets/controls",
            "_view_module_version": "1.5.0",
            "_view_name": "IntSliderView",
            "continuous_update": true,
            "description": "N",
            "description_tooltip": null,
            "disabled": false,
            "layout": "IPY_MODEL_6f3e277eb02f47a9960a7920ea07805c",
            "max": 10,
            "min": 3,
            "orientation": "horizontal",
            "readout": true,
            "readout_format": "d",
            "step": 1,
            "style": "IPY_MODEL_b69e34fa84934de9b9f7038b89e0908b",
            "value": 6
          }
        },
        "e540f2531b6a463d9dba300992b08d68": {
          "model_module": "@jupyter-widgets/output",
          "model_name": "OutputModel",
          "model_module_version": "1.0.0",
          "state": {
            "_dom_classes": [],
            "_model_module": "@jupyter-widgets/output",
            "_model_module_version": "1.0.0",
            "_model_name": "OutputModel",
            "_view_count": null,
            "_view_module": "@jupyter-widgets/output",
            "_view_module_version": "1.0.0",
            "_view_name": "OutputView",
            "layout": "IPY_MODEL_012113f9e9da4a0ca22e4b1dd78c104a",
            "msg_id": "",
            "outputs": [
              {
                "output_type": "error",
                "ename": "NameError",
                "evalue": "ignored",
                "traceback": [
                  "\u001b[0;31m---------------------------------------------------------------------------\u001b[0m",
                  "\u001b[0;31mNameError\u001b[0m                                 Traceback (most recent call last)",
                  "\u001b[0;32m/usr/local/lib/python3.10/dist-packages/ipywidgets/widgets/interaction.py\u001b[0m in \u001b[0;36mupdate\u001b[0;34m(self, *args)\u001b[0m\n\u001b[1;32m    255\u001b[0m                     \u001b[0mvalue\u001b[0m \u001b[0;34m=\u001b[0m \u001b[0mwidget\u001b[0m\u001b[0;34m.\u001b[0m\u001b[0mget_interact_value\u001b[0m\u001b[0;34m(\u001b[0m\u001b[0;34m)\u001b[0m\u001b[0;34m\u001b[0m\u001b[0;34m\u001b[0m\u001b[0m\n\u001b[1;32m    256\u001b[0m                     \u001b[0mself\u001b[0m\u001b[0;34m.\u001b[0m\u001b[0mkwargs\u001b[0m\u001b[0;34m[\u001b[0m\u001b[0mwidget\u001b[0m\u001b[0;34m.\u001b[0m\u001b[0m_kwarg\u001b[0m\u001b[0;34m]\u001b[0m \u001b[0;34m=\u001b[0m \u001b[0mvalue\u001b[0m\u001b[0;34m\u001b[0m\u001b[0;34m\u001b[0m\u001b[0m\n\u001b[0;32m--> 257\u001b[0;31m                 \u001b[0mself\u001b[0m\u001b[0;34m.\u001b[0m\u001b[0mresult\u001b[0m \u001b[0;34m=\u001b[0m \u001b[0mself\u001b[0m\u001b[0;34m.\u001b[0m\u001b[0mf\u001b[0m\u001b[0;34m(\u001b[0m\u001b[0;34m**\u001b[0m\u001b[0mself\u001b[0m\u001b[0;34m.\u001b[0m\u001b[0mkwargs\u001b[0m\u001b[0;34m)\u001b[0m\u001b[0;34m\u001b[0m\u001b[0;34m\u001b[0m\u001b[0m\n\u001b[0m\u001b[1;32m    258\u001b[0m                 \u001b[0mshow_inline_matplotlib_plots\u001b[0m\u001b[0;34m(\u001b[0m\u001b[0;34m)\u001b[0m\u001b[0;34m\u001b[0m\u001b[0;34m\u001b[0m\u001b[0m\n\u001b[1;32m    259\u001b[0m                 \u001b[0;32mif\u001b[0m \u001b[0mself\u001b[0m\u001b[0;34m.\u001b[0m\u001b[0mauto_display\u001b[0m \u001b[0;32mand\u001b[0m \u001b[0mself\u001b[0m\u001b[0;34m.\u001b[0m\u001b[0mresult\u001b[0m \u001b[0;32mis\u001b[0m \u001b[0;32mnot\u001b[0m \u001b[0;32mNone\u001b[0m\u001b[0;34m:\u001b[0m\u001b[0;34m\u001b[0m\u001b[0;34m\u001b[0m\u001b[0m\n",
                  "\u001b[0;32m<ipython-input-8-68fa65342905>\u001b[0m in \u001b[0;36mg\u001b[0;34m(N)\u001b[0m\n\u001b[1;32m      8\u001b[0m   \u001b[0;32mfor\u001b[0m \u001b[0mn\u001b[0m \u001b[0;32min\u001b[0m \u001b[0mrange\u001b[0m\u001b[0;34m(\u001b[0m\u001b[0mN\u001b[0m\u001b[0;34m)\u001b[0m\u001b[0;34m:\u001b[0m\u001b[0;34m\u001b[0m\u001b[0;34m\u001b[0m\u001b[0m\n\u001b[1;32m      9\u001b[0m     \u001b[0mx\u001b[0m\u001b[0;34m.\u001b[0m\u001b[0mappend\u001b[0m\u001b[0;34m(\u001b[0m\u001b[0mx\u001b[0m\u001b[0;34m[\u001b[0m\u001b[0;34m-\u001b[0m\u001b[0;36m1\u001b[0m\u001b[0;34m]\u001b[0m\u001b[0;34m-\u001b[0m\u001b[0me\u001b[0m\u001b[0;34m*\u001b[0m\u001b[0mdl\u001b[0m\u001b[0;34m(\u001b[0m\u001b[0mx\u001b[0m\u001b[0;34m[\u001b[0m\u001b[0;34m-\u001b[0m\u001b[0;36m1\u001b[0m\u001b[0;34m]\u001b[0m\u001b[0;34m)\u001b[0m\u001b[0;34m)\u001b[0m\u001b[0;34m\u001b[0m\u001b[0;34m\u001b[0m\u001b[0m\n\u001b[0;32m---> 10\u001b[0;31m     \u001b[0mplt\u001b[0m\u001b[0;34m.\u001b[0m\u001b[0mplot\u001b[0m\u001b[0;34m(\u001b[0m\u001b[0mI\u001b[0m\u001b[0;34m,\u001b[0m\u001b[0ml\u001b[0m\u001b[0;34m(\u001b[0m\u001b[0mI\u001b[0m\u001b[0;34m)\u001b[0m\u001b[0;34m,\u001b[0m\u001b[0;34m'b'\u001b[0m\u001b[0;34m)\u001b[0m\u001b[0;34m\u001b[0m\u001b[0;34m\u001b[0m\u001b[0m\n\u001b[0m\u001b[1;32m     11\u001b[0m     \u001b[0mplt\u001b[0m\u001b[0;34m.\u001b[0m\u001b[0mplot\u001b[0m\u001b[0;34m(\u001b[0m\u001b[0mx\u001b[0m\u001b[0;34m,\u001b[0m\u001b[0ml\u001b[0m\u001b[0;34m(\u001b[0m\u001b[0mx\u001b[0m\u001b[0;34m)\u001b[0m\u001b[0;34m,\u001b[0m\u001b[0;34m'ro'\u001b[0m\u001b[0;34m)\u001b[0m\u001b[0;34m\u001b[0m\u001b[0;34m\u001b[0m\u001b[0m\n\u001b[1;32m     12\u001b[0m \u001b[0;34m\u001b[0m\u001b[0m\n",
                  "\u001b[0;31mNameError\u001b[0m: name 'I' is not defined"
                ]
              }
            ]
          }
        },
        "9942562d47374b6e914da7e0628ab5db": {
          "model_module": "@jupyter-widgets/base",
          "model_name": "LayoutModel",
          "model_module_version": "1.2.0",
          "state": {
            "_model_module": "@jupyter-widgets/base",
            "_model_module_version": "1.2.0",
            "_model_name": "LayoutModel",
            "_view_count": null,
            "_view_module": "@jupyter-widgets/base",
            "_view_module_version": "1.2.0",
            "_view_name": "LayoutView",
            "align_content": null,
            "align_items": null,
            "align_self": null,
            "border": null,
            "bottom": null,
            "display": null,
            "flex": null,
            "flex_flow": null,
            "grid_area": null,
            "grid_auto_columns": null,
            "grid_auto_flow": null,
            "grid_auto_rows": null,
            "grid_column": null,
            "grid_gap": null,
            "grid_row": null,
            "grid_template_areas": null,
            "grid_template_columns": null,
            "grid_template_rows": null,
            "height": null,
            "justify_content": null,
            "justify_items": null,
            "left": null,
            "margin": null,
            "max_height": null,
            "max_width": null,
            "min_height": null,
            "min_width": null,
            "object_fit": null,
            "object_position": null,
            "order": null,
            "overflow": null,
            "overflow_x": null,
            "overflow_y": null,
            "padding": null,
            "right": null,
            "top": null,
            "visibility": null,
            "width": null
          }
        },
        "6f3e277eb02f47a9960a7920ea07805c": {
          "model_module": "@jupyter-widgets/base",
          "model_name": "LayoutModel",
          "model_module_version": "1.2.0",
          "state": {
            "_model_module": "@jupyter-widgets/base",
            "_model_module_version": "1.2.0",
            "_model_name": "LayoutModel",
            "_view_count": null,
            "_view_module": "@jupyter-widgets/base",
            "_view_module_version": "1.2.0",
            "_view_name": "LayoutView",
            "align_content": null,
            "align_items": null,
            "align_self": null,
            "border": null,
            "bottom": null,
            "display": null,
            "flex": null,
            "flex_flow": null,
            "grid_area": null,
            "grid_auto_columns": null,
            "grid_auto_flow": null,
            "grid_auto_rows": null,
            "grid_column": null,
            "grid_gap": null,
            "grid_row": null,
            "grid_template_areas": null,
            "grid_template_columns": null,
            "grid_template_rows": null,
            "height": null,
            "justify_content": null,
            "justify_items": null,
            "left": null,
            "margin": null,
            "max_height": null,
            "max_width": null,
            "min_height": null,
            "min_width": null,
            "object_fit": null,
            "object_position": null,
            "order": null,
            "overflow": null,
            "overflow_x": null,
            "overflow_y": null,
            "padding": null,
            "right": null,
            "top": null,
            "visibility": null,
            "width": null
          }
        },
        "b69e34fa84934de9b9f7038b89e0908b": {
          "model_module": "@jupyter-widgets/controls",
          "model_name": "SliderStyleModel",
          "model_module_version": "1.5.0",
          "state": {
            "_model_module": "@jupyter-widgets/controls",
            "_model_module_version": "1.5.0",
            "_model_name": "SliderStyleModel",
            "_view_count": null,
            "_view_module": "@jupyter-widgets/base",
            "_view_module_version": "1.2.0",
            "_view_name": "StyleView",
            "description_width": "",
            "handle_color": null
          }
        },
        "012113f9e9da4a0ca22e4b1dd78c104a": {
          "model_module": "@jupyter-widgets/base",
          "model_name": "LayoutModel",
          "model_module_version": "1.2.0",
          "state": {
            "_model_module": "@jupyter-widgets/base",
            "_model_module_version": "1.2.0",
            "_model_name": "LayoutModel",
            "_view_count": null,
            "_view_module": "@jupyter-widgets/base",
            "_view_module_version": "1.2.0",
            "_view_name": "LayoutView",
            "align_content": null,
            "align_items": null,
            "align_self": null,
            "border": null,
            "bottom": null,
            "display": null,
            "flex": null,
            "flex_flow": null,
            "grid_area": null,
            "grid_auto_columns": null,
            "grid_auto_flow": null,
            "grid_auto_rows": null,
            "grid_column": null,
            "grid_gap": null,
            "grid_row": null,
            "grid_template_areas": null,
            "grid_template_columns": null,
            "grid_template_rows": null,
            "height": null,
            "justify_content": null,
            "justify_items": null,
            "left": null,
            "margin": null,
            "max_height": null,
            "max_width": null,
            "min_height": null,
            "min_width": null,
            "object_fit": null,
            "object_position": null,
            "order": null,
            "overflow": null,
            "overflow_x": null,
            "overflow_y": null,
            "padding": null,
            "right": null,
            "top": null,
            "visibility": null,
            "width": null
          }
        }
      }
    }
  },
  "cells": [
    {
      "cell_type": "markdown",
      "metadata": {
        "id": "view-in-github",
        "colab_type": "text"
      },
      "source": [
        "<a href=\"https://colab.research.google.com/github/Electromayonaise/Calculus-Notebooks/blob/main/Newton_Descenso_de_Gradiente.ipynb\" target=\"_parent\"><img src=\"https://colab.research.google.com/assets/colab-badge.svg\" alt=\"Open In Colab\"/></a>"
      ]
    },
    {
      "cell_type": "markdown",
      "metadata": {
        "id": "nRSmik7mnr0u"
      },
      "source": [
        "<img src=http://www.acofi.edu.co/eiei2016/wp-content/uploads/2016/09/Logo-Universidad-ICESI.jpg width=\"300\" height=\"200\" align=\"center\"> \n",
        "\n",
        "#**<big><big>Matemáticas Aplicadas I</big></big><br><small>Depto. Matemáticas & Estadística / Facultad de Ingeniería</small><br><small>Cuaderno Método del Descenso de Gradiente.**\n",
        "\n",
        "\n"
      ]
    },
    {
      "cell_type": "markdown",
      "source": [
        "# Método del descenso del Gradiente.\n",
        "\n",
        "El método de descenso por gradiente, *gradient descent*, es uno de los algoritmos de optimización más populares en aprendizaje automático, particularmente por su amplio uso en el campo de la inteligencia artificial y más especificamente en el entrenamiento de redes neuronales.  \n",
        "\n",
        "En términos generales, el descenso del gradiente es un algoritmo de optimización que permite encontrar de forma automática el mínimo de una función mediante un proceso iterativo. Esto significa que encuentra mínimos locales, pero no calculculando derivadas y valores criticos, si no aproximando numéricamente la solución, y para ello hace uso del gradiente (derivada)de dicha función, que partiendo de un punto inicial trata de descender al punto mínimo, usando información de la primera derivada.   \n",
        "                                                                                             \n",
        "\n",
        "\n",
        "# ¿Cómo funciona el algoritmo?  \n",
        "El algoritmo es iterativo (es decir que se repite el mismo procedimiento varias veces) y requiere que el usuario introduzca tres parámetros:  \n",
        "1. El número de iteraciones, es decir cuántas veces se repetirá el procedimiento.  \n",
        "2. La tasa de aprendizaje (o learning rate), conocido como el parámetro $e$. Este definirá la cantidad de iteraciones requerida para que el algoritmo encuentre  el mínimo de la función.  \n",
        "3. El valor inicial $x$.  \n",
        "\n",
        "Una vez definidos estos parámetros, el algoritmo actualiza, en cada iteración,  el valor de $x$ usando la siguiente ecuación: $$x ← x - e . gradiente$$  y lo hace hasta completar el número de iteraciones definido por el usuario.  \n",
        "\n",
        "Aspectos a tener en cuenta:\n",
        "\n",
        "Como parámetros de entrada el algoritmo requiere el número de iteraciones, la tasa de aprendizaje y el valor inicial.\n",
        "La tasa de aprendizaje determina la cantidad de iteraciones que serán requeridas para lograr la convergencia del algoritmo.\n",
        "Como regla general se debe siempre garantizar que $0 < e < 1$ para que el algoritmo converja (es decir para que encuentre el valor mínimo de la función).\n",
        "\n"
      ],
      "metadata": {
        "id": "2Q7x-voqAAxj"
      }
    },
    {
      "cell_type": "markdown",
      "source": [
        "Ver el siguiente video:\n",
        "\n",
        "https://www.youtube.com/watch?v=gT57PqRVOmg"
      ],
      "metadata": {
        "id": "tZ6vpWlLshBs"
      }
    },
    {
      "cell_type": "code",
      "source": [],
      "metadata": {
        "id": "xbVuPKB2simg"
      },
      "execution_count": null,
      "outputs": []
    },
    {
      "cell_type": "code",
      "source": [
        "import numpy as np\n",
        "import matplotlib.pyplot as plt\n",
        "import ipywidgets as w\n",
        "import time"
      ],
      "metadata": {
        "id": "L56b5lROk0dS"
      },
      "execution_count": 2,
      "outputs": []
    },
    {
      "cell_type": "code",
      "source": [
        "def f(x):return np.sqrt((x**4)+(x**2)-6*x+9)\n",
        "def df(x):return ((4*x**3)+2*x-6)"
      ],
      "metadata": {
        "id": "E3Uo62iWk8wt"
      },
      "execution_count": 23,
      "outputs": []
    },
    {
      "cell_type": "code",
      "source": [
        "f=np.vectorize(f)\n",
        "I=np.linspace(0,6)\n",
        "plt.plot(I,f(I))"
      ],
      "metadata": {
        "colab": {
          "base_uri": "https://localhost:8080/",
          "height": 447
        },
        "id": "Tax5grejlDLd",
        "outputId": "9e2a6ad3-41e9-4522-e5df-59e0b8064c38"
      },
      "execution_count": 25,
      "outputs": [
        {
          "output_type": "execute_result",
          "data": {
            "text/plain": [
              "[<matplotlib.lines.Line2D at 0x7f89d8259c00>]"
            ]
          },
          "metadata": {},
          "execution_count": 25
        },
        {
          "output_type": "display_data",
          "data": {
            "text/plain": [
              "<Figure size 640x480 with 1 Axes>"
            ],
            "image/png": "[encoded data removed]"
          },
          "metadata": {}
        }
      ]
    },
    {
      "cell_type": "markdown",
      "source": [
        "* Como se puede ver en la gráfica el valor mínimo de la función se encuentra alrededor de $x=3$. "
      ],
      "metadata": {
        "id": "qfZOEtoopWnQ"
      }
    },
    {
      "cell_type": "code",
      "source": [
        "x0=2\n",
        "e=0.1\n",
        "x1=x0-e*df(x0)\n",
        "print(x1)\n",
        "x2=x1-e*df(x1)\n",
        "print(x2)\n",
        "x3=x2-e*df(x2)\n",
        "print(x3)\n",
        "x4=x3-e*df(x3)\n",
        "print(x4)\n",
        "x5=x4-e*df(x4)\n",
        "print(x5)\n",
        "x6=x5-e*df(x5)\n",
        "print(x6)\n",
        "x7=x6-e*df(x6)\n",
        "print(x7)\n",
        "x8=x7-e*df(x7)\n",
        "print(x8)"
      ],
      "metadata": {
        "colab": {
          "base_uri": "https://localhost:8080/"
        },
        "id": "_lg6cigBlVgM",
        "outputId": "5e1159f1-4542-4e10-bcd9-1a8e38e09bab"
      },
      "execution_count": null,
      "outputs": [
        {
          "output_type": "stream",
          "name": "stdout",
          "text": [
            "2.2\n",
            "2.3600000000000003\n",
            "2.4880000000000004\n",
            "2.5904000000000003\n",
            "2.67232\n",
            "2.737856\n",
            "2.7902848\n",
            "2.83222784\n"
          ]
        }
      ]
    },
    {
      "cell_type": "code",
      "source": [
        "x0=5\n",
        "e=0.1\n",
        "x1=x0-e*df(x0)\n",
        "print(x1)\n",
        "x2=x1-e*df(x1)\n",
        "print(x2)\n",
        "x3=x2-e*df(x2)\n",
        "print(x3)\n",
        "x4=x3-e*df(x3)\n",
        "print(x4)\n",
        "x5=x4-e*df(x4)\n",
        "print(x5)\n",
        "x6=x5-e*df(x5)\n",
        "print(x6)\n",
        "x7=x6-e*df(x6)\n",
        "print(x7)\n",
        "x8=x7-e*df(x7)\n",
        "print(x8)"
      ],
      "metadata": {
        "colab": {
          "base_uri": "https://localhost:8080/"
        },
        "id": "hTxPu28uojys",
        "outputId": "064c994a-b20d-4adb-aafb-aa6d07ea873c"
      },
      "execution_count": null,
      "outputs": [
        {
          "output_type": "stream",
          "name": "stdout",
          "text": [
            "4.6\n",
            "4.279999999999999\n",
            "4.023999999999999\n",
            "3.8191999999999995\n",
            "3.6553599999999995\n",
            "3.5242879999999994\n",
            "3.4194303999999995\n",
            "3.3355443199999995\n"
          ]
        }
      ]
    },
    {
      "cell_type": "markdown",
      "source": [
        "* Sistematización del algoritmo del descenso del gradiente dado un valor de $x$. "
      ],
      "metadata": {
        "id": "eiXsdtoerjbf"
      }
    },
    {
      "cell_type": "code",
      "source": [
        "N=30\n",
        "x=0.1\n",
        "e=0.01\n",
        "for n in range(N):\n",
        "  x=x-e*df(x)\n",
        "  print(x)"
      ],
      "metadata": {
        "colab": {
          "base_uri": "https://localhost:8080/"
        },
        "id": "FQzmTBbcrYdb",
        "outputId": "d91eeb54-c86a-4a37-93ad-a1ee2ba62d11"
      },
      "execution_count": 34,
      "outputs": [
        {
          "output_type": "stream",
          "name": "stdout",
          "text": [
            "0.15796000000000002\n",
            "0.21464314731686657\n",
            "0.2699547255487093\n",
            "0.323768707032226\n",
            "0.37593575547740515\n",
            "0.42629183505767637\n",
            "0.4746672876346846\n",
            "0.5208960687609965\n",
            "0.5648247016144325\n",
            "0.6063204356541536\n",
            "0.6452780977719903\n",
            "0.6816252013546292\n",
            "0.715325022454664\n",
            "0.7463775387877937\n",
            "0.7748183250449807\n",
            "0.8007156746971655\n",
            "0.8241663482015513\n",
            "0.8452904159687765\n",
            "0.8642256703847471\n",
            "0.8811220344917245\n",
            "0.8961363123778152\n",
            "0.9094275266413726\n",
            "0.9211529881509918\n",
            "0.9314651548624044\n",
            "0.9405092665771376\n",
            "0.9484216934316486\n",
            "0.9553289063417487\n",
            "0.9613469643193734\n",
            "0.9665814124483817\n",
            "0.9711274913441433\n"
          ]
        }
      ]
    },
    {
      "cell_type": "code",
      "source": [
        "N=7\n",
        "x=[0]\n",
        "e=0.2\n",
        "for n in range(N):\n",
        "  x.append(x[-1]-e*df(x[-1]))\n",
        "  #time.sleep(1)\n",
        "  plt.plot(I,f(I))\n",
        "  plt.plot(x,f(x),'o')\n",
        "  plt.show()\n",
        "\n"
      ],
      "metadata": {
        "colab": {
          "base_uri": "https://localhost:8080/",
          "height": 1000
        },
        "id": "MdofUls3sOzZ",
        "outputId": "0bf2fdb3-1ce7-4804-f014-64057b411ae0"
      },
      "execution_count": 13,
      "outputs": [
        {
          "output_type": "display_data",
          "data": {
            "text/plain": [
              "<Figure size 640x480 with 1 Axes>"
            ],
            "image/png": "[encoded data removed]"
          },
          "metadata": {}
        },
        {
          "output_type": "display_data",
          "data": {
            "text/plain": [
              "<Figure size 640x480 with 1 Axes>"
            ],
            "image/png": "[encoded data removed]"
          },
          "metadata": {}
        },
        {
          "output_type": "display_data",
          "data": {
            "text/plain": [
              "<Figure size 640x480 with 1 Axes>"
            ],
            "image/png": "[encoded data removed]"
          },
          "metadata": {}
        },
        {
          "output_type": "display_data",
          "data": {
            "text/plain": [
              "<Figure size 640x480 with 1 Axes>"
            ],
            "image/png": "[encoded data removed]"
          },
          "metadata": {}
        },
        {
          "output_type": "display_data",
          "data": {
            "text/plain": [
              "<Figure size 640x480 with 1 Axes>"
            ],
            "image/png": "[encoded data removed]"
          },
          "metadata": {}
        },
        {
          "output_type": "display_data",
          "data": {
            "text/plain": [
              "<Figure size 640x480 with 1 Axes>"
            ],
            "image/png": "[encoded data removed]"
          },
          "metadata": {}
        },
        {
          "output_type": "display_data",
          "data": {
            "text/plain": [
              "<Figure size 640x480 with 1 Axes>"
            ],
            "image/png": "[encoded data removed]"
          },
          "metadata": {}
        }
      ]
    },
    {
      "cell_type": "code",
      "source": [
        "f=np.vectorize(f)\n",
        "\n",
        "def g(N):\n",
        "  x=[0]\n",
        "  e=0.1\n",
        "  for n in range(N):\n",
        "    x.append(x[-1]-e*df(x[-1]))\n",
        "    plt.plot(I,f(I),'b')\n",
        "    plt.plot(x,f(x),'ro')\n",
        "\n",
        "w.interactive(g,N=(0,10,1))"
      ],
      "metadata": {
        "colab": {
          "base_uri": "https://localhost:8080/",
          "height": 297,
          "referenced_widgets": [
            "1e3d9ab5a15b4b5b9b95b3483af4ac72",
            "f3c843f399cc405499372bed83c44e43",
            "a1692903e0ca44b98df8dcc6765bbe49",
            "c1fef0d6b26c49f8b1e08dae991ca7d5",
            "1caca647794049e693b06d17c4c2f103",
            "0e77cb2f9d7a4a3f95f0f49dc464aa8a",
            "ddbdedb6759c4b8895a772e9a8b4d9ba"
          ]
        },
        "id": "_uMp6tdmxhCl",
        "outputId": "dc9c0678-f184-4e9e-e6f0-f11cf3b12ced"
      },
      "execution_count": null,
      "outputs": [
        {
          "output_type": "display_data",
          "data": {
            "text/plain": [
              "interactive(children=(IntSlider(value=5, description='N', max=10), Output()), _dom_classes=('widget-interact',…"
            ],
            "application/vnd.jupyter.widget-view+json": {
              "version_major": 2,
              "version_minor": 0,
              "model_id": "1e3d9ab5a15b4b5b9b95b3483af4ac72"
            }
          },
          "metadata": {}
        }
      ]
    },
    {
      "cell_type": "code",
      "source": [
        "def h(x):return x**5-3*x**4+5\n",
        "def dh(x):return 5*x**4-12*x**3\n",
        "h=np.vectorize(h)\n",
        "\n",
        "def g(N):\n",
        "  x=[3]\n",
        "  e=0.01\n",
        "  for n in range(N):\n",
        "    x.append(x[-1]-e*dh(x[-1]))\n",
        "    plt.plot(I,h(I),'b')\n",
        "    plt.plot(x,h(x),'ro')\n",
        "\n",
        "w.interactive(g,N=(3,10,1))\n"
      ],
      "metadata": {
        "colab": {
          "base_uri": "https://localhost:8080/",
          "height": 297,
          "referenced_widgets": [
            "cbfbb6824fef451894214750c94e948d",
            "7a1649bf56264889b0b353b160e618e5",
            "135002cff8564fcda1af9c6cdc77d52d",
            "0f53c9e6fa454a33b87f144349456457",
            "fbfe251391ee447bbc09234c2bfcbee7",
            "e6777de2947d4d83a860b552fdb11daa",
            "9d2041bd9c2a49959e4d6aeaa3acd67c"
          ]
        },
        "id": "Drx6LZpFDU62",
        "outputId": "e60f1c14-e8f5-4ad5-bc72-20d4faf7bde1"
      },
      "execution_count": null,
      "outputs": [
        {
          "output_type": "display_data",
          "data": {
            "text/plain": [
              "interactive(children=(IntSlider(value=6, description='N', max=10, min=3), Output()), _dom_classes=('widget-int…"
            ],
            "application/vnd.jupyter.widget-view+json": {
              "version_major": 2,
              "version_minor": 0,
              "model_id": "cbfbb6824fef451894214750c94e948d"
            }
          },
          "metadata": {}
        }
      ]
    },
    {
      "cell_type": "code",
      "source": [
        "N=20\n",
        "x=3\n",
        "e=0.01\n",
        "for n in range(N):\n",
        "  x=x-e*dh(x)\n",
        "  print(x)"
      ],
      "metadata": {
        "colab": {
          "base_uri": "https://localhost:8080/"
        },
        "id": "Ck_YwMBKFwjW",
        "outputId": "a6177053-d08f-408d-d906-39609332758c"
      },
      "execution_count": null,
      "outputs": [
        {
          "output_type": "stream",
          "name": "stdout",
          "text": [
            "2.19\n",
            "2.3002863195\n",
            "2.3609697942545673\n",
            "2.3866525805179037\n",
            "2.3957252466014234\n",
            "2.398664195936785\n",
            "2.3995859628653697\n",
            "2.3998719972456657\n",
            "2.3999604585938314\n",
            "2.3999877882629135\n",
            "2.3999962288867427\n",
            "2.399998835467939\n",
            "2.3999996403913277\n",
            "2.39999988895273\n",
            "2.399999965708592\n",
            "2.399999989410812\n",
            "2.3999999967300587\n",
            "2.399999998990242\n",
            "2.399999999688187\n",
            "2.3999999999037116\n"
          ]
        }
      ]
    },
    {
      "cell_type": "markdown",
      "source": [
        "https://www.youtube.com/watch?v=qwTP8VtZV-0\n",
        "\n",
        "https://www.youtube.com/watch?v=A6FiCDoz8_4\n",
        "\n",
        "https://www.youtube.com/watch?v=-_A_AAxqzCg\n"
      ],
      "metadata": {
        "id": "fq746Gd_M_07"
      }
    },
    {
      "cell_type": "markdown",
      "source": [
        "# Ejercicio\n",
        "\n",
        "1. Minimice la función $f(x)=\\frac{1}{2.3}x^{3}-3x+x^{2}+12.37$\n",
        "2.  Hallar el valor máximo de la función $$f(x)=-x^2+8x-11$$ para encontrar este valor se necesita definir el algoritmo del ascenso del gradiente. (AYUDA: a partir del algoritmo del descenso del gradiente defina el algoritmo del ascenso del gradiente y aproxime el valor del máximo).\n",
        "3. Para cada una de las siguientes funciones encuentre los máximos y mínimos locales. Determine si\n",
        "tiene máximos y mínimos absolutos y en caso de haberlos calcule sus coordenadas. Calcule los\n",
        "intervalos donde la función es creciente y decreciente, los intervalos de concavidad y los puntos de\n",
        "inflexión, si los hay. Use el algoritmo de descenso del Gradiente para hallar estos valores extremos:  \n",
        "\n",
        "  a. $f(x)=\\left | x^{2}-9 \\right |,-4\\leq x\\leq 5$  \n",
        "  b. $f(x)=\\frac{x^{2}-1}{x^{2}+1}$  \n",
        "\n",
        "4.  Suponga que la altura y , en pies, de un árbol, es función de la edad x del árbol, en años y está dada por la expresión:\n",
        "\n",
        "$$y=117e^{\\frac{-1}{x}},x> 0$$  \n",
        "\n",
        "* a. Demuestre que la altura del árbol se incrementa con su edad. ¿Cuál es la   máxima altura alcanzable?    \n",
        "* b. Construya una gráfica de la función y determine los intervalos de concavidad. ¿En qué valor de $x$ se encuentra el punto de inflexión?  \n",
        "* c. Grafique la función derivada y use la gráfica para mostrar que la velocidad de crecimiento es máxima en el ´punto donde la gráfica de la función cambia de concavidad.  \n",
        "\n",
        "6. Un ingeniero de control de calidad está estudiando está estudiando la tasa de falla de cierto tipo de viga bajo estrés. Las vigas de prueba se someten a una tensión constante durante 1000 horas. Si $p$ es la probabilidad de que la viga pase la prueba, entonces $1− p$ de que no la pase. Suponga que, en 50 ensayos, solamente 5 vigas fallan el test.\n",
        "\n",
        "* a. Si $L( p)$ es la probabilidad de la secuencia observada de éxitos y fracasos, explique porqué $L(p)=p^{45}(1-p)^{5}$ para $0\\leq p\\leq 1$.   \n",
        "\n",
        "* b.Si $p$ es el valor que maximiza $L(p)$ en $\\left [ 0,1 \\right ]$, muestre que $p = 0.9$."
      ],
      "metadata": {
        "id": "UiWRArRRyyx5"
      }
    },
    {
      "cell_type": "markdown",
      "source": [
        "Solución pregunta 3(b)"
      ],
      "metadata": {
        "id": "YAwTx01qXXGF"
      }
    },
    {
      "cell_type": "code",
      "source": [
        "def h(x):return (x**2-1)/(x**2+1)\n",
        "def dh(x):return (4*x)/(x**2+1)**2\n",
        "h=np.vectorize(h)\n",
        "\n",
        "def g(N):\n",
        "  x=[0.5]\n",
        "  e=0.0999\n",
        "  for n in range(N):\n",
        "    x.append(x[-1]-e*dh(x[-1]))\n",
        "    plt.plot(I,h(I),'b')\n",
        "    plt.plot(x,h(x),'ro')\n",
        "\n",
        "w.interactive(g,N=(0,10,1))"
      ],
      "metadata": {
        "colab": {
          "base_uri": "https://localhost:8080/",
          "height": 297,
          "referenced_widgets": [
            "fcc5ebc9bbb84eef9bf75ab095008b8b",
            "bb24f739d10b4d498ec029416ab3eb9c",
            "8a90edf42c91444baf0b4a82d0659554",
            "76fadaf440b747d4aa350e489b16d72b",
            "2a98990a6e3742c6af1b8f79a9780284",
            "ffc66a096c04446da039fa74c49942d7",
            "5f1f9918d18f4773943d766781daf3ba"
          ]
        },
        "id": "etYP8PRXXa_N",
        "outputId": "3a4c833d-573b-4b0a-ac06-b682ba7f7c23"
      },
      "execution_count": null,
      "outputs": [
        {
          "output_type": "display_data",
          "data": {
            "text/plain": [
              "interactive(children=(IntSlider(value=5, description='N', max=10), Output()), _dom_classes=('widget-interact',…"
            ],
            "application/vnd.jupyter.widget-view+json": {
              "version_major": 2,
              "version_minor": 0,
              "model_id": "fcc5ebc9bbb84eef9bf75ab095008b8b"
            }
          },
          "metadata": {}
        }
      ]
    },
    {
      "cell_type": "markdown",
      "source": [
        "Solución 3a"
      ],
      "metadata": {
        "id": "gHu9ZtnwhF4t"
      }
    },
    {
      "cell_type": "code",
      "source": [
        "l=np.vectorize(l)\n",
        "I=np.linspace(0,6)\n",
        "plt.plot(I,l(I))"
      ],
      "metadata": {
        "colab": {
          "base_uri": "https://localhost:8080/",
          "height": 282
        },
        "id": "sqpkreKpjLhH",
        "outputId": "18e5abd0-aee5-457d-ae66-7a1c0799e04f"
      },
      "execution_count": null,
      "outputs": [
        {
          "output_type": "execute_result",
          "data": {
            "text/plain": [
              "[<matplotlib.lines.Line2D at 0x7ff921b1b990>]"
            ]
          },
          "metadata": {},
          "execution_count": 21
        },
        {
          "output_type": "display_data",
          "data": {
            "text/plain": [
              "<Figure size 432x288 with 1 Axes>"
            ],
            "image/png": "[encoded data removed]"
          },
          "metadata": {
            "needs_background": "light"
          }
        }
      ]
    },
    {
      "cell_type": "code",
      "source": [
        "def l(x):return abs(9-x**2)\n",
        "def dl(x):return abs(2*x**3-18*x)/abs(x**2-9)\n",
        "l=np.vectorize(l)\n",
        "\n",
        "def g(N):\n",
        "  x=[3.1]\n",
        "  e=0.01\n",
        "  for n in range(N):\n",
        "    x.append(x[-1]-e*dl(x[-1]))\n",
        "    plt.plot(I,l(I),'b')\n",
        "    plt.plot(x,l(x),'ro')\n",
        "\n",
        "w.interactive(g,N=(3,10,1))"
      ],
      "metadata": {
        "colab": {
          "base_uri": "https://localhost:8080/",
          "height": 388,
          "referenced_widgets": [
            "aa89f3d4a161407a9cb672cfc65a6e2f",
            "f08ffa1f172d4066a9c447be4c9d05d9",
            "e540f2531b6a463d9dba300992b08d68",
            "9942562d47374b6e914da7e0628ab5db",
            "6f3e277eb02f47a9960a7920ea07805c",
            "b69e34fa84934de9b9f7038b89e0908b",
            "012113f9e9da4a0ca22e4b1dd78c104a"
          ]
        },
        "id": "ZGbtIvXjhFG1",
        "outputId": "8a0fdd19-bea6-4fab-aa83-19f64885753c"
      },
      "execution_count": 8,
      "outputs": [
        {
          "output_type": "display_data",
          "data": {
            "text/plain": [
              "interactive(children=(IntSlider(value=6, description='N', max=10, min=3), Output()), _dom_classes=('widget-int…"
            ],
            "application/vnd.jupyter.widget-view+json": {
              "version_major": 2,
              "version_minor": 0,
              "model_id": "aa89f3d4a161407a9cb672cfc65a6e2f"
            }
          },
          "metadata": {}
        }
      ]
    }
  ]
}