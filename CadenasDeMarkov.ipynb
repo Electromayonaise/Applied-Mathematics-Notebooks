{
  "nbformat": 4,
  "nbformat_minor": 0,
  "metadata": {
    "colab": {
      "provenance": [],
      "include_colab_link": true
    },
    "kernelspec": {
      "name": "python3",
      "display_name": "Python 3"
    },
    "language_info": {
      "name": "python"
    }
  },
  "cells": [
    {
      "cell_type": "markdown",
      "metadata": {
        "id": "view-in-github",
        "colab_type": "text"
      },
      "source": [
        "<a href=\"https://colab.research.google.com/github/Electromayonaise/Calculus-Notebooks/blob/main/CadenasDeMarkov.ipynb\" target=\"_parent\"><img src=\"https://colab.research.google.com/assets/colab-badge.svg\" alt=\"Open In Colab\"/></a>"
      ]
    },
    {
      "cell_type": "markdown",
      "source": [
        "<img src=http://www.acofi.edu.co/eiei2016/wp-content/uploads/2016/09/Logo-Universidad-ICESI.jpg width=\"300\" height=\"200\" align=\"center\">\n",
        "\n",
        "#**<big><big>Matemáticas Aplicadas ll</big></big><br><small>Depto. Matemáticas & Estadística / Facultad de Ingeniería</small><br><small>Cadenas de Markov**\n",
        "<b>Autores:</b>\n",
        "* <b>MARTÍN GÓMEZ - A00399958</b>\n",
        "* <b>ALEJANDRO QUIÑONES - A00377013</b>\n",
        "* <b>JULIO PRADO - A00399637</b>\n",
        "* <b>PABLO GUZMAN - A00399523</b>\n"
      ],
      "metadata": {
        "id": "OqP1Syq12k22"
      }
    },
    {
      "cell_type": "markdown",
      "source": [
        "#Cadenas de Markov\n",
        "\n",
        "Una cadena de Markov es una serie de eventos, en la cual la probabilidad de que ocurra un evento depende del evento inmediato anterior. Son comunmente utilizadas en economía, para analizar los patrones de compra, los deudores morosos, para planear las necesidades de personal y para analizar el reemplazo de equipo, etc. Básicamente,  permite encontrar la probabilidad de que un sistema se encuentre en un estado en particular en un momento dado."
      ],
      "metadata": {
        "id": "1aT-cdnmuaTN"
      }
    },
    {
      "cell_type": "markdown",
      "source": [
        "## Matrices de transición en cadenas de markov\n",
        "\n",
        "Como dijimos anteriormente,  en una cadena o sistema de Markov, un objeto o sistema se encuentra en uno de varios estados, y en cada paso de tiempo, existe una cierta probabilidad de que el sistema pase de un estado a otro. Estas probabilidades de transición se organizan en una matriz y conforman la matriz de transición.\n",
        "\n",
        "Una matriz de transición se denota comúnmente como P y tiene las siguientes propiedades:\n",
        "\n",
        "1. Cada columna de la matriz suma 1, lo que significa que el sistema debe estar en uno de los estados después de una transición.\n",
        "\n",
        "2. Cada elemento de la matriz representa la probabilidad de pasar del estado correspondiente de la fila al estado correspondiente de la columna.\n",
        "\n",
        "Basandonos en el libro, y el ejemplo del clima, podemos plantear un sistema de Markov que representa el clima diario, donde el clima puede ser soleado (S), nublado (N) o lluvioso (L)\n",
        "\n",
        "$$\n",
        "\\begin{array}{c|ccc}\n",
        "\\text{Estado} & S & N & L \\\\\n",
        "\\hline\n",
        "S & 0.5 & 0.2 & 0.1 \\\\\n",
        "N & 0.25 & 0.4 & 0.2 \\\\\n",
        "L & 0.25 & 0.3 & 0.7 \\\\\n",
        "\\end{array}\n",
        "$$\n",
        "\n",
        "Esta matriz de transición representa un sistema donde:\n",
        "\n",
        "-Si el sistema está en el estado Soleado (S) en un momento dado, hay un 50% de probabilidad de que permanezca Soleado en el siguiente paso (0.5), un 25% de probabilidad de que se vuelva Nublado (0.25) y un 25% de probabilidad de que se vuelva Lluvioso (0.25).\n",
        "\n",
        "-Si el sistema está en el estado Nublado (N) en un momento dado, hay un 20% de probabilidad de que cambie a Soleado (0.2), un 40% de probabilidad de que permanezca Nublado (0.4) y un 30% de probabilidad de que se vuelva Lluvioso (0.3).\n",
        "\n",
        "-Si el sistema está en el estado Lluvioso (L) en un momento dado, hay un 10% de probabilidad de que cambie a Soleado (0.1), un 20% de probabilidad de que se vuelva Nublado (0.2) y un 70% de probabilidad de que permanezca Lluvioso (0.7).\n"
      ],
      "metadata": {
        "id": "kbx2lEwJwRZn"
      }
    },
    {
      "cell_type": "markdown",
      "source": [
        "## Matriz de transición regular\n",
        "\n",
        "Una matriz de transición T de un proceso de Markov es regular si todas las entradas de alguna potencia de T son positivas. Un proceso de Markov es regular si su matriz de transición es regular.\n",
        "\n",
        "\n",
        "\n"
      ],
      "metadata": {
        "id": "O_kg_reE3kYG"
      }
    },
    {
      "cell_type": "code",
      "source": [
        "import numpy as np\n",
        "\n",
        "def es_matriz_regular(matriz_transicion, max_potencia):\n",
        "    for n in range(1, max_potencia + 1):\n",
        "        matriz_potencia = np.linalg.matrix_power(matriz_transicion, n)\n",
        "        if np.all(matriz_potencia > 0):\n",
        "            return True, n\n",
        "    return False, None\n",
        "\n",
        "# Define la matriz de transición\n",
        "matriz_transicion = np.array([\n",
        "    [0.6, 1],\n",
        "    [0.4, 0]\n",
        "])\n",
        "\n",
        "# Máxima potencia a la que elevar la matriz para verificar la regularidad\n",
        "max_potencia = 10\n",
        "\n",
        "es_regular, potencia_regular = es_matriz_regular(matriz_transicion, max_potencia)\n",
        "\n",
        "if es_regular:\n",
        "    print(\"La matriz de transición es regular.\")\n",
        "    print(f\"Se alcanza la condición de regularidad en la potencia {potencia_regular}.\")\n",
        "else:\n",
        "    print(\"La matriz de transición no es regular.\")\n",
        "\n"
      ],
      "metadata": {
        "colab": {
          "base_uri": "https://localhost:8080/"
        },
        "id": "-j1aiXDgFv3n",
        "outputId": "5bd69aaa-b7ff-4cd5-e7a4-ff849a9cdb6e"
      },
      "execution_count": null,
      "outputs": [
        {
          "output_type": "stream",
          "name": "stdout",
          "text": [
            "La matriz de transición es regular.\n",
            "Se alcanza la condición de regularidad en la potencia 2.\n"
          ]
        }
      ]
    },
    {
      "cell_type": "markdown",
      "source": [
        "##Vectores de estado\n",
        "Estos consisten en vectores que almacenan la probabilidad de que el sistema se encuentre en cualquiera de sus estados posibles dado un período de observación k."
      ],
      "metadata": {
        "id": "T_AjHw1J6oHy"
      }
    },
    {
      "cell_type": "markdown",
      "source": [
        "##Estado de equlibrio\n",
        "Este consiste en un estado en el que , cuando el tiempo tiende a infinito, los vectores de estado se estabilizan y se presentan muy pocos cambios entre estos. En el ejemplo de abajo, se observa como a medida de que se aumentan"
      ],
      "metadata": {
        "id": "lQHC3yrd6nSx"
      }
    },
    {
      "cell_type": "code",
      "source": [
        "import numpy as np\n",
        "\n",
        "matriz_transicion = np.array([\n",
        "    [0.67, 0.5],\n",
        "    [0.33, 0.5]\n",
        "])\n",
        "\n",
        "vector_estado_inicial = np.array([1, 0])\n",
        "vector_estado_actual = vector_estado_inicial.copy()\n",
        "\n",
        "tolerancia = 1e-6\n",
        "\n",
        "for i in range(1, 51):\n",
        "    print(\"Período i =\", i)\n",
        "    print(\"Vector de estado actual:\", vector_estado_actual)\n",
        "\n",
        "    vector_estado_siguiente = np.dot(matriz_transicion, vector_estado_actual)\n",
        "\n",
        "    # Verificamos si el cambio en el vector de estado es pequeño (dentro de la tolerancia)\n",
        "    if np.all(np.abs(vector_estado_siguiente - vector_estado_actual) < tolerancia):\n",
        "        print(\"El sistema ha alcanzado un estado de equilibrio en el período\", i)\n",
        "        break\n",
        "\n",
        "    vector_estado_actual = vector_estado_siguiente"
      ],
      "metadata": {
        "colab": {
          "base_uri": "https://localhost:8080/"
        },
        "id": "k0Lf4Tr99q9D",
        "outputId": "546b2b29-166c-422f-c422-e37fe924d7f2"
      },
      "execution_count": null,
      "outputs": [
        {
          "output_type": "stream",
          "name": "stdout",
          "text": [
            "Período i = 1\n",
            "Vector de estado actual: [1 0]\n",
            "Período i = 2\n",
            "Vector de estado actual: [0.67 0.33]\n",
            "Período i = 3\n",
            "Vector de estado actual: [0.6139 0.3861]\n",
            "Período i = 4\n",
            "Vector de estado actual: [0.604363 0.395637]\n",
            "Período i = 5\n",
            "Vector de estado actual: [0.60274171 0.39725829]\n",
            "Período i = 6\n",
            "Vector de estado actual: [0.60246609 0.39753391]\n",
            "Período i = 7\n",
            "Vector de estado actual: [0.60241924 0.39758076]\n",
            "Período i = 8\n",
            "Vector de estado actual: [0.60241127 0.39758873]\n",
            "Período i = 9\n",
            "Vector de estado actual: [0.60240992 0.39759008]\n",
            "El sistema ha alcanzado un estado de equilibrio en el período 9\n"
          ]
        }
      ]
    },
    {
      "cell_type": "markdown",
      "source": [
        "En un proceso de Markov el vector de estado $x^{n+1}$ el cual representa el $k + 1$ estado de observación está definido por la matriz de transición y el estado anterior como sigue:\n",
        "$$x^{(n+1)} = Tx^{(n)}$$\n",
        "Por tanto, la matriz de transición y el vector de estado inicial determinan por\n",
        "completo todos los demás vectores de estado. Lo que equivale a:\n",
        "$$x^{(n)} = T^{n} * x^{0}$$"
      ],
      "metadata": {
        "id": "FlOVbj0NkCi2"
      }
    },
    {
      "cell_type": "markdown",
      "source": [
        "##Vector de estado estacionario\n",
        "\n",
        "Un vector de estado estacionario, denotado como $\\mathbf{u}$, de una matriz de transición regular $T$ en un proceso de Markov es una distribución de probabilidad que no cambia con el tiempo. Es decir, $\\mathbf{u}$ satisface las siguientes propiedades:\n",
        "\n",
        "  $T \\mathbf{u_{i-1}} = \\mathbf{u_i}$, lo cual implica que al aplicar la matriz de transición $T$ al vector de estado estacionario, se obtiene el mismo vector $\\mathbf{u_i}$.\n",
        "    \n",
        "  El sistema homogéneo $(In - T)\\mathbf{u} = 0$ tiene una única solución $\\mathbf{u}$ que es un vector de probabilidad, es decir, $u_i \\geq 0$ para todo $i$ y $u_1 + u_2 + \\ldots + u_n = 1$.\n",
        "\n",
        "\n",
        "Además, se pueden utilizar dos procedimientos para calcular el vector de estado estacionario:\n",
        "\n",
        "##Primer procedimiento\n",
        "\n",
        "\n",
        "  1. Calculamos las potencias $T^n \\mathbf{x}$, donde $\\mathbf{x}$ es cualquier vector de probabilidad.\n",
        "\n",
        "  2. El vector de estado estacionario $\\mathbf{u}$ es el límite de las potencias $T^n \\mathbf{x}$.\n",
        "\n",
        "##Segundo procedimiento\n",
        "\n",
        "  1. Resolvemos el sistema homogéneo $(In - T)\\mathbf{u} = 0$.\n",
        "\n",
        "  2. De la infinidad de soluciones obtenidas en el paso 1, determinamos una única solución $\\mathbf{u}$, al exigir que sus componentes satisfagan la ecuación $u_1 + u_2 + \\ldots + u_n = 1$.\n",
        "\n",
        "\n",
        "\n"
      ],
      "metadata": {
        "id": "-fO5uv5l8Qta"
      }
    },
    {
      "cell_type": "markdown",
      "source": [
        "#Ejercicios Cadenas de Markov"
      ],
      "metadata": {
        "id": "-xruw4PC7x8R"
      }
    },
    {
      "cell_type": "markdown",
      "source": [
        "1) ¿Cuál de las siguientes matrices de transición son regulares?\n",
        "$$\n",
        "A =\n",
        "\\begin{bmatrix}\n",
        "0 & \\frac{1}{2}\\\\\n",
        "1 & \\frac{1}{2}\n",
        "\\end{bmatrix}\\\\\n",
        "$$\n",
        "$$\n",
        "B =\n",
        "\\begin{bmatrix}\n",
        "1 & 0 & 0 \\\\\n",
        "0 & 1 & \\frac{1}{2}\\\\\n",
        "\\frac{1}{2} & 0 & \\frac{1}{2}\n",
        "\\end{bmatrix}\n",
        "$$\n",
        "$$\n",
        "C =\n",
        "\\begin{bmatrix}\n",
        "1 & \\frac{1}{3} & 0 \\\\\n",
        "0 & \\frac{1}{3} & 1\\\\\n",
        "0 & \\frac{1}{3} & 0\n",
        "\\end{bmatrix}\n",
        "$$"
      ],
      "metadata": {
        "id": "8JV709LE70vJ"
      }
    },
    {
      "cell_type": "code",
      "source": [
        "import numpy as np\n",
        "\n",
        "matriz = np.array([[0, 1/2],\n",
        "                   [1, 1/2]])\n",
        "\n",
        "for i in range(2,4):\n",
        "  resultado = np.linalg.matrix_power(matriz, i)\n",
        "  print(\"Matriz elevada a la potencia\", i, \":\\n\", resultado)"
      ],
      "metadata": {
        "colab": {
          "base_uri": "https://localhost:8080/"
        },
        "id": "nlm5SN9F8xYc",
        "outputId": "2aa78179-f2b0-4c07-c9b0-4dca811d06a1"
      },
      "execution_count": null,
      "outputs": [
        {
          "output_type": "stream",
          "name": "stdout",
          "text": [
            "Matriz elevada a la potencia 2 :\n",
            " [[0.5  0.25]\n",
            " [0.5  0.75]]\n",
            "Matriz elevada a la potencia 3 :\n",
            " [[0.25  0.375]\n",
            " [0.75  0.625]]\n"
          ]
        }
      ]
    },
    {
      "cell_type": "markdown",
      "source": [
        "Observamos que a partir de $A^{2}$ cada componente $A_{i,j} > 0$, por lo tanto es una matriz regular"
      ],
      "metadata": {
        "id": "g4HyiTdu9h4U"
      }
    },
    {
      "cell_type": "code",
      "source": [
        "import numpy as np\n",
        "\n",
        "matriz = np.array([[1/2, 0, 0],\n",
        "                   [0, 1, 1/2],\n",
        "                   [1/2, 0, 1/2]])\n",
        "\n",
        "for i in range(2,6):\n",
        "  resultado = np.linalg.matrix_power(matriz, i)\n",
        "  print(\"Matriz elevada a la potencia\", i, \":\\n\", resultado)"
      ],
      "metadata": {
        "colab": {
          "base_uri": "https://localhost:8080/"
        },
        "id": "Fa_dppxM90ii",
        "outputId": "abbaf46d-494b-4864-fb0a-7620cc85261f"
      },
      "execution_count": null,
      "outputs": [
        {
          "output_type": "stream",
          "name": "stdout",
          "text": [
            "Matriz elevada a la potencia 2 :\n",
            " [[0.25 0.   0.  ]\n",
            " [0.25 1.   0.75]\n",
            " [0.5  0.   0.25]]\n",
            "Matriz elevada a la potencia 3 :\n",
            " [[0.125 0.    0.   ]\n",
            " [0.5   1.    0.875]\n",
            " [0.375 0.    0.125]]\n",
            "Matriz elevada a la potencia 4 :\n",
            " [[0.0625 0.     0.    ]\n",
            " [0.6875 1.     0.9375]\n",
            " [0.25   0.     0.0625]]\n",
            "Matriz elevada a la potencia 5 :\n",
            " [[0.03125 0.      0.     ]\n",
            " [0.8125  1.      0.96875]\n",
            " [0.15625 0.      0.03125]]\n"
          ]
        }
      ]
    },
    {
      "cell_type": "markdown",
      "source": [
        "Observamos que sin importar cuanto iteremos, los valores de $B_{0,1},B_{0,2},B_{2,1}$ siguen siendo 0, por lo tanto no es regular"
      ],
      "metadata": {
        "id": "xWYAcSz_-K3s"
      }
    },
    {
      "cell_type": "code",
      "source": [
        "import numpy as np\n",
        "\n",
        "matriz = np.array([[1, 1/3, 0],\n",
        "                   [0, 1/3, 1],\n",
        "                   [0, 1/3, 0]])\n",
        "\n",
        "for i in range(2,6):\n",
        "  resultado = np.linalg.matrix_power(matriz, i)\n",
        "  print(\"Matriz elevada a la potencia\", i, \":\\n\", resultado)"
      ],
      "metadata": {
        "colab": {
          "base_uri": "https://localhost:8080/"
        },
        "id": "KsgNqjyq-eqd",
        "outputId": "46ae991b-36b8-46d6-cfd6-a1be0c07fa61"
      },
      "execution_count": null,
      "outputs": [
        {
          "output_type": "stream",
          "name": "stdout",
          "text": [
            "Matriz elevada a la potencia 2 :\n",
            " [[1.         0.44444444 0.33333333]\n",
            " [0.         0.44444444 0.33333333]\n",
            " [0.         0.11111111 0.33333333]]\n",
            "Matriz elevada a la potencia 3 :\n",
            " [[1.         0.59259259 0.44444444]\n",
            " [0.         0.25925926 0.44444444]\n",
            " [0.         0.14814815 0.11111111]]\n",
            "Matriz elevada a la potencia 4 :\n",
            " [[1.         0.67901235 0.59259259]\n",
            " [0.         0.2345679  0.25925926]\n",
            " [0.         0.08641975 0.14814815]]\n",
            "Matriz elevada a la potencia 5 :\n",
            " [[1.         0.75720165 0.67901235]\n",
            " [0.         0.16460905 0.2345679 ]\n",
            " [0.         0.0781893  0.08641975]]\n"
          ]
        }
      ]
    },
    {
      "cell_type": "markdown",
      "source": [
        "Observamos que sin importar cuanto iteremos, los valores de $C_{1,0},C_{2,0}$ siguen siendo 0, por lo tanto no es regular"
      ],
      "metadata": {
        "id": "OIkLrRx2-7Aj"
      }
    },
    {
      "cell_type": "markdown",
      "source": [
        "2) Demuestre que cada una de las siguientes matrices de transición alcanza un estado de equilibrio"
      ],
      "metadata": {
        "id": "PFM2wkba_CzX"
      }
    },
    {
      "cell_type": "markdown",
      "source": [
        "$$\n",
        "A =\n",
        "\\begin{bmatrix}\n",
        "\\frac{1}{2} & 1 \\\\\n",
        "\\frac{1}{2} & 0\n",
        "\\end{bmatrix}\\\\\n",
        "$$\n",
        "$$\n",
        "B =\n",
        "\\begin{bmatrix}\n",
        "\\frac{1}{3} & 1 & \\frac{1}{2}\\\\\n",
        "\\frac{1}{3} & 0 & \\frac{1}{4}\\\\\n",
        "\\frac{1}{3} & 0 & \\frac{1}{4}\n",
        "\\end{bmatrix}\n",
        "$$"
      ],
      "metadata": {
        "id": "gHwQcSvY_K42"
      }
    },
    {
      "cell_type": "markdown",
      "source": [
        "##Solución a partir de iterar"
      ],
      "metadata": {
        "id": "kelxedVgcznZ"
      }
    },
    {
      "cell_type": "code",
      "source": [
        "import numpy as np\n",
        "import matplotlib.pyplot as plt\n",
        "\n",
        "A = np.array([[0.5, 1], [0.5, 0]])\n",
        "B = np.array([[0.33, 1, 0.5], [0.33, 0, 0.25], [0.33, 0, 0.25]])\n",
        "\n",
        "n = 10\n",
        "\n",
        "def matrix_power_prob(M, n):\n",
        "    powers = []\n",
        "    probs = []\n",
        "    for i in range(n+1):\n",
        "        P = np.linalg.matrix_power(M, i)\n",
        "        powers.append(P)\n",
        "        probs.append(P[0])\n",
        "    return powers, probs\n",
        "\n",
        "powers_A, probs_A = matrix_power_prob(A, n)\n",
        "powers_B, probs_B = matrix_power_prob(B, n)\n",
        "\n",
        "print (\"Potencias y probabilidades para la matriz A:\")\n",
        "for i in range(n+1):\n",
        "    print(f\"Potencia {i}:\")\n",
        "    print(powers_A[i])\n",
        "    print()\n",
        "\n",
        "print (\"Potencias y probabilidades para la matriz B:\")\n",
        "for i in range(n+1):\n",
        "    print(f\"Potencia {i}:\")\n",
        "    print(powers_B[i])\n",
        "    print()\n",
        "#Matriz A\n",
        "plt.figure()\n",
        "plt.title(\"Probabilidades para la matriz A\")\n",
        "plt.xlabel(\"Iteraciones\")\n",
        "plt.ylabel(\"Probabilidad\")\n",
        "plt.plot(probs_A)\n",
        "plt.legend([\"Estado 1\", \"Estado 2\"])\n",
        "plt.show()\n",
        "#Matriz B\n",
        "plt.figure()\n",
        "plt.title(\"Probabilidades para la matriz B\")\n",
        "plt.xlabel(\"Iteraciones\")\n",
        "plt.ylabel(\"Probabilidad\")\n",
        "plt.plot(probs_B)\n",
        "plt.legend([\"Estado 1\", \"Estado 2\", \"Estado 3\"])\n",
        "plt.show()"
      ],
      "metadata": {
        "colab": {
          "base_uri": "https://localhost:8080/",
          "height": 1000
        },
        "id": "C5qPimDacSR5",
        "outputId": "94c261f8-9a5c-486a-b78a-f5f08797eae5"
      },
      "execution_count": null,
      "outputs": [
        {
          "output_type": "stream",
          "name": "stdout",
          "text": [
            "Potencias y probabilidades para la matriz A:\n",
            "Potencia 0:\n",
            "[[1. 0.]\n",
            " [0. 1.]]\n",
            "\n",
            "Potencia 1:\n",
            "[[0.5 1. ]\n",
            " [0.5 0. ]]\n",
            "\n",
            "Potencia 2:\n",
            "[[0.75 0.5 ]\n",
            " [0.25 0.5 ]]\n",
            "\n",
            "Potencia 3:\n",
            "[[0.625 0.75 ]\n",
            " [0.375 0.25 ]]\n",
            "\n",
            "Potencia 4:\n",
            "[[0.6875 0.625 ]\n",
            " [0.3125 0.375 ]]\n",
            "\n",
            "Potencia 5:\n",
            "[[0.65625 0.6875 ]\n",
            " [0.34375 0.3125 ]]\n",
            "\n",
            "Potencia 6:\n",
            "[[0.671875 0.65625 ]\n",
            " [0.328125 0.34375 ]]\n",
            "\n",
            "Potencia 7:\n",
            "[[0.6640625 0.671875 ]\n",
            " [0.3359375 0.328125 ]]\n",
            "\n",
            "Potencia 8:\n",
            "[[0.66796875 0.6640625 ]\n",
            " [0.33203125 0.3359375 ]]\n",
            "\n",
            "Potencia 9:\n",
            "[[0.66601562 0.66796875]\n",
            " [0.33398438 0.33203125]]\n",
            "\n",
            "Potencia 10:\n",
            "[[0.66699219 0.66601562]\n",
            " [0.33300781 0.33398438]]\n",
            "\n",
            "Potencias y probabilidades para la matriz B:\n",
            "Potencia 0:\n",
            "[[1. 0. 0.]\n",
            " [0. 1. 0.]\n",
            " [0. 0. 1.]]\n",
            "\n",
            "Potencia 1:\n",
            "[[0.33 1.   0.5 ]\n",
            " [0.33 0.   0.25]\n",
            " [0.33 0.   0.25]]\n",
            "\n",
            "Potencia 2:\n",
            "[[0.6039 0.33   0.54  ]\n",
            " [0.1914 0.33   0.2275]\n",
            " [0.1914 0.33   0.2275]]\n",
            "\n",
            "Potencia 3:\n",
            "[[0.486387 0.6039   0.51945 ]\n",
            " [0.247137 0.1914   0.235075]\n",
            " [0.247137 0.1914   0.235075]]\n",
            "\n",
            "Potencia 4:\n",
            "[[0.53121321 0.486387   0.524031  ]\n",
            " [0.22229196 0.247137   0.23018725]\n",
            " [0.22229196 0.247137   0.23018725]]\n",
            "\n",
            "Potencia 5:\n",
            "[[0.5087383  0.53121321 0.51821111]\n",
            " [0.23087335 0.22229196 0.23047704]\n",
            " [0.23087335 0.22229196 0.23047704]]\n",
            "\n",
            "Potencia 6:\n",
            "[[0.51419366 0.5087383  0.51672523]\n",
            " [0.22560198 0.23087335 0.22862893]\n",
            " [0.22560198 0.23087335 0.22862893]]\n",
            "\n",
            "Potencia 7:\n",
            "[[0.50808687 0.51419366 0.51346271]\n",
            " [0.2260844  0.22560198 0.22767656]\n",
            " [0.2260844  0.22560198 0.22767656]]\n",
            "\n",
            "Potencia 8:\n",
            "[[0.50679527 0.50808687 0.51095753]\n",
            " [0.22418977 0.2260844  0.22636183]\n",
            " [0.22418977 0.2260844  0.22636183]]\n",
            "\n",
            "Potencia 9:\n",
            "[[0.50352709 0.50679527 0.50815874]\n",
            " [0.22328988 0.22418977 0.22520644]\n",
            " [0.22328988 0.22418977 0.22520644]]\n",
            "\n",
            "Potencia 10:\n",
            "[[0.50109876 0.50352709 0.50550205]\n",
            " [0.22198641 0.22328988 0.22399399]\n",
            " [0.22198641 0.22328988 0.22399399]]\n",
            "\n"
          ]
        },
        {
          "output_type": "display_data",
          "data": {
            "text/plain": [
              "<Figure size 640x480 with 1 Axes>"
            ],
            "image/png": "[encoded data removed]"
          },
          "metadata": {}
        },
        {
          "output_type": "display_data",
          "data": {
            "text/plain": [
              "<Figure size 640x480 with 1 Axes>"
            ],
            "image/png": "[encoded data removed]"
          },
          "metadata": {}
        }
      ]
    },
    {
      "cell_type": "markdown",
      "source": [
        "##Solución usando el vector propio\n",
        "Para demostrar esto basta con encontrar el vector propio asociado a la matriz cuyo valor propio sea 1, lo cual nos indicaria que la distribución de probabilidad no cambia sin importar cuantas veces se aplique la matriz de transición"
      ],
      "metadata": {
        "id": "HWNmqz8kBXpq"
      }
    },
    {
      "cell_type": "code",
      "source": [
        "import numpy as np\n",
        "\n",
        "A = np.array([[1/2, 1],\n",
        "              [1/2, 0]])\n",
        "\n",
        "eigenvalues, eigenvectors = np.linalg.eig(A)\n",
        "\n",
        "for i, eigenvalue in enumerate(eigenvalues):\n",
        "    if np.isclose(eigenvalue, 1):\n",
        "        equilibrium_vector = eigenvectors[:, i]\n",
        "        equilibrium_vector /= equilibrium_vector.sum()\n",
        "\n",
        "        print(\"Matriz A:\")\n",
        "        print(\"Vector propio asociado al valor propio 1 (distribución de equilibrio):\")\n",
        "        print(equilibrium_vector)\n",
        "\n",
        "B = np.array([[1/3, 1, 1/2],\n",
        "              [1/3, 0, 1/4],\n",
        "              [1/3, 0, 1/4]])\n",
        "\n",
        "eigenvalues, eigenvectors = np.linalg.eig(B)\n",
        "\n",
        "for i, eigenvalue in enumerate(eigenvalues):\n",
        "    if np.isclose(eigenvalue, 1):\n",
        "        equilibrium_vector = eigenvectors[:, i]\n",
        "        equilibrium_vector /= equilibrium_vector.sum()\n",
        "\n",
        "        print(\"\\nMatriz B:\")\n",
        "        print(\"Vector propio asociado al valor propio 1 (distribución de equilibrio):\")\n",
        "        print(equilibrium_vector)"
      ],
      "metadata": {
        "colab": {
          "base_uri": "https://localhost:8080/"
        },
        "id": "Lg6CY3eH_71c",
        "outputId": "f765c9eb-0fe2-4b5a-ddfd-cd8ecb67a743"
      },
      "execution_count": null,
      "outputs": [
        {
          "output_type": "stream",
          "name": "stdout",
          "text": [
            "Matriz A:\n",
            "Vector propio asociado al valor propio 1 (distribución de equilibrio):\n",
            "[0.66666667 0.33333333]\n",
            "\n",
            "Matriz B:\n",
            "Vector propio asociado al valor propio 1 (distribución de equilibrio):\n",
            "[0.52941176 0.23529412 0.23529412]\n"
          ]
        }
      ]
    },
    {
      "cell_type": "markdown",
      "source": [
        "3)Un psicólogo del comportamiento coloca todos los días una rata en una jaula con dos puertas, A y B. La rata puede pasar por la puerta A, en cuyo caso recibirá un choque eléctrico, o por la puerta B, con lo cual obtiene cierto alimento. Se registra la puerta por la que pasa la rata. Al inicio del experimento, un lunes, la rata tiene la misma probabilidad de pasar por la puerta A que por la puerta B. Después de pasar por la puerta A y recibir una descarga eléctrica, la probabilidad de volver a\n",
        "pasar por la misma puerta al día siguiente es 0.3. Después de pasar por la puerta B y recibir alimento, la probabilidad de pasar por la misma puerta al día siguiente es 0.6.\n"
      ],
      "metadata": {
        "id": "tibFIN9_B0Wn"
      }
    },
    {
      "cell_type": "markdown",
      "source": [
        "Podemos definir la matriz de trasición $T$ como:\n",
        "$$\n",
        "T =\n",
        "\\begin{bmatrix}\n",
        "0.3 & 0.4 \\\\\n",
        "0.7 & 0.6\n",
        "\\end{bmatrix}\\\\\n",
        "$$"
      ],
      "metadata": {
        "id": "m7_EaEf5Cdi0"
      }
    },
    {
      "cell_type": "markdown",
      "source": [
        "Ahora el vector inicial $\\vec{x}$ sería:\n",
        "$$\n",
        "\\vec{x} =\n",
        "\\begin{bmatrix}\n",
        "0.5 \\\\\n",
        "0.5\n",
        "\\end{bmatrix}\\\\\n",
        "$$\n",
        "Debido a que la rata tiene las mismas probabilidades al iniciar el experimento"
      ],
      "metadata": {
        "id": "bYLhhPRaC-Dh"
      }
    },
    {
      "cell_type": "markdown",
      "source": [
        "¿Cuál es la probabilidad de que la rata vuelva a pasar por la puerta A el jueves (el tercer día después del inicio del experimento)?\n"
      ],
      "metadata": {
        "id": "3dwNjys7DgDA"
      }
    },
    {
      "cell_type": "code",
      "source": [
        "import numpy as np\n",
        "\n",
        "T = np.array([[0.3, 0.4],\n",
        "              [0.7, 0.6]])\n",
        "\n",
        "x = np.array([0.5, 0.5])\n",
        "x1 = np.dot(T, x)\n",
        "x2 = np.dot(T, x1)\n",
        "x3 = np.dot(T, x2)\n",
        "\n",
        "print(f\"La probabilidad de que la rata pase por la puerta A el jueves es: {x3[0]*100}%\")"
      ],
      "metadata": {
        "colab": {
          "base_uri": "https://localhost:8080/"
        },
        "id": "OqbI3veWD1JV",
        "outputId": "1cd9eab1-e831-4d13-82f7-bbd993d94686"
      },
      "execution_count": null,
      "outputs": [
        {
          "output_type": "stream",
          "name": "stdout",
          "text": [
            "La probabilidad de que la rata pase por la puerta A el jueves es: 36.349999999999994%\n"
          ]
        }
      ]
    },
    {
      "cell_type": "markdown",
      "source": [
        "##Vector de estado estacionario"
      ],
      "metadata": {
        "id": "tsYtPaoVk_mn"
      }
    },
    {
      "cell_type": "markdown",
      "source": [
        "##Usando el primer procedimiento"
      ],
      "metadata": {
        "id": "O20vbUkUnHtL"
      }
    },
    {
      "cell_type": "code",
      "source": [
        "import numpy as np\n",
        "\n",
        "T = np.array([[0.3, 0.4],\n",
        "              [0.7, 0.6]])\n",
        "x = np.array([0.5, 0.5])\n",
        "\n",
        "delta = 1e-30\n",
        "\n",
        "error = 1\n",
        "\n",
        "while error > delta:\n",
        "  new_x = np.dot(T, x)\n",
        "  error = np.linalg.norm(new_x - x)\n",
        "  x = new_x\n",
        "\n",
        "print(\"El vector de estado estacionario es:\", x)"
      ],
      "metadata": {
        "colab": {
          "base_uri": "https://localhost:8080/"
        },
        "id": "4H75LN36lDBu",
        "outputId": "c2bd79a1-4f22-401e-bf59-7bafc30276b5"
      },
      "execution_count": null,
      "outputs": [
        {
          "output_type": "stream",
          "name": "stdout",
          "text": [
            "El vector de estado estacionario es: [0.36363636 0.63636364]\n"
          ]
        }
      ]
    },
    {
      "cell_type": "markdown",
      "source": [
        "##Usando el segundo procedimiento"
      ],
      "metadata": {
        "id": "0QxtI0rNqfQq"
      }
    },
    {
      "cell_type": "code",
      "source": [
        "import numpy as np\n",
        "from scipy.linalg import null_space\n",
        "\n",
        "matriz = np.array([[0.3, 0.4], [0.7, 0.6]])\n",
        "vector = np.array([0.5, 0.5])\n",
        "\n",
        "n = len(matriz)\n",
        "I = np.identity(n)\n",
        "M = I - matriz\n",
        "\n",
        "u = null_space(M)\n",
        "u = u[:, 0]\n",
        "u = u / np.sum(u)\n",
        "\n",
        "print(\"El vector de estado estacionario es:\", u)"
      ],
      "metadata": {
        "colab": {
          "base_uri": "https://localhost:8080/"
        },
        "id": "X3VRITfwqhnp",
        "outputId": "cddc4a07-5deb-4387-ea49-b878377ee666"
      },
      "execution_count": null,
      "outputs": [
        {
          "output_type": "stream",
          "name": "stdout",
          "text": [
            "El vector de estado estacionario es: [0.36363636 0.63636364]\n"
          ]
        }
      ]
    },
    {
      "cell_type": "markdown",
      "source": [
        "4)\n",
        "Un sistema de transporte colectivo entra en operacion. Las autoridades de transito han realizado estudios que predicen el porcentaje de quienes utilizaran el sistema colectivo (M) y el de las personas que seguiran manejando su auto (A). Se ha obtenido la siguiente matriz de transicion:\n",
        "\n",
        "$$\n",
        "T =\n",
        "\\begin{bmatrix}\n",
        "0.7 & 0.2 \\\\\n",
        "0.3 & 0.8\n",
        "\\end{bmatrix}\\\\\n",
        "$$\n",
        "\n",
        "Suponga que la poblacion del area permanece constante y que al principio 30 % de la gente se traslada en el transporte colectivo y 70 % en automovil.\n",
        "- ¿Que porcentaje utilizara el sistema de transporte colectivo despues de un año?, ¿Despues de dos años?\n",
        "- ¿En el largo plazo, ¿que porcentaje empleara el sistema de transporte colectivo?"
      ],
      "metadata": {
        "id": "cmlHLZIT2MCM"
      }
    },
    {
      "cell_type": "markdown",
      "source": [
        "$$\n",
        "\\vec{x} =\n",
        "\\begin{bmatrix}\n",
        "0.3 \\\\\n",
        "0.7\n",
        "\\end{bmatrix}\\\\\n",
        "$$"
      ],
      "metadata": {
        "id": "9CILRsRJGARf"
      }
    },
    {
      "cell_type": "markdown",
      "source": [
        "###Método Iterativo(Límites)"
      ],
      "metadata": {
        "id": "iObihU4XHgRt"
      }
    },
    {
      "cell_type": "code",
      "source": [
        "import numpy as np\n",
        "\n",
        "T = np.array([[0.7, 0.2], [0.3, 0.8]])\n",
        "\n",
        "x = np.array([0.3, 0.7])\n",
        "\n",
        "x1 = T.dot(x)\n",
        "print(f\"Después de un año, el {x1[0]*100:.1f} % de la gente usará el transporte colectivo y el {x1[1]*100:.1f} % el automóvil.\")\n",
        "\n",
        "x2 = T.dot(x1)\n",
        "print(f\"Después de dos años, el {x2[0]*100:.1f} % de la gente usará el transporte colectivo y el {x2[1]*100:.1f} % el automóvil.\")\n",
        "\n",
        "A = T - np.eye(2)\n",
        "b = np.zeros(2)\n",
        "c = np.ones(2)\n",
        "\n",
        "delta = 1e-12\n",
        "\n",
        "error = 1\n",
        "\n",
        "while error > delta:\n",
        "  new_x = np.dot(T, x)\n",
        "  error = np.linalg.norm(new_x - x)\n",
        "  x = new_x\n",
        "\n",
        "print(f\"En el largo plazo, el {x[0]*100:.1f} % de la gente usará el transporte colectivo y el {x[1]*100:.1f} % el automóvil.\")"
      ],
      "metadata": {
        "colab": {
          "base_uri": "https://localhost:8080/"
        },
        "id": "pTNsb0JkwpMe",
        "outputId": "3aeb38aa-1be0-4221-c396-6181134e75d6"
      },
      "execution_count": null,
      "outputs": [
        {
          "output_type": "stream",
          "name": "stdout",
          "text": [
            "Después de un año, el 35.0 % de la gente usará el transporte colectivo y el 65.0 % el automóvil.\n",
            "Después de dos años, el 37.5 % de la gente usará el transporte colectivo y el 62.5 % el automóvil.\n",
            "En el largo plazo, el 40.0 % de la gente usará el transporte colectivo y el 60.0 % el automóvil.\n"
          ]
        }
      ]
    },
    {
      "cell_type": "markdown",
      "source": [
        "###Usando Ecuación Homogénea"
      ],
      "metadata": {
        "id": "SURqYgtWHb79"
      }
    },
    {
      "cell_type": "code",
      "source": [
        "import numpy as np\n",
        "\n",
        "T = np.array([[0.7, 0.2], [0.3, 0.8]])\n",
        "\n",
        "x = np.array([0.3, 0.7])\n",
        "\n",
        "x1 = T.dot(x)\n",
        "print(f\"Después de un año, el {x1[0]*100:.1f} % de la gente usará el transporte colectivo y el {x1[1]*100:.1f} % el automóvil.\")\n",
        "\n",
        "x2 = T.dot(x1)\n",
        "print(f\"Después de dos años, el {x2[0]*100:.1f} % de la gente usará el transporte colectivo y el {x2[1]*100:.1f} % el automóvil.\")\n",
        "\n",
        "A = T - np.eye(2)\n",
        "b = np.zeros(2)\n",
        "c = np.ones(2)\n",
        "\n",
        "x3 = np.linalg.lstsq(np.vstack([A, c]), np.hstack([b, 1]), rcond=None)[0]\n",
        "\n",
        "print(f\"En el largo plazo, el {x3[0]*100:.1f} % de la gente usará el transporte colectivo y el {x3[1]*100:.1f} % el automóvil.\")"
      ],
      "metadata": {
        "colab": {
          "base_uri": "https://localhost:8080/"
        },
        "id": "V9GlsbSIbOte",
        "outputId": "31830f07-12cb-4dec-e53b-73d68fc7c2bf"
      },
      "execution_count": null,
      "outputs": [
        {
          "output_type": "stream",
          "name": "stdout",
          "text": [
            "Después de un año, el 35.0 % de la gente usará el transporte colectivo y el 65.0 % el automóvil.\n",
            "Después de dos años, el 37.5 % de la gente usará el transporte colectivo y el 62.5 % el automóvil.\n",
            "En el largo plazo, el 40.0 % de la gente usará el transporte colectivo y el 60.0 % el automóvil.\n"
          ]
        }
      ]
    }
  ]
}