{
  "nbformat": 4,
  "nbformat_minor": 0,
  "metadata": {
    "colab": {
      "provenance": [],
      "include_colab_link": true
    },
    "kernelspec": {
      "name": "python3",
      "display_name": "Python 3"
    },
    "language_info": {
      "name": "python"
    }
  },
  "cells": [
    {
      "cell_type": "markdown",
      "metadata": {
        "id": "view-in-github",
        "colab_type": "text"
      },
      "source": [
        "<a href=\"https://colab.research.google.com/github/Electromayonaise/Calculus-Notebooks/blob/main/Biseccion_Grupo_10.ipynb\" target=\"_parent\"><img src=\"https://colab.research.google.com/assets/colab-badge.svg\" alt=\"Open In Colab\"/></a>"
      ]
    },
    {
      "cell_type": "code",
      "execution_count": null,
      "metadata": {
        "id": "Y-wZhjV6ao_1"
      },
      "outputs": [],
      "source": []
    },
    {
      "cell_type": "markdown",
      "source": [
        "<img src=http://www.acofi.edu.co/eiei2016/wp-content/uploads/2016/09/Logo-Universidad-ICESI.jpg width=\"300\" height=\"200\" align=\"center\"> \n",
        "\n",
        "#**<big><big>Matemáticas Aplicadas I</big></big><br><small>Departamento de Matemáticas y Estadística / Facultad de Ingeniería</small><br><small></small>**\n",
        "Martín Gómez Caicedo.             Código:A00399958\n",
        "<br>\n",
        "Alejandro Quiñones C.             Código: A0037703\n",
        "<br>\n",
        "Mateo Rubio.                     Código: A00400104"
      ],
      "metadata": {
        "id": "P-6uAf43b9Ck"
      }
    },
    {
      "cell_type": "code",
      "source": [
        "import numpy as np\n",
        "import math as m"
      ],
      "metadata": {
        "id": "lg_EpiUVc7v9"
      },
      "execution_count": null,
      "outputs": []
    },
    {
      "cell_type": "code",
      "source": [
        "def bisTol(f,a,b,tol=0.005):\n",
        "  if f(a)*f(b)>0:\n",
        "    print('no hay cambio de signo')\n",
        "    return\n",
        "  while abs(a-b)>tol:\n",
        "    c=(a+b)/2\n",
        "    if f(c)==0:\n",
        "      return c\n",
        "    elif f(a)*f(c)<0:\n",
        "      b=c\n",
        "    else:\n",
        "      a=c\n",
        "  return c,abs(a-b)"
      ],
      "metadata": {
        "id": "Nv9pMRwnTkVy"
      },
      "execution_count": null,
      "outputs": []
    },
    {
      "cell_type": "code",
      "source": [
        "def biseccion(f,a,b,N):\n",
        "  if f(a)*f(b)>0:\n",
        "    print('no hay cambio de signo')\n",
        "    return\n",
        "  for _ in range(N):\n",
        "    c=(a+b)/2\n",
        "    if f(c)==0:\n",
        "      return c\n",
        "    elif f(a)*f(c)<0:\n",
        "      b=c\n",
        "    else:\n",
        "      a=c\n",
        "  return (c,abs(a-b))"
      ],
      "metadata": {
        "id": "tlUSRSB7P338"
      },
      "execution_count": null,
      "outputs": []
    },
    {
      "cell_type": "code",
      "source": [
        "def numIterations(a,b,tol=0.001):\n",
        "  return np.ceil((m.log((b-a),m.e)-m.log(tol,m.e))/m.log(2,m.e))"
      ],
      "metadata": {
        "id": "X8oYwym0T-s-"
      },
      "execution_count": null,
      "outputs": []
    },
    {
      "cell_type": "markdown",
      "source": [
        "#Punto 1"
      ],
      "metadata": {
        "id": "7vy7IeegT05e"
      }
    },
    {
      "cell_type": "code",
      "source": [
        "print(\"a.\")\n",
        "bisTol(lambda x:(x**2)-2,0,4)"
      ],
      "metadata": {
        "colab": {
          "base_uri": "https://localhost:8080/"
        },
        "id": "K_w_5sIBT4Ke",
        "outputId": "499be8c5-1f4a-4ec4-8ae2-c111619249b6"
      },
      "execution_count": null,
      "outputs": [
        {
          "output_type": "stream",
          "name": "stdout",
          "text": [
            "a.\n"
          ]
        },
        {
          "output_type": "execute_result",
          "data": {
            "text/plain": [
              "(1.41796875, 0.00390625)"
            ]
          },
          "metadata": {},
          "execution_count": 7
        }
      ]
    },
    {
      "cell_type": "code",
      "source": [
        "print(\"b.\")\n",
        "bisTol(lambda x:x**5-6*x**3+2*x-2,-1,1)"
      ],
      "metadata": {
        "colab": {
          "base_uri": "https://localhost:8080/"
        },
        "id": "-1qRcfGoUl-3",
        "outputId": "d365fe21-3d21-445e-d475-757325014cfb"
      },
      "execution_count": null,
      "outputs": [
        {
          "output_type": "stream",
          "name": "stdout",
          "text": [
            "b.\n"
          ]
        },
        {
          "output_type": "execute_result",
          "data": {
            "text/plain": [
              "(-0.90234375, 0.00390625)"
            ]
          },
          "metadata": {},
          "execution_count": 8
        }
      ]
    },
    {
      "cell_type": "code",
      "source": [
        "print(\"C.\")\n",
        "bisTol(lambda x:np.cos(x)-x,0,np.pi)"
      ],
      "metadata": {
        "colab": {
          "base_uri": "https://localhost:8080/"
        },
        "id": "Xdp5e3C5Vatd",
        "outputId": "2ce37a74-0d18-4ab1-dba6-fde5bf4d83c4"
      },
      "execution_count": null,
      "outputs": [
        {
          "output_type": "stream",
          "name": "stdout",
          "text": [
            "C.\n"
          ]
        },
        {
          "output_type": "execute_result",
          "data": {
            "text/plain": [
              "(0.739378739760879, 0.003067961575771272)"
            ]
          },
          "metadata": {},
          "execution_count": 10
        }
      ]
    },
    {
      "cell_type": "code",
      "source": [
        "print(\"d.\")\n",
        "bisTol(lambda x:2*np.sin(x)-np.sqrt(x+1),0,2)"
      ],
      "metadata": {
        "colab": {
          "base_uri": "https://localhost:8080/"
        },
        "id": "1tVhgdTFVoeL",
        "outputId": "483544b2-310f-4d46-f065-9ba186747350"
      },
      "execution_count": null,
      "outputs": [
        {
          "output_type": "stream",
          "name": "stdout",
          "text": [
            "d.\n"
          ]
        },
        {
          "output_type": "execute_result",
          "data": {
            "text/plain": [
              "(0.71484375, 0.00390625)"
            ]
          },
          "metadata": {},
          "execution_count": 11
        }
      ]
    },
    {
      "cell_type": "code",
      "source": [
        "#@title Punto 2  { display-mode: \"form\" }\n",
        "\n",
        "import IPython.display as IP\n",
        "\n",
        "iframe = IP.IFrame(\n",
        "  src=\"https://www.geogebra.org/m/hdmjnttu\",\n",
        "  width=\"480px\",\n",
        "  height=\"400px\" \n",
        "  \n",
        "  )\n",
        "\n",
        "IP.display_html(iframe)"
      ],
      "metadata": {
        "colab": {
          "base_uri": "https://localhost:8080/",
          "height": 422
        },
        "id": "3yCNDs39XQsm",
        "outputId": "ab7ba4df-de17-4ada-f87b-09dde2ad6668"
      },
      "execution_count": null,
      "outputs": [
        {
          "output_type": "display_data",
          "data": {
            "text/html": [
              "\n",
              "        <iframe\n",
              "            width=\"480px\"\n",
              "            height=\"400px\"\n",
              "            src=\"https://www.geogebra.org/m/hdmjnttu\"\n",
              "            frameborder=\"0\"\n",
              "            allowfullscreen\n",
              "        ></iframe>\n",
              "        "
            ]
          },
          "metadata": {}
        }
      ]
    },
    {
      "cell_type": "code",
      "source": [
        "print(\"c. Primera raíz\")\n",
        "bisTol(lambda x:x**2-np.cos(x)**2,0,np.pi)"
      ],
      "metadata": {
        "colab": {
          "base_uri": "https://localhost:8080/"
        },
        "id": "Z-opU8TTXjlF",
        "outputId": "288069bc-cf80-46f1-d724-2bc34ade2df2"
      },
      "execution_count": null,
      "outputs": [
        {
          "output_type": "stream",
          "name": "stdout",
          "text": [
            "c. Primera raíz\n"
          ]
        },
        {
          "output_type": "execute_result",
          "data": {
            "text/plain": [
              "(0.739378739760879, 0.003067961575771272)"
            ]
          },
          "metadata": {},
          "execution_count": 9
        }
      ]
    },
    {
      "cell_type": "code",
      "source": [
        "print(\"c. Segunda raíz\")\n",
        "bisTol(lambda x:x**2-np.cos(x)**2,-(np.pi),0)"
      ],
      "metadata": {
        "colab": {
          "base_uri": "https://localhost:8080/"
        },
        "id": "669yG1OOYPlk",
        "outputId": "f44dafb9-2e6c-4337-b3f1-828e9fddb4b7"
      },
      "execution_count": null,
      "outputs": [
        {
          "output_type": "stream",
          "name": "stdout",
          "text": [
            "c. Segunda raíz\n"
          ]
        },
        {
          "output_type": "execute_result",
          "data": {
            "text/plain": [
              "(-0.739378739760879, 0.003067961575771272)"
            ]
          },
          "metadata": {},
          "execution_count": 10
        }
      ]
    },
    {
      "cell_type": "markdown",
      "source": [
        "## Punto 3"
      ],
      "metadata": {
        "id": "da7ECrIrZB3f"
      }
    },
    {
      "cell_type": "markdown",
      "source": [
        "#a."
      ],
      "metadata": {
        "id": "qPVmJun1ZTiv"
      }
    },
    {
      "cell_type": "code",
      "source": [
        "import matplotlib.pyplot as plt\n",
        "import numpy as np\n",
        "\n",
        "f = lambda x: (5000*x + 10000)/x**2\n",
        "g = lambda x: (x**2)\n",
        "\n",
        "x = np.linspace(1,75)\n",
        "plt.plot(x,f(x),label='D(p)')\n",
        "plt.plot(x,g(x),label='S(p)')\n",
        "plt.ylim(0,2000)\n",
        "plt.xlim(0,50)\n",
        "plt.grid()\n",
        "plt.legend(loc=5)\n",
        "plt.show()"
      ],
      "metadata": {
        "id": "iD-z68HwZDU0",
        "colab": {
          "base_uri": "https://localhost:8080/",
          "height": 435
        },
        "outputId": "be17a78c-9a86-4d88-c310-44ce2e8ee2cb"
      },
      "execution_count": null,
      "outputs": [
        {
          "output_type": "display_data",
          "data": {
            "text/plain": [
              "<Figure size 640x480 with 1 Axes>"
            ],
            "image/png": "[encoded data removed]"
          },
          "metadata": {}
        }
      ]
    },
    {
      "cell_type": "markdown",
      "source": [
        "#b."
      ],
      "metadata": {
        "id": "qPydmLgmZW57"
      }
    },
    {
      "cell_type": "code",
      "source": [
        "print(\"b.\")\n",
        "bisTol(lambda x:((10000/x**2) + (5000/x) - ((x**2)/3) - 2*x),20,24,0.00001)"
      ],
      "metadata": {
        "colab": {
          "base_uri": "https://localhost:8080/"
        },
        "id": "K-iZnPusvLD4",
        "outputId": "855ef52c-4fa3-43a6-873c-84c027341304"
      },
      "execution_count": null,
      "outputs": [
        {
          "output_type": "stream",
          "name": "stdout",
          "text": [
            "b.\n"
          ]
        },
        {
          "output_type": "execute_result",
          "data": {
            "text/plain": [
              "(23.492576599121094, 7.62939453125e-06)"
            ]
          },
          "metadata": {},
          "execution_count": 5
        }
      ]
    },
    {
      "cell_type": "markdown",
      "source": [
        "#c."
      ],
      "metadata": {
        "id": "NpQzSAHXFFAv"
      }
    },
    {
      "cell_type": "markdown",
      "source": [
        "Se producen 230unidades"
      ],
      "metadata": {
        "id": "_Tj6bUq0SrbE"
      }
    },
    {
      "cell_type": "markdown",
      "source": [
        "#d."
      ],
      "metadata": {
        "id": "RIB1SQS-Fbeo"
      }
    },
    {
      "cell_type": "markdown",
      "source": [
        "Para el caso en el que los productores sobrepasen el precio de equilibrio, la demandade la gente comenzará a comprar cada vez menos hasta llegar a ser \"0\".\n",
        "Habrá tanta demanda que la oferta no dará abasto para tanto y se romperá el mercado"
      ],
      "metadata": {
        "id": "z8LuIntGXMuY"
      }
    },
    {
      "cell_type": "markdown",
      "source": [
        "#e."
      ],
      "metadata": {
        "id": "hR_69DHmFdQr"
      }
    },
    {
      "cell_type": "markdown",
      "source": [
        "El precio tendería a aumentar y las personas comprarían menos"
      ],
      "metadata": {
        "id": "-8dDjCeCX-PK"
      }
    },
    {
      "cell_type": "markdown",
      "source": [
        "#Punto 4"
      ],
      "metadata": {
        "id": "cQDUMHrYFtDj"
      }
    },
    {
      "cell_type": "code",
      "source": [
        "import numpy as np\n",
        "\n",
        "def rightLimit(f,n): \n",
        "  x = np.linspace(n+0.01, n, 1000,False)\n",
        "  y = f(x) \n",
        "  return y[-5:]\n",
        "\n",
        "def leftLimit(f,n):\n",
        "  x = np.linspace(n-0.01, n, 1000,False)\n",
        "  y = f(x)\n",
        "  return y[-5:]\n",
        "\n",
        "def evalLimit(func, tendency):\n",
        "  rightValue = rightLimit(func,tendency)\n",
        "  leftValue = leftLimit(func,tendency)\n",
        "  validation = np.abs(rightValue[-1] - leftValue[-1])\n",
        "  if validation > 0.001:\n",
        "    return \"The limit not exist\"\n",
        "  return f\"The limit exist\\nLeft limit: {leftValue}\\nRight limit: {rightValue}\""
      ],
      "metadata": {
        "id": "wwEgYNmSZk_X"
      },
      "execution_count": null,
      "outputs": []
    },
    {
      "cell_type": "markdown",
      "source": [
        "## b."
      ],
      "metadata": {
        "id": "FpdSfuGgF52r"
      }
    },
    {
      "cell_type": "markdown",
      "source": [
        "$$\n",
        "\\lim_{x\\rightarrow 0} \\left( \\frac{\\sqrt[3]{x+1}-1}{x} \\right)\n",
        "\\\\ \\to \\lim_{x\\rightarrow 0} \\left( \\frac{\\sqrt[3]{x+1}-1}{x} \\right)\\left( \\frac{1 +\\sqrt[3]{x+1}+(x+2)^{\\frac{2}{3}}} {1 +\\sqrt[3]{x+1}+(x+1)^{\\frac{2}{3}}} \\right)\n",
        "\\\\ \\to \\lim_{x\\rightarrow 0} \\frac{1}{1+\\sqrt[3]{x+1}+(x+1)^{\\frac{2}{3}}}\n",
        "\\\\ \\frac{1}{1+\\sqrt[3]{0+1}+(0+1)^{\\frac{2}{3}}}\n",
        "\\\\ = \\frac{1}{3} \\: \\blacksquare\n",
        "$$"
      ],
      "metadata": {
        "id": "VTRCynMSfVFh"
      }
    },
    {
      "cell_type": "code",
      "source": [
        "a = lambda x: ((x+1)**(1/3) - 1)/x\n",
        "print(evalLimit(a,0))"
      ],
      "metadata": {
        "colab": {
          "base_uri": "https://localhost:8080/"
        },
        "id": "cWS1NyFRZkEB",
        "outputId": "521714f4-89da-45e0-f013-25bd0223ee13"
      },
      "execution_count": null,
      "outputs": [
        {
          "output_type": "stream",
          "name": "stdout",
          "text": [
            "The limit exist\n",
            "Left limit: [0.33333889 0.33333778 0.33333667 0.33333556 0.33333444]\n",
            "Right limit: [0.33332778 0.33332889 0.33333    0.33333111 0.33333222]\n"
          ]
        }
      ]
    },
    {
      "cell_type": "code",
      "source": [
        "import matplotlib.pyplot as plt\n",
        "\n",
        "x = np.linspace(-5,0,500)\n",
        "y = np.linspace(0,5,500)\n",
        "plt.plot(x,a(x),label='limit x->0')\n",
        "plt.plot(y,a(y))\n",
        "plt.ylim(-1,1)\n",
        "plt.xlim(-1,1)\n",
        "plt.grid()\n",
        "plt.legend(loc=5)\n",
        "plt.show()"
      ],
      "metadata": {
        "colab": {
          "base_uri": "https://localhost:8080/",
          "height": 504
        },
        "id": "DINOllQvadvd",
        "outputId": "d3df3c64-0bba-4e1d-89e8-882bdccac96b"
      },
      "execution_count": null,
      "outputs": [
        {
          "output_type": "stream",
          "name": "stderr",
          "text": [
            "<ipython-input-26-ab14114ccb98>:1: RuntimeWarning: invalid value encountered in power\n",
            "  a = lambda x: ((x+1)**(1/3) - 1)/x\n",
            "<ipython-input-26-ab14114ccb98>:1: RuntimeWarning: invalid value encountered in true_divide\n",
            "  a = lambda x: ((x+1)**(1/3) - 1)/x\n"
          ]
        },
        {
          "output_type": "display_data",
          "data": {
            "text/plain": [
              "<Figure size 640x480 with 1 Axes>"
            ],
            "image/png": "[encoded data removed]"
          },
          "metadata": {}
        }
      ]
    },
    {
      "cell_type": "markdown",
      "source": [
        "Con esto observamosque los limites laterales coinciden en 1/3, por lo tanto ese es el valor de L"
      ],
      "metadata": {
        "id": "nt2-5lOkb9J0"
      }
    },
    {
      "cell_type": "markdown",
      "source": [
        "##c."
      ],
      "metadata": {
        "id": "opdFjUiKF9q0"
      }
    },
    {
      "cell_type": "markdown",
      "source": [
        "$$\n",
        "\\lim_{x\\rightarrow 0^+} \\left( x - \\frac{1}{x^3} \\right) \n",
        "\\\\ \\to \\lim_{x\\rightarrow 0^+} (x) - \\lim_{x\\rightarrow 0^+} \\left(\\frac{1}{x^3} \\right)\n",
        "\\\\ 0 - \\lim_{x\\rightarrow 0^+} \\left(\\frac{1}{x^3} \\right)\n",
        "\\\\ 0 - \\infty\n",
        "\\\\ -\\infty \\: \\blacksquare\n",
        "$$"
      ],
      "metadata": {
        "id": "0biBZ-UhgxjT"
      }
    },
    {
      "cell_type": "code",
      "source": [
        "b = lambda x: (x - (1/x**3))\n",
        "print(evalLimit(b,0))"
      ],
      "metadata": {
        "colab": {
          "base_uri": "https://localhost:8080/"
        },
        "id": "7K-akD0Jg2B_",
        "outputId": "33cb582c-bb23-40ed-f9ca-15aa9d14a359"
      },
      "execution_count": null,
      "outputs": [
        {
          "output_type": "stream",
          "name": "stdout",
          "text": [
            "The limit not exist\n"
          ]
        }
      ]
    },
    {
      "cell_type": "code",
      "source": [
        "import matplotlib.pyplot as plt\n",
        "\n",
        "y = np.linspace(0,5,500)\n",
        "plt.plot(y,b(y),label='limit x->0+')\n",
        "plt.ylim(-5000,0)\n",
        "plt.xlim(0,1)\n",
        "plt.grid()\n",
        "plt.legend(loc=5)\n",
        "plt.show()"
      ],
      "metadata": {
        "colab": {
          "base_uri": "https://localhost:8080/",
          "height": 470
        },
        "id": "YjCokt8LhHsu",
        "outputId": "37764354-e5dc-45e6-fe55-750718b5fe10"
      },
      "execution_count": null,
      "outputs": [
        {
          "output_type": "stream",
          "name": "stderr",
          "text": [
            "<ipython-input-28-16bca45ecea1>:1: RuntimeWarning: divide by zero encountered in true_divide\n",
            "  b = lambda x: (x - (1/x**3))\n"
          ]
        },
        {
          "output_type": "display_data",
          "data": {
            "text/plain": [
              "<Figure size 640x480 with 1 Axes>"
            ],
            "image/png": "[encoded data removed]"
          },
          "metadata": {}
        }
      ]
    },
    {
      "cell_type": "markdown",
      "source": [
        "#Punto 5"
      ],
      "metadata": {
        "id": "5VR2mhM0GAhE"
      }
    },
    {
      "cell_type": "markdown",
      "source": [
        "Sabemos que una de las razones para que haya una discontinuidad en un punto es que esta no este definida por tanto buscaremos un valor de b en el denominador para cual el resultado evualdo en 2 sea 0 y asi indeterminar la funcion.\n",
        "\n",
        "$$x^{3}+bx^{2}+8x-4=0\n",
        "\\\\\\\n",
        "(2)^{3}+b(2)^{2}+8(2)-4=0\n",
        "\\\\\\\n",
        "8+4b+16-4=0\n",
        "\\\\\\\n",
        "4b=-20\n",
        "\\\\\\\n",
        "b=-5\n",
        "$$\n",
        "\n",
        "Al reemplazar b con -5 podemos factorizar el denominador de la forma \n",
        "\n",
        "$$\n",
        "(x-1)(x-2)^{2}\n",
        "$$\n",
        "\n",
        "Como vemos en el applet de geogebra la funcion presenta discontidnuidad en 1 y 2, ya que en estos puntos se indetermina, no hay limite en niguno de estos ya que son asintotas y por tanto en 1 tendera a $\\infty$ por izquierda y a -$\\infty$ por derecha, y en 2 tenedera  a $\\infty$ por ambos lados.\n"
      ],
      "metadata": {
        "id": "KUvMjIo8H-Gp"
      }
    },
    {
      "cell_type": "code",
      "source": [
        "#@title Punto 5  { display-mode: \"form\" }\n",
        "\n",
        "import IPython.display as IP\n",
        "\n",
        "iframe = IP.IFrame(\n",
        "  src=\"https://www.geogebra.org/m/mk4envrt\",\n",
        "  width=\"480px\",\n",
        "  height=\"400px\" \n",
        "  \n",
        "  )\n",
        "\n",
        "IP.display_html(iframe)"
      ],
      "metadata": {
        "id": "dh3hHncSHB8O",
        "colab": {
          "base_uri": "https://localhost:8080/",
          "height": 422
        },
        "outputId": "de68df6b-da5d-4119-84a4-588c5ac2be06"
      },
      "execution_count": null,
      "outputs": [
        {
          "output_type": "display_data",
          "data": {
            "text/html": [
              "\n",
              "        <iframe\n",
              "            width=\"480px\"\n",
              "            height=\"400px\"\n",
              "            src=\"https://www.geogebra.org/m/mk4envrt\"\n",
              "            frameborder=\"0\"\n",
              "            allowfullscreen\n",
              "            \n",
              "        ></iframe>\n",
              "        "
            ]
          },
          "metadata": {}
        }
      ]
    },
    {
      "cell_type": "markdown",
      "source": [
        "#Punto 6"
      ],
      "metadata": {
        "id": "m9m-c5w1GEqh"
      }
    },
    {
      "cell_type": "code",
      "source": [
        "bisTol(lambda x:x-2**(-x),0,4,0.00001)"
      ],
      "metadata": {
        "colab": {
          "base_uri": "https://localhost:8080/"
        },
        "id": "0HNDfgy8RprH",
        "outputId": "7fca4b7a-2455-429b-e4be-ebb7fafc2b6f"
      },
      "execution_count": null,
      "outputs": [
        {
          "output_type": "execute_result",
          "data": {
            "text/plain": [
              "(0.6411819458007812, 7.62939453125e-06)"
            ]
          },
          "metadata": {},
          "execution_count": 4
        }
      ]
    },
    {
      "cell_type": "markdown",
      "source": [
        "#Punto 7"
      ],
      "metadata": {
        "id": "O-k3GFWzGJhW"
      }
    },
    {
      "cell_type": "code",
      "source": [
        "#@title Punto 7  { display-mode: \"form\" }\n",
        "\n",
        "import IPython.display as IP\n",
        "\n",
        "iframe = IP.IFrame(\n",
        "  src=\"https://www.geogebra.org/m/rem57gfj\",\n",
        "  width=\"480px\",\n",
        "  height=\"400px\" \n",
        "  \n",
        "  )\n",
        "\n",
        "IP.display_html(iframe)"
      ],
      "metadata": {
        "colab": {
          "base_uri": "https://localhost:8080/",
          "height": 422
        },
        "id": "eUnO9XKyXpXl",
        "outputId": "9741ed42-5ba3-47b2-fbda-0ba0b32bf6d2"
      },
      "execution_count": null,
      "outputs": [
        {
          "output_type": "display_data",
          "data": {
            "text/html": [
              "\n",
              "        <iframe\n",
              "            width=\"480px\"\n",
              "            height=\"400px\"\n",
              "            src=\"https://www.geogebra.org/m/rem57gfj\"\n",
              "            frameborder=\"0\"\n",
              "            allowfullscreen\n",
              "            \n",
              "        ></iframe>\n",
              "        "
            ]
          },
          "metadata": {}
        }
      ]
    },
    {
      "cell_type": "markdown",
      "source": [
        "Geométricamente podemos observar que la única raíz de la ecuación es x=0.7, sin embargo al intentar probar lo mismo análiticamente obtenemos que: \n",
        "\n",
        "$$\\frac{x}{2}e^{\\frac{x}{2}}-\\frac{1}{2}=0\n",
        "\\\\\\\\ \\frac{x\\sqrt{e^{x}}-1}{2}=0\n",
        "\\\\\\\\ \\frac{x\\sqrt{e^{x}}}{x}=\\frac{1}{x}\n",
        "\\\\\\\\ (\\sqrt{e^{x}})^{2}=(\\frac{1}{x})^2\n",
        "\\\\\\\\ ln(\\frac{1}{x^2})=x\n",
        "\\\\\\\\ ln(x^{-2})=x\n",
        "\\\\\\\\ ln(x)=-\\frac{x}{2}\n",
        "\\\\\\\\ e^{-\\frac{x}{2}}=x $$\n",
        "\n",
        "Aquí es complicado despejar esta x, lo que nos lleva al punto b (el encontrar su valor mediante la bisección)"
      ],
      "metadata": {
        "id": "h8w5yyaxX1lN"
      }
    },
    {
      "cell_type": "code",
      "source": [
        "print(\"b.\")\n",
        "biseccion(lambda x:m.e**(-x/2)-x,-1,1,4)"
      ],
      "metadata": {
        "colab": {
          "base_uri": "https://localhost:8080/"
        },
        "id": "Y3CTmZ0yTDAk",
        "outputId": "c793249e-3a39-4ec3-ca89-461c52f92edf"
      },
      "execution_count": null,
      "outputs": [
        {
          "output_type": "stream",
          "name": "stdout",
          "text": [
            "b.\n"
          ]
        },
        {
          "output_type": "execute_result",
          "data": {
            "text/plain": [
              "(0.625, 0.125)"
            ]
          },
          "metadata": {},
          "execution_count": 16
        }
      ]
    },
    {
      "cell_type": "markdown",
      "source": [
        "Al ser 4 iteraciones únicamente no da un valor tan acercado al real, por lo que el error es de 0.075"
      ],
      "metadata": {
        "id": "u8MvFtYCX9Zh"
      }
    },
    {
      "cell_type": "code",
      "source": [
        "print(\"c.\")\n",
        "numIterations(-1,1,0.000001)"
      ],
      "metadata": {
        "colab": {
          "base_uri": "https://localhost:8080/"
        },
        "id": "fdYbeMN-V8pH",
        "outputId": "eafa06d0-2931-456d-c6e3-0735d82a5309"
      },
      "execution_count": null,
      "outputs": [
        {
          "output_type": "stream",
          "name": "stdout",
          "text": [
            "c.\n"
          ]
        },
        {
          "output_type": "execute_result",
          "data": {
            "text/plain": [
              "21.0"
            ]
          },
          "metadata": {},
          "execution_count": 9
        }
      ]
    },
    {
      "cell_type": "markdown",
      "source": [
        "A partir de 21 iteraciones el error es menor a $10^{-6}$"
      ],
      "metadata": {
        "id": "o-ljQFgCYDpT"
      }
    }
  ]
}