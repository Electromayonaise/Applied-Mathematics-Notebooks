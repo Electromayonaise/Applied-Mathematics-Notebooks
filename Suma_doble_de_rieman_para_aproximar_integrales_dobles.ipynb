{
  "nbformat": 4,
  "nbformat_minor": 0,
  "metadata": {
    "colab": {
      "provenance": [],
      "authorship_tag": "ABX9TyP6f339sEo4YgevBlpoTvWo",
      "include_colab_link": true
    },
    "kernelspec": {
      "name": "python3",
      "display_name": "Python 3"
    },
    "language_info": {
      "name": "python"
    }
  },
  "cells": [
    {
      "cell_type": "markdown",
      "metadata": {
        "id": "view-in-github",
        "colab_type": "text"
      },
      "source": [
        "<a href=\"https://colab.research.google.com/github/Electromayonaise/Applied-Mathematics-Notebooks/blob/main/Suma_doble_de_rieman_para_aproximar_integrales_dobles.ipynb\" target=\"_parent\"><img src=\"https://colab.research.google.com/assets/colab-badge.svg\" alt=\"Open In Colab\"/></a>"
      ]
    },
    {
      "cell_type": "markdown",
      "source": [
        "# Suma doble de rieman para aproximar integrales dobles"
      ],
      "metadata": {
        "id": "Pi0Zp_mUMk-V"
      }
    },
    {
      "cell_type": "code",
      "execution_count": null,
      "metadata": {
        "colab": {
          "base_uri": "https://localhost:8080/"
        },
        "id": "_29YSF1iMjt4",
        "outputId": "621df582-0316-4efd-f4e0-9dc564b7cd13"
      },
      "outputs": [
        {
          "output_type": "stream",
          "name": "stdout",
          "text": [
            "0.6611864801252094\n"
          ]
        }
      ],
      "source": [
        "\n",
        "\n",
        "def double_riemann_sum(f, a, b, c, d, n, m):\n",
        "  \"\"\"\n",
        "  Aproxima la integral doble de f(x,y) sobre el rectángulo [a,b]x[c,d]\n",
        "  utilizando una suma doble de Riemann con n particiones en el eje x\n",
        "  y m particiones en el eje y.\n",
        "\n",
        "  Args:\n",
        "    f: La función a integrar.\n",
        "    a: El límite inferior de integración en el eje x.\n",
        "    b: El límite superior de integración en el eje x.\n",
        "    c: El límite inferior de integración en el eje y.\n",
        "    d: El límite superior de integración en el eje y.\n",
        "    n: El número de particiones en el eje x.\n",
        "    m: El número de particiones en el eje y.\n",
        "\n",
        "  Returns:\n",
        "    La aproximación de la integral doble.\n",
        "  \"\"\"\n",
        "  dx = (b - a) / n\n",
        "  dy = (d - c) / m\n",
        "  sum = 0\n",
        "  for i in range(n):\n",
        "    for j in range(m):\n",
        "      x = a + i * dx\n",
        "      y = c + j * dy\n",
        "      sum += f(x, y)\n",
        "  return (sum * dx * dy)\n",
        "\n",
        "# Ejemplo de uso\n",
        "def f(x, y):\n",
        "  return x**2 + y**2\n",
        "\n",
        "a = 0\n",
        "b = 1\n",
        "c = 0\n",
        "d = 1\n",
        "n = 100\n",
        "m = 1006\n",
        "\n",
        "approximation = double_riemann_sum(f, a, b, c, d, n, m)\n",
        "print(approximation)"
      ]
    },
    {
      "cell_type": "code",
      "source": [
        "def f(x,y):\n",
        "  return 1+x\n",
        "\n",
        "a,b,c,d= 0,2,0,2\n",
        "n=50\n",
        "m=100\n",
        "dx=(b-a)/n\n",
        "dy=(d-c)/m\n",
        "sum=0\n",
        "for j in range(m):\n",
        "  for i in range(n):\n",
        "    x=a+i*dx\n",
        "    y=c+j*dy\n",
        "    sum+=f(x,y)*dx*dy\n",
        "print(sum)"
      ],
      "metadata": {
        "colab": {
          "base_uri": "https://localhost:8080/"
        },
        "id": "xJhIaBEOUIZ-",
        "outputId": "56ebe528-8a79-47e2-b323-51a47a908452"
      },
      "execution_count": null,
      "outputs": [
        {
          "output_type": "stream",
          "name": "stdout",
          "text": [
            "7.920000000000056\n"
          ]
        }
      ]
    },
    {
      "cell_type": "markdown",
      "source": [
        "**Ejemplo 1**\n",
        "\n",
        "Aproxime la integral doble usando la esquina superior derecha de cada subrectangulo\n",
        "\n",
        "$$\\int\\int_R (1+x) dA$$\n",
        "\n",
        "donde $R = [0,2]\\times[0,2]$"
      ],
      "metadata": {
        "id": "zocV8HipigWW"
      }
    },
    {
      "cell_type": "code",
      "source": [
        "def f(x,y):\n",
        "  return 1+x\n",
        "\n",
        "a,b,c,d= 0,2,0,2\n",
        "n=1000\n",
        "m=2000\n",
        "dx=(b-a)/n\n",
        "dy=(d-c)/m\n",
        "sum=0\n",
        "for j in range(1, m+1):\n",
        "  for i in range(1,n+1):\n",
        "    sum += f(a+i*dx,c+j*dy)\n",
        "print(sum*dx*dy)"
      ],
      "metadata": {
        "colab": {
          "base_uri": "https://localhost:8080/"
        },
        "id": "9sFG6C_EU8O0",
        "outputId": "2db0e25e-6f21-45a9-a1ca-dd6edfddc193"
      },
      "execution_count": 9,
      "outputs": [
        {
          "output_type": "stream",
          "name": "stdout",
          "text": [
            "8.004\n"
          ]
        }
      ]
    },
    {
      "cell_type": "code",
      "source": [
        "# Aproximacion de la integral doble usando la esquina enferior derecha\n",
        "sum = 0\n",
        "for j in range(m):\n",
        "  for i in range(1, n+1):\n",
        "    sum += f(a+i*dx,c+j*dy)\n",
        "print(sum*dx*dy)"
      ],
      "metadata": {
        "colab": {
          "base_uri": "https://localhost:8080/"
        },
        "id": "EPW87qShjb9g",
        "outputId": "d64b3b50-cda4-449b-b359-39b8356df6c0"
      },
      "execution_count": 8,
      "outputs": [
        {
          "output_type": "stream",
          "name": "stdout",
          "text": [
            "8.004\n"
          ]
        }
      ]
    },
    {
      "cell_type": "markdown",
      "source": [
        "$$ \\int\\int_R \\sin(x/y)dA $$\n",
        "\n",
        "$R = [0,\\pi/2]\\times[0,\\pi/2]$\n",
        "\n",
        "Por ejemplo esta integral, se podría calcular dependiendo de la esquina en la que se empieze, pues y no puede ser 0, más x si puede serlo"
      ],
      "metadata": {
        "id": "UgKo39b7khf5"
      }
    },
    {
      "cell_type": "markdown",
      "source": [
        "$$ \\int\\int_R \\sin(xy)dA $$\n",
        "\n",
        "$R = [0,\\pi/2]\\times[0,\\pi/2]$"
      ],
      "metadata": {
        "id": "cY9RK4KvmAr2"
      }
    },
    {
      "cell_type": "code",
      "source": [
        "from math import sin, pi\n",
        "\n",
        "def f(x,y):\n",
        "  return sin(x*y)\n",
        "\n",
        "a,b,c,d= 0,pi/2,0,pi/2\n",
        "n=1000\n",
        "m=2000\n",
        "dx=(b-a)/n\n",
        "dy=(d-c)/m\n",
        "sum=0\n",
        "for j in range(1, m+1):\n",
        "  for i in range(1,n+1):\n",
        "    sum += f(a+i*dx,c+j*dy)\n",
        "print(sum*dx*dy)"
      ],
      "metadata": {
        "colab": {
          "base_uri": "https://localhost:8080/"
        },
        "id": "h2NDBBN8mIxO",
        "outputId": "d9dc8f47-2268-4b53-c3e5-3da3c5616179"
      },
      "execution_count": 12,
      "outputs": [
        {
          "output_type": "stream",
          "name": "stdout",
          "text": [
            "1.1854605422679407\n"
          ]
        }
      ]
    },
    {
      "cell_type": "markdown",
      "source": [
        "$$ \\int\\int_R \\sqrt(xy) dA $$\n",
        "\n",
        "$R = [0,4]\\times[0,9]$"
      ],
      "metadata": {
        "id": "t8pSSTC4mai3"
      }
    },
    {
      "cell_type": "code",
      "source": [
        "import math\n",
        "def f(x,y):\n",
        "  return math.sqrt(x*y)\n",
        "\n",
        "a,b,c,d= 0,4,0,9\n",
        "n=1000\n",
        "m=200\n",
        "dx=(b-a)/n\n",
        "dy=(d-c)/m\n",
        "sum=0\n",
        "for j in range(1, m+1):\n",
        "  for i in range(1,n+1):\n",
        "    sum += f(a+i*dx,c+j*dy)\n",
        "print(sum*dx*dy)"
      ],
      "metadata": {
        "colab": {
          "base_uri": "https://localhost:8080/"
        },
        "id": "GyZTru3bmusB",
        "outputId": "b78a5298-cd33-44aa-f4cf-c04c127172ad"
      },
      "execution_count": 13,
      "outputs": [
        {
          "output_type": "stream",
          "name": "stdout",
          "text": [
            "96.42088426339568\n"
          ]
        }
      ]
    },
    {
      "cell_type": "markdown",
      "source": [
        "## Recuerde entonces que\n",
        "\n",
        "Si $f(x,y) > 0$ para todo $(x,y)\\in R$ entonces\n",
        "\n",
        "$$\\int \\int_R f(x,y) dA$$\n",
        "\n",
        "Es volumen."
      ],
      "metadata": {
        "id": "wQiQNYE8n74G"
      }
    },
    {
      "source": [
        "# Codigo en el que se digita la función, el valor de a,b,c,d y arroja la aproximación de la integral doble\n",
        "\n",
        "import math\n",
        "\n",
        "def double_riemann_sum(f, a, b, c, d, n, m):\n",
        "  \"\"\"\n",
        "  Aproxima la integral doble de f(x,y) sobre el rectángulo [a,b]x[c,d]\n",
        "  utilizando una suma doble de Riemann con n particiones en el eje x\n",
        "  y m particiones en el eje y.\n",
        "\n",
        "  Args:\n",
        "    f: La función a integrar.\n",
        "    a: El límite inferior de integración en el eje x.\n",
        "    b: El límite superior de integración en el eje x.\n",
        "    c: El límite inferior de integración en el eje y.\n",
        "    d: El límite superior de integración en el eje y.\n",
        "    n: El número de particiones en el eje x.\n",
        "    m: El número de particiones en el eje y.\n",
        "\n",
        "  Returns:\n",
        "    La aproximación de la integral doble.\n",
        "  \"\"\"\n",
        "  dx = (b - a) / n\n",
        "  dy = (d - c) / m\n",
        "  sum = 0\n",
        "  for j in range(1, m + 1):\n",
        "    for i in range(1, n + 1):\n",
        "      sum += f(a + i * dx, c + j * dy)\n",
        "  return sum * dx * dy\n",
        "\n",
        "# Pedir al usuario la función\n",
        "func_str = input(\"Ingrese la función f(x, y) (ejemplo: math.sqrt(x*y)): \")\n",
        "f = eval(\"lambda x, y: \" + func_str)  # Convertir la entrada a una función\n",
        "\n",
        "# Pedir al usuario los límites de integración\n",
        "a = float(input(\"Ingrese el límite inferior de integración en el eje x (a): \"))\n",
        "b = float(input(\"Ingrese el límite superior de integración en el eje x (b): \"))\n",
        "c = float(input(\"Ingrese el límite inferior de integración en el eje y (c): \"))\n",
        "d = float(input(\"Ingrese el límite superior de integración en el eje y (d): \"))\n",
        "\n",
        "# Pedir al usuario el número de particiones\n",
        "n = int(input(\"Ingrese el número de particiones en el eje x (n): \"))\n",
        "m = int(input(\"Ingrese el número de particiones en el eje y (m): \"))\n",
        "\n",
        "# Calcular la aproximación de la integral doble\n",
        "approximation = double_riemann_sum(f, a, b, c, d, n, m)\n",
        "\n",
        "print(\"La aproximación de la integral doble es:\", approximation)"
      ],
      "cell_type": "code",
      "metadata": {
        "colab": {
          "base_uri": "https://localhost:8080/"
        },
        "id": "1uMBWITUn2S3",
        "outputId": "2419801e-1a5f-45b6-c787-ee15722195be"
      },
      "execution_count": 15,
      "outputs": [
        {
          "output_type": "stream",
          "name": "stdout",
          "text": [
            "Ingrese la función f(x, y) (ejemplo: math.sqrt(x*y)): math.sqrt(x*y)\n",
            "Ingrese el límite inferior de integración en el eje x (a): 0\n",
            "Ingrese el límite superior de integración en el eje x (b): 4\n",
            "Ingrese el límite inferior de integración en el eje y (c): 0\n",
            "Ingrese el límite superior de integración en el eje y (d): 9\n",
            "Ingrese el número de particiones en el eje x (n): 200\n",
            "Ingrese el número de particiones en el eje y (m): 500\n",
            "La aproximación de la integral doble es: 96.49142732527882\n"
          ]
        }
      ]
    },
    {
      "cell_type": "markdown",
      "source": [
        "## Si se quisiera hacer a partir del punto medio en lugar de una esquina\n",
        "\n",
        "Se debe hacer $x_0+ \\frac{Δ}{2}$"
      ],
      "metadata": {
        "id": "IxtjPXQypw3m"
      }
    },
    {
      "cell_type": "code",
      "source": [
        "for j in range(m):\n",
        "  y=c+(j+0.5)*dy\n",
        "  for i in range(n):\n",
        "    x=a+(i+0.5)*dx\n",
        "    s+=f(a+i*dx,y)\n",
        "print(sum*dx*dy)\n"
      ],
      "metadata": {
        "id": "jTNVvJ75pk9e"
      },
      "execution_count": null,
      "outputs": []
    }
  ]
}